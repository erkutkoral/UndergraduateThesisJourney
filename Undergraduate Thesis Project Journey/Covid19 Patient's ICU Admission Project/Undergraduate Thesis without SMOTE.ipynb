{
 "cells": [
  {
   "cell_type": "code",
   "execution_count": 1,
   "id": "29a75da6-0cec-4803-90ac-e361e935e30d",
   "metadata": {},
   "outputs": [],
   "source": [
    "import pandas as pd"
   ]
  },
  {
   "cell_type": "code",
   "execution_count": 2,
   "id": "74e7d160-ccb5-428d-a540-a7da5de56227",
   "metadata": {},
   "outputs": [
    {
     "data": {
      "text/html": [
       "<div>\n",
       "<style scoped>\n",
       "    .dataframe tbody tr th:only-of-type {\n",
       "        vertical-align: middle;\n",
       "    }\n",
       "\n",
       "    .dataframe tbody tr th {\n",
       "        vertical-align: top;\n",
       "    }\n",
       "\n",
       "    .dataframe thead th {\n",
       "        text-align: right;\n",
       "    }\n",
       "</style>\n",
       "<table border=\"1\" class=\"dataframe\">\n",
       "  <thead>\n",
       "    <tr style=\"text-align: right;\">\n",
       "      <th></th>\n",
       "      <th>sex</th>\n",
       "      <th>patient_type</th>\n",
       "      <th>entry_date</th>\n",
       "      <th>date_symptoms</th>\n",
       "      <th>date_died</th>\n",
       "      <th>age</th>\n",
       "      <th>covid_res</th>\n",
       "      <th>intubed</th>\n",
       "      <th>pneumonia</th>\n",
       "      <th>pregnancy</th>\n",
       "      <th>...</th>\n",
       "      <th>asthma</th>\n",
       "      <th>inmsupr</th>\n",
       "      <th>hypertension</th>\n",
       "      <th>other_disease</th>\n",
       "      <th>cardiovascular</th>\n",
       "      <th>obesity</th>\n",
       "      <th>renal_chronic</th>\n",
       "      <th>tobacco</th>\n",
       "      <th>contact_other_covid</th>\n",
       "      <th>icu</th>\n",
       "    </tr>\n",
       "  </thead>\n",
       "  <tbody>\n",
       "    <tr>\n",
       "      <th>0</th>\n",
       "      <td>Male</td>\n",
       "      <td>Outpatient</td>\n",
       "      <td>04-05-2020</td>\n",
       "      <td>02-05-2020</td>\n",
       "      <td>9999-99-99</td>\n",
       "      <td>27</td>\n",
       "      <td>Positive</td>\n",
       "      <td>NaN</td>\n",
       "      <td>No</td>\n",
       "      <td>NaN</td>\n",
       "      <td>...</td>\n",
       "      <td>No</td>\n",
       "      <td>No</td>\n",
       "      <td>No</td>\n",
       "      <td>No</td>\n",
       "      <td>No</td>\n",
       "      <td>No</td>\n",
       "      <td>No</td>\n",
       "      <td>No</td>\n",
       "      <td>No</td>\n",
       "      <td>NaN</td>\n",
       "    </tr>\n",
       "    <tr>\n",
       "      <th>1</th>\n",
       "      <td>Male</td>\n",
       "      <td>Outpatient</td>\n",
       "      <td>19-03-2020</td>\n",
       "      <td>17-03-2020</td>\n",
       "      <td>9999-99-99</td>\n",
       "      <td>24</td>\n",
       "      <td>Positive</td>\n",
       "      <td>NaN</td>\n",
       "      <td>No</td>\n",
       "      <td>NaN</td>\n",
       "      <td>...</td>\n",
       "      <td>No</td>\n",
       "      <td>No</td>\n",
       "      <td>No</td>\n",
       "      <td>No</td>\n",
       "      <td>No</td>\n",
       "      <td>No</td>\n",
       "      <td>No</td>\n",
       "      <td>No</td>\n",
       "      <td>NaN</td>\n",
       "      <td>NaN</td>\n",
       "    </tr>\n",
       "    <tr>\n",
       "      <th>2</th>\n",
       "      <td>Female</td>\n",
       "      <td>Inpatient</td>\n",
       "      <td>06-04-2020</td>\n",
       "      <td>01-04-2020</td>\n",
       "      <td>9999-99-99</td>\n",
       "      <td>54</td>\n",
       "      <td>Positive</td>\n",
       "      <td>No</td>\n",
       "      <td>No</td>\n",
       "      <td>No</td>\n",
       "      <td>...</td>\n",
       "      <td>No</td>\n",
       "      <td>No</td>\n",
       "      <td>No</td>\n",
       "      <td>No</td>\n",
       "      <td>No</td>\n",
       "      <td>Yes</td>\n",
       "      <td>No</td>\n",
       "      <td>No</td>\n",
       "      <td>NaN</td>\n",
       "      <td>No</td>\n",
       "    </tr>\n",
       "    <tr>\n",
       "      <th>3</th>\n",
       "      <td>Male</td>\n",
       "      <td>Inpatient</td>\n",
       "      <td>17-04-2020</td>\n",
       "      <td>10-04-2020</td>\n",
       "      <td>9999-99-99</td>\n",
       "      <td>30</td>\n",
       "      <td>Positive</td>\n",
       "      <td>No</td>\n",
       "      <td>Yes</td>\n",
       "      <td>NaN</td>\n",
       "      <td>...</td>\n",
       "      <td>No</td>\n",
       "      <td>No</td>\n",
       "      <td>No</td>\n",
       "      <td>No</td>\n",
       "      <td>No</td>\n",
       "      <td>No</td>\n",
       "      <td>No</td>\n",
       "      <td>No</td>\n",
       "      <td>NaN</td>\n",
       "      <td>No</td>\n",
       "    </tr>\n",
       "    <tr>\n",
       "      <th>4</th>\n",
       "      <td>Female</td>\n",
       "      <td>Inpatient</td>\n",
       "      <td>13-04-2020</td>\n",
       "      <td>13-04-2020</td>\n",
       "      <td>22-04-2020</td>\n",
       "      <td>60</td>\n",
       "      <td>Positive</td>\n",
       "      <td>No</td>\n",
       "      <td>No</td>\n",
       "      <td>No</td>\n",
       "      <td>...</td>\n",
       "      <td>No</td>\n",
       "      <td>No</td>\n",
       "      <td>Yes</td>\n",
       "      <td>No</td>\n",
       "      <td>Yes</td>\n",
       "      <td>No</td>\n",
       "      <td>No</td>\n",
       "      <td>No</td>\n",
       "      <td>NaN</td>\n",
       "      <td>No</td>\n",
       "    </tr>\n",
       "  </tbody>\n",
       "</table>\n",
       "<p>5 rows × 22 columns</p>\n",
       "</div>"
      ],
      "text/plain": [
       "      sex patient_type  entry_date date_symptoms   date_died  age covid_res  \\\n",
       "0    Male   Outpatient  04-05-2020    02-05-2020  9999-99-99   27  Positive   \n",
       "1    Male   Outpatient  19-03-2020    17-03-2020  9999-99-99   24  Positive   \n",
       "2  Female    Inpatient  06-04-2020    01-04-2020  9999-99-99   54  Positive   \n",
       "3    Male    Inpatient  17-04-2020    10-04-2020  9999-99-99   30  Positive   \n",
       "4  Female    Inpatient  13-04-2020    13-04-2020  22-04-2020   60  Positive   \n",
       "\n",
       "  intubed pneumonia pregnancy  ... asthma inmsupr hypertension other_disease  \\\n",
       "0     NaN        No       NaN  ...     No      No           No            No   \n",
       "1     NaN        No       NaN  ...     No      No           No            No   \n",
       "2      No        No        No  ...     No      No           No            No   \n",
       "3      No       Yes       NaN  ...     No      No           No            No   \n",
       "4      No        No        No  ...     No      No          Yes            No   \n",
       "\n",
       "  cardiovascular obesity renal_chronic tobacco contact_other_covid  icu  \n",
       "0             No      No            No      No                  No  NaN  \n",
       "1             No      No            No      No                 NaN  NaN  \n",
       "2             No     Yes            No      No                 NaN   No  \n",
       "3             No      No            No      No                 NaN   No  \n",
       "4            Yes      No            No      No                 NaN   No  \n",
       "\n",
       "[5 rows x 22 columns]"
      ]
     },
     "execution_count": 2,
     "metadata": {},
     "output_type": "execute_result"
    }
   ],
   "source": [
    "covid = pd.read_csv(\"C:/Users/Erkut/Desktop/tez uygulama/covid1.csv\")\n",
    "df = covid.copy()\n",
    "df.head()"
   ]
  },
  {
   "cell_type": "markdown",
   "id": "3b2a2c81-64a4-46f0-bf3a-9ce2ed334051",
   "metadata": {},
   "source": [
    "### Data Preprocessing"
   ]
  },
  {
   "cell_type": "code",
   "execution_count": 3,
   "id": "dc4d35a7-3dc7-4c62-85a7-fe7125ad741d",
   "metadata": {},
   "outputs": [],
   "source": [
    "df.drop([\"date_symptoms\"], axis = 1, inplace = True)"
   ]
  },
  {
   "cell_type": "code",
   "execution_count": 4,
   "id": "055354c8-a425-4515-a277-2535cb48da3e",
   "metadata": {},
   "outputs": [],
   "source": [
    "df.drop([\"date_died\"], axis = 1, inplace = True)"
   ]
  },
  {
   "cell_type": "code",
   "execution_count": 5,
   "id": "2d1d06bd-2d7b-4043-bda2-a258be5034a1",
   "metadata": {},
   "outputs": [],
   "source": [
    "df.drop([\"entry_date\"], axis = 1, inplace = True)"
   ]
  },
  {
   "cell_type": "code",
   "execution_count": 6,
   "id": "792dbf32-7377-4ef4-92c2-5b1258225e19",
   "metadata": {},
   "outputs": [
    {
     "data": {
      "text/html": [
       "<div>\n",
       "<style scoped>\n",
       "    .dataframe tbody tr th:only-of-type {\n",
       "        vertical-align: middle;\n",
       "    }\n",
       "\n",
       "    .dataframe tbody tr th {\n",
       "        vertical-align: top;\n",
       "    }\n",
       "\n",
       "    .dataframe thead th {\n",
       "        text-align: right;\n",
       "    }\n",
       "</style>\n",
       "<table border=\"1\" class=\"dataframe\">\n",
       "  <thead>\n",
       "    <tr style=\"text-align: right;\">\n",
       "      <th></th>\n",
       "      <th>sex</th>\n",
       "      <th>patient_type</th>\n",
       "      <th>age</th>\n",
       "      <th>covid_res</th>\n",
       "      <th>intubed</th>\n",
       "      <th>pneumonia</th>\n",
       "      <th>pregnancy</th>\n",
       "      <th>diabetes</th>\n",
       "      <th>copd</th>\n",
       "      <th>asthma</th>\n",
       "      <th>inmsupr</th>\n",
       "      <th>hypertension</th>\n",
       "      <th>other_disease</th>\n",
       "      <th>cardiovascular</th>\n",
       "      <th>obesity</th>\n",
       "      <th>renal_chronic</th>\n",
       "      <th>tobacco</th>\n",
       "      <th>contact_other_covid</th>\n",
       "      <th>icu</th>\n",
       "    </tr>\n",
       "  </thead>\n",
       "  <tbody>\n",
       "    <tr>\n",
       "      <th>0</th>\n",
       "      <td>Male</td>\n",
       "      <td>Outpatient</td>\n",
       "      <td>27</td>\n",
       "      <td>Positive</td>\n",
       "      <td>NaN</td>\n",
       "      <td>No</td>\n",
       "      <td>NaN</td>\n",
       "      <td>No</td>\n",
       "      <td>No</td>\n",
       "      <td>No</td>\n",
       "      <td>No</td>\n",
       "      <td>No</td>\n",
       "      <td>No</td>\n",
       "      <td>No</td>\n",
       "      <td>No</td>\n",
       "      <td>No</td>\n",
       "      <td>No</td>\n",
       "      <td>No</td>\n",
       "      <td>NaN</td>\n",
       "    </tr>\n",
       "    <tr>\n",
       "      <th>1</th>\n",
       "      <td>Male</td>\n",
       "      <td>Outpatient</td>\n",
       "      <td>24</td>\n",
       "      <td>Positive</td>\n",
       "      <td>NaN</td>\n",
       "      <td>No</td>\n",
       "      <td>NaN</td>\n",
       "      <td>No</td>\n",
       "      <td>No</td>\n",
       "      <td>No</td>\n",
       "      <td>No</td>\n",
       "      <td>No</td>\n",
       "      <td>No</td>\n",
       "      <td>No</td>\n",
       "      <td>No</td>\n",
       "      <td>No</td>\n",
       "      <td>No</td>\n",
       "      <td>NaN</td>\n",
       "      <td>NaN</td>\n",
       "    </tr>\n",
       "    <tr>\n",
       "      <th>2</th>\n",
       "      <td>Female</td>\n",
       "      <td>Inpatient</td>\n",
       "      <td>54</td>\n",
       "      <td>Positive</td>\n",
       "      <td>No</td>\n",
       "      <td>No</td>\n",
       "      <td>No</td>\n",
       "      <td>No</td>\n",
       "      <td>No</td>\n",
       "      <td>No</td>\n",
       "      <td>No</td>\n",
       "      <td>No</td>\n",
       "      <td>No</td>\n",
       "      <td>No</td>\n",
       "      <td>Yes</td>\n",
       "      <td>No</td>\n",
       "      <td>No</td>\n",
       "      <td>NaN</td>\n",
       "      <td>No</td>\n",
       "    </tr>\n",
       "    <tr>\n",
       "      <th>3</th>\n",
       "      <td>Male</td>\n",
       "      <td>Inpatient</td>\n",
       "      <td>30</td>\n",
       "      <td>Positive</td>\n",
       "      <td>No</td>\n",
       "      <td>Yes</td>\n",
       "      <td>NaN</td>\n",
       "      <td>No</td>\n",
       "      <td>No</td>\n",
       "      <td>No</td>\n",
       "      <td>No</td>\n",
       "      <td>No</td>\n",
       "      <td>No</td>\n",
       "      <td>No</td>\n",
       "      <td>No</td>\n",
       "      <td>No</td>\n",
       "      <td>No</td>\n",
       "      <td>NaN</td>\n",
       "      <td>No</td>\n",
       "    </tr>\n",
       "    <tr>\n",
       "      <th>4</th>\n",
       "      <td>Female</td>\n",
       "      <td>Inpatient</td>\n",
       "      <td>60</td>\n",
       "      <td>Positive</td>\n",
       "      <td>No</td>\n",
       "      <td>No</td>\n",
       "      <td>No</td>\n",
       "      <td>Yes</td>\n",
       "      <td>No</td>\n",
       "      <td>No</td>\n",
       "      <td>No</td>\n",
       "      <td>Yes</td>\n",
       "      <td>No</td>\n",
       "      <td>Yes</td>\n",
       "      <td>No</td>\n",
       "      <td>No</td>\n",
       "      <td>No</td>\n",
       "      <td>NaN</td>\n",
       "      <td>No</td>\n",
       "    </tr>\n",
       "  </tbody>\n",
       "</table>\n",
       "</div>"
      ],
      "text/plain": [
       "      sex patient_type  age covid_res intubed pneumonia pregnancy diabetes  \\\n",
       "0    Male   Outpatient   27  Positive     NaN        No       NaN       No   \n",
       "1    Male   Outpatient   24  Positive     NaN        No       NaN       No   \n",
       "2  Female    Inpatient   54  Positive      No        No        No       No   \n",
       "3    Male    Inpatient   30  Positive      No       Yes       NaN       No   \n",
       "4  Female    Inpatient   60  Positive      No        No        No      Yes   \n",
       "\n",
       "  copd asthma inmsupr hypertension other_disease cardiovascular obesity  \\\n",
       "0   No     No      No           No            No             No      No   \n",
       "1   No     No      No           No            No             No      No   \n",
       "2   No     No      No           No            No             No     Yes   \n",
       "3   No     No      No           No            No             No      No   \n",
       "4   No     No      No          Yes            No            Yes      No   \n",
       "\n",
       "  renal_chronic tobacco contact_other_covid  icu  \n",
       "0            No      No                  No  NaN  \n",
       "1            No      No                 NaN  NaN  \n",
       "2            No      No                 NaN   No  \n",
       "3            No      No                 NaN   No  \n",
       "4            No      No                 NaN   No  "
      ]
     },
     "execution_count": 6,
     "metadata": {},
     "output_type": "execute_result"
    }
   ],
   "source": [
    "df.head()"
   ]
  },
  {
   "cell_type": "code",
   "execution_count": 7,
   "id": "5e02b9f4-611e-4bb0-ad4c-446646fe52f5",
   "metadata": {},
   "outputs": [
    {
     "data": {
      "text/plain": [
       "sex                         0\n",
       "patient_type                0\n",
       "age                         0\n",
       "covid_res                   0\n",
       "intubed                444813\n",
       "pneumonia                  11\n",
       "pregnancy              288699\n",
       "diabetes                 1981\n",
       "copd                     1749\n",
       "asthma                   1752\n",
       "inmsupr                  1980\n",
       "hypertension             1824\n",
       "other_disease            2598\n",
       "cardiovascular           1822\n",
       "obesity                  1781\n",
       "renal_chronic            1792\n",
       "tobacco                  1907\n",
       "contact_other_covid    175031\n",
       "icu                    444814\n",
       "dtype: int64"
      ]
     },
     "execution_count": 7,
     "metadata": {},
     "output_type": "execute_result"
    }
   ],
   "source": [
    "df.isnull().sum()"
   ]
  },
  {
   "cell_type": "code",
   "execution_count": 8,
   "id": "d3a46042-813b-4f31-ba96-cb28a00a64fa",
   "metadata": {},
   "outputs": [],
   "source": [
    "df.dropna(inplace = True)"
   ]
  },
  {
   "cell_type": "code",
   "execution_count": 9,
   "id": "b00d1370-7f85-4e5d-83dc-7dbdf4a3b812",
   "metadata": {},
   "outputs": [
    {
     "data": {
      "text/plain": [
       "sex                    0\n",
       "patient_type           0\n",
       "age                    0\n",
       "covid_res              0\n",
       "intubed                0\n",
       "pneumonia              0\n",
       "pregnancy              0\n",
       "diabetes               0\n",
       "copd                   0\n",
       "asthma                 0\n",
       "inmsupr                0\n",
       "hypertension           0\n",
       "other_disease          0\n",
       "cardiovascular         0\n",
       "obesity                0\n",
       "renal_chronic          0\n",
       "tobacco                0\n",
       "contact_other_covid    0\n",
       "icu                    0\n",
       "dtype: int64"
      ]
     },
     "execution_count": 9,
     "metadata": {},
     "output_type": "execute_result"
    }
   ],
   "source": [
    "df.isnull().sum()"
   ]
  },
  {
   "cell_type": "markdown",
   "id": "104b523a-72af-47f4-b4d9-5dc4ccb02e34",
   "metadata": {},
   "source": [
    "### Label Encoder and One Hot Encoding"
   ]
  },
  {
   "cell_type": "code",
   "execution_count": 10,
   "id": "96333aa7-7a78-4e34-9207-13f64c10abf9",
   "metadata": {},
   "outputs": [],
   "source": [
    "from sklearn.preprocessing import LabelEncoder"
   ]
  },
  {
   "cell_type": "code",
   "execution_count": 11,
   "id": "b96ca28b-e42e-4dcb-a813-bf1ebfb0fac9",
   "metadata": {},
   "outputs": [],
   "source": [
    "binary_cat_columns = ['sex', 'patient_type', 'intubed', 'pneumonia', 'pregnancy', 'diabetes', 'copd', 'asthma', 'inmsupr', 'hypertension',\n",
    "                      'other_disease', 'cardiovascular', 'obesity', 'renal_chronic', 'tobacco', 'contact_other_covid', 'icu']"
   ]
  },
  {
   "cell_type": "code",
   "execution_count": 12,
   "id": "bfb02994-3738-42ad-880e-9a9d5c9ff8e7",
   "metadata": {},
   "outputs": [],
   "source": [
    "lbe = LabelEncoder()"
   ]
  },
  {
   "cell_type": "code",
   "execution_count": 13,
   "id": "ff78d098-6f52-4153-b691-985d51040f06",
   "metadata": {},
   "outputs": [],
   "source": [
    "for col in binary_cat_columns:\n",
    "    df[col] = lbe.fit_transform(df[col])"
   ]
  },
  {
   "cell_type": "code",
   "execution_count": 14,
   "id": "a9d27844-2d96-498d-9c92-fe00f70ecd15",
   "metadata": {},
   "outputs": [],
   "source": [
    "nominal_cat_columns = ['covid_res']"
   ]
  },
  {
   "cell_type": "code",
   "execution_count": 15,
   "id": "104a7011-05b0-4c78-94a5-b25fced5f943",
   "metadata": {},
   "outputs": [],
   "source": [
    "for col in nominal_cat_columns:\n",
    "    df= pd.get_dummies(df, columns = [col], drop_first = True)"
   ]
  },
  {
   "cell_type": "code",
   "execution_count": 16,
   "id": "4c7a2c58-4d0f-4f15-9a40-81b5a1ed4114",
   "metadata": {},
   "outputs": [
    {
     "data": {
      "text/html": [
       "<div>\n",
       "<style scoped>\n",
       "    .dataframe tbody tr th:only-of-type {\n",
       "        vertical-align: middle;\n",
       "    }\n",
       "\n",
       "    .dataframe tbody tr th {\n",
       "        vertical-align: top;\n",
       "    }\n",
       "\n",
       "    .dataframe thead th {\n",
       "        text-align: right;\n",
       "    }\n",
       "</style>\n",
       "<table border=\"1\" class=\"dataframe\">\n",
       "  <thead>\n",
       "    <tr style=\"text-align: right;\">\n",
       "      <th></th>\n",
       "      <th>sex</th>\n",
       "      <th>patient_type</th>\n",
       "      <th>age</th>\n",
       "      <th>intubed</th>\n",
       "      <th>pneumonia</th>\n",
       "      <th>pregnancy</th>\n",
       "      <th>diabetes</th>\n",
       "      <th>copd</th>\n",
       "      <th>asthma</th>\n",
       "      <th>inmsupr</th>\n",
       "      <th>hypertension</th>\n",
       "      <th>other_disease</th>\n",
       "      <th>cardiovascular</th>\n",
       "      <th>obesity</th>\n",
       "      <th>renal_chronic</th>\n",
       "      <th>tobacco</th>\n",
       "      <th>contact_other_covid</th>\n",
       "      <th>icu</th>\n",
       "      <th>covid_res_Negative</th>\n",
       "      <th>covid_res_Positive</th>\n",
       "    </tr>\n",
       "  </thead>\n",
       "  <tbody>\n",
       "    <tr>\n",
       "      <th>21</th>\n",
       "      <td>0</td>\n",
       "      <td>0</td>\n",
       "      <td>25</td>\n",
       "      <td>0</td>\n",
       "      <td>0</td>\n",
       "      <td>0</td>\n",
       "      <td>0</td>\n",
       "      <td>0</td>\n",
       "      <td>0</td>\n",
       "      <td>0</td>\n",
       "      <td>0</td>\n",
       "      <td>0</td>\n",
       "      <td>0</td>\n",
       "      <td>0</td>\n",
       "      <td>0</td>\n",
       "      <td>0</td>\n",
       "      <td>1</td>\n",
       "      <td>0</td>\n",
       "      <td>0</td>\n",
       "      <td>1</td>\n",
       "    </tr>\n",
       "    <tr>\n",
       "      <th>30</th>\n",
       "      <td>0</td>\n",
       "      <td>0</td>\n",
       "      <td>52</td>\n",
       "      <td>0</td>\n",
       "      <td>0</td>\n",
       "      <td>0</td>\n",
       "      <td>0</td>\n",
       "      <td>0</td>\n",
       "      <td>0</td>\n",
       "      <td>0</td>\n",
       "      <td>0</td>\n",
       "      <td>0</td>\n",
       "      <td>0</td>\n",
       "      <td>1</td>\n",
       "      <td>0</td>\n",
       "      <td>1</td>\n",
       "      <td>1</td>\n",
       "      <td>0</td>\n",
       "      <td>0</td>\n",
       "      <td>1</td>\n",
       "    </tr>\n",
       "    <tr>\n",
       "      <th>71</th>\n",
       "      <td>0</td>\n",
       "      <td>0</td>\n",
       "      <td>51</td>\n",
       "      <td>0</td>\n",
       "      <td>1</td>\n",
       "      <td>0</td>\n",
       "      <td>0</td>\n",
       "      <td>0</td>\n",
       "      <td>0</td>\n",
       "      <td>0</td>\n",
       "      <td>0</td>\n",
       "      <td>0</td>\n",
       "      <td>0</td>\n",
       "      <td>0</td>\n",
       "      <td>0</td>\n",
       "      <td>0</td>\n",
       "      <td>1</td>\n",
       "      <td>0</td>\n",
       "      <td>0</td>\n",
       "      <td>1</td>\n",
       "    </tr>\n",
       "    <tr>\n",
       "      <th>79</th>\n",
       "      <td>0</td>\n",
       "      <td>0</td>\n",
       "      <td>67</td>\n",
       "      <td>1</td>\n",
       "      <td>1</td>\n",
       "      <td>0</td>\n",
       "      <td>1</td>\n",
       "      <td>0</td>\n",
       "      <td>0</td>\n",
       "      <td>0</td>\n",
       "      <td>1</td>\n",
       "      <td>0</td>\n",
       "      <td>0</td>\n",
       "      <td>1</td>\n",
       "      <td>0</td>\n",
       "      <td>0</td>\n",
       "      <td>1</td>\n",
       "      <td>0</td>\n",
       "      <td>0</td>\n",
       "      <td>1</td>\n",
       "    </tr>\n",
       "    <tr>\n",
       "      <th>93</th>\n",
       "      <td>0</td>\n",
       "      <td>0</td>\n",
       "      <td>59</td>\n",
       "      <td>0</td>\n",
       "      <td>1</td>\n",
       "      <td>0</td>\n",
       "      <td>1</td>\n",
       "      <td>0</td>\n",
       "      <td>0</td>\n",
       "      <td>0</td>\n",
       "      <td>0</td>\n",
       "      <td>0</td>\n",
       "      <td>0</td>\n",
       "      <td>0</td>\n",
       "      <td>0</td>\n",
       "      <td>0</td>\n",
       "      <td>1</td>\n",
       "      <td>0</td>\n",
       "      <td>0</td>\n",
       "      <td>1</td>\n",
       "    </tr>\n",
       "  </tbody>\n",
       "</table>\n",
       "</div>"
      ],
      "text/plain": [
       "    sex  patient_type  age  intubed  pneumonia  pregnancy  diabetes  copd  \\\n",
       "21    0             0   25        0          0          0         0     0   \n",
       "30    0             0   52        0          0          0         0     0   \n",
       "71    0             0   51        0          1          0         0     0   \n",
       "79    0             0   67        1          1          0         1     0   \n",
       "93    0             0   59        0          1          0         1     0   \n",
       "\n",
       "    asthma  inmsupr  hypertension  other_disease  cardiovascular  obesity  \\\n",
       "21       0        0             0              0               0        0   \n",
       "30       0        0             0              0               0        1   \n",
       "71       0        0             0              0               0        0   \n",
       "79       0        0             1              0               0        1   \n",
       "93       0        0             0              0               0        0   \n",
       "\n",
       "    renal_chronic  tobacco  contact_other_covid  icu  covid_res_Negative  \\\n",
       "21              0        0                    1    0                   0   \n",
       "30              0        1                    1    0                   0   \n",
       "71              0        0                    1    0                   0   \n",
       "79              0        0                    1    0                   0   \n",
       "93              0        0                    1    0                   0   \n",
       "\n",
       "    covid_res_Positive  \n",
       "21                   1  \n",
       "30                   1  \n",
       "71                   1  \n",
       "79                   1  \n",
       "93                   1  "
      ]
     },
     "execution_count": 16,
     "metadata": {},
     "output_type": "execute_result"
    }
   ],
   "source": [
    "df.head()"
   ]
  },
  {
   "cell_type": "code",
   "execution_count": 17,
   "id": "bfc60cd9-e56a-45d0-beac-9d108f7a634e",
   "metadata": {},
   "outputs": [],
   "source": [
    "import seaborn as sns"
   ]
  },
  {
   "cell_type": "code",
   "execution_count": 18,
   "id": "0c5331be-1a49-435e-811c-241a9155e47e",
   "metadata": {},
   "outputs": [
    {
     "data": {
      "image/png": "[encoded data removed]",
      "text/plain": [
       "<Figure size 432x288 with 1 Axes>"
      ]
     },
     "metadata": {
      "needs_background": "light"
     },
     "output_type": "display_data"
    }
   ],
   "source": [
    "sns.kdeplot(df.age, shade = True);"
   ]
  },
  {
   "cell_type": "markdown",
   "id": "c9b0eb2b-f281-42bc-8ca0-f564da51aa5c",
   "metadata": {},
   "source": [
    "### Normalization"
   ]
  },
  {
   "cell_type": "code",
   "execution_count": 19,
   "id": "ca4bd7db-aa1b-4091-b0be-86dc5fe280e3",
   "metadata": {},
   "outputs": [],
   "source": [
    "min_max_columns = ['age']\n",
    "\n",
    "# min-max scaler ile ölçeklendirme işlemi\n",
    "for column in min_max_columns:\n",
    "        # sütunun minimum değeri\n",
    "        min_column = df[column].min()\n",
    "        # sütunun maksimum değeri\n",
    "        max_column = df[column].max()\n",
    "        # min max scaler\n",
    "        df[column] = (df[column] - min_column) / (max_column - min_column)"
   ]
  },
  {
   "cell_type": "code",
   "execution_count": 20,
   "id": "96de7f8e-6bf2-4b78-bf10-8686a55cdec2",
   "metadata": {},
   "outputs": [
    {
     "data": {
      "text/plain": [
       "0    20460\n",
       "1     2698\n",
       "Name: icu, dtype: int64"
      ]
     },
     "execution_count": 20,
     "metadata": {},
     "output_type": "execute_result"
    }
   ],
   "source": [
    "df.icu.value_counts()"
   ]
  },
  {
   "cell_type": "code",
   "execution_count": 21,
   "id": "f909f634-5999-4321-9373-4ad67fcb986c",
   "metadata": {},
   "outputs": [],
   "source": [
    "import matplotlib.pyplot as plt"
   ]
  },
  {
   "cell_type": "code",
   "execution_count": 22,
   "id": "5573efb1-59cc-4d07-b2db-2b79234cdb1f",
   "metadata": {
    "tags": []
   },
   "outputs": [
    {
     "name": "stderr",
     "output_type": "stream",
     "text": [
      "C:\\Users\\Erkut\\anaconda3\\lib\\site-packages\\seaborn\\_decorators.py:36: FutureWarning: Pass the following variable as a keyword arg: x. From version 0.12, the only valid positional argument will be `data`, and passing other arguments without an explicit keyword will result in an error or misinterpretation.\n",
      "  warnings.warn(\n"
     ]
    },
    {
     "data": {
      "image/png": "[encoded data removed]",
      "text/plain": [
       "<Figure size 576x432 with 1 Axes>"
      ]
     },
     "metadata": {
      "needs_background": "light"
     },
     "output_type": "display_data"
    }
   ],
   "source": [
    "plt.figure(figsize=(8,6))\n",
    "sns.countplot(df.icu, palette='Set1')\n",
    "plt.title('Yoğun Bakımda Yatan Hasta Sayısı',fontsize=20)\n",
    "plt.xlabel('Yoğun Bakımda(1)/Yoğun Bakımda Değil(0)', fontsize=16)\n",
    "plt.ylabel('Hasta Sayısı', fontsize=16);"
   ]
  },
  {
   "cell_type": "markdown",
   "id": "6ac8ba80-7bc4-43ed-a9b9-5f26079645aa",
   "metadata": {
    "tags": []
   },
   "source": [
    "### GBM Model - Prediction - Tuning"
   ]
  },
  {
   "cell_type": "code",
   "execution_count": 23,
   "id": "e27e9002-3ae6-4349-a4d6-8c29eef8484c",
   "metadata": {},
   "outputs": [],
   "source": [
    "from sklearn.model_selection import train_test_split, GridSearchCV, cross_val_score\n",
    "from sklearn.metrics import confusion_matrix, accuracy_score, classification_report\n",
    "from sklearn.metrics import roc_auc_score,roc_curve"
   ]
  },
  {
   "cell_type": "code",
   "execution_count": 24,
   "id": "86ab7c7f-b104-4c6b-a446-3706ead59b83",
   "metadata": {},
   "outputs": [],
   "source": [
    "from sklearn.ensemble import GradientBoostingClassifier\n",
    "from xgboost import XGBClassifier\n",
    "from lightgbm import LGBMClassifier"
   ]
  },
  {
   "cell_type": "code",
   "execution_count": 25,
   "id": "4c994793-cad2-41d9-a4a1-582831775030",
   "metadata": {},
   "outputs": [],
   "source": [
    "y = df[\"icu\"]\n",
    "X = df.drop(['icu'], axis=1)\n",
    "X = pd.DataFrame(X)\n",
    "X_train, X_test, y_train, y_test = train_test_split(X, y, \n",
    "                                                    test_size=0.30, \n",
    "                                                    random_state=42)"
   ]
  },
  {
   "cell_type": "code",
   "execution_count": 26,
   "id": "fad41d0a-c5c7-4a9f-b7bd-98afbb5448fb",
   "metadata": {},
   "outputs": [],
   "source": [
    "gbm_model = GradientBoostingClassifier().fit(X_train, y_train)"
   ]
  },
  {
   "cell_type": "markdown",
   "id": "07b22ef7-dd07-469a-9f32-75a5429f01ac",
   "metadata": {},
   "source": [
    "### GBM Test Accuracy Score"
   ]
  },
  {
   "cell_type": "code",
   "execution_count": 27,
   "id": "821b4c12-22ee-4c45-beb4-90d52032fc41",
   "metadata": {},
   "outputs": [
    {
     "data": {
      "text/plain": [
       "0.8907599309153713"
      ]
     },
     "execution_count": 27,
     "metadata": {},
     "output_type": "execute_result"
    }
   ],
   "source": [
    "y_pred = gbm_model.predict(X_test)\n",
    "accuracy_score(y_test, y_pred)"
   ]
  },
  {
   "cell_type": "markdown",
   "id": "899ecbf0-3bd3-4c5d-810b-c07f75380996",
   "metadata": {},
   "source": [
    "### GBM Train Accuracy Score"
   ]
  },
  {
   "cell_type": "code",
   "execution_count": 28,
   "id": "a57f8857-0cec-4082-acd6-8c750588171d",
   "metadata": {},
   "outputs": [
    {
     "data": {
      "text/plain": [
       "0.8963602714373843"
      ]
     },
     "execution_count": 28,
     "metadata": {},
     "output_type": "execute_result"
    }
   ],
   "source": [
    "accuracy_score(y_train, gbm_model.predict(X_train))"
   ]
  },
  {
   "cell_type": "code",
   "execution_count": 29,
   "id": "35cbbd82-4b53-45b3-ba26-f9db42e9e771",
   "metadata": {},
   "outputs": [],
   "source": [
    "gbm_acc_score = accuracy_score(y_test, y_pred)"
   ]
  },
  {
   "cell_type": "code",
   "execution_count": 30,
   "id": "1b8753a9-675c-40eb-9bc8-69441d0b78ed",
   "metadata": {},
   "outputs": [],
   "source": [
    "gbm_model_conf_matrix = confusion_matrix(y_test, y_pred)"
   ]
  },
  {
   "cell_type": "markdown",
   "id": "23cf4c1c-1873-4cf3-8b16-9bcc6f9c5e11",
   "metadata": {},
   "source": [
    "### GBM Confusion Matrix"
   ]
  },
  {
   "cell_type": "code",
   "execution_count": 31,
   "id": "e96a18f9-0be3-4d8c-88d3-a977108a4209",
   "metadata": {},
   "outputs": [
    {
     "name": "stdout",
     "output_type": "stream",
     "text": [
      "confussion matrix\n",
      "[[5996  149]\n",
      " [ 610  193]]\n",
      "\n",
      "\n",
      "Accuracy of RFClassifier: 89.07599309153713 \n",
      "\n",
      "              precision    recall  f1-score   support\n",
      "\n",
      "           0       0.91      0.98      0.94      6145\n",
      "           1       0.56      0.24      0.34       803\n",
      "\n",
      "    accuracy                           0.89      6948\n",
      "   macro avg       0.74      0.61      0.64      6948\n",
      "weighted avg       0.87      0.89      0.87      6948\n",
      "\n"
     ]
    }
   ],
   "source": [
    "print(\"confussion matrix\")\n",
    "print(gbm_model_conf_matrix)\n",
    "print(\"\\n\")\n",
    "print(\"Accuracy of RFClassifier:\",gbm_acc_score*100,'\\n')\n",
    "print(classification_report(y_test,y_pred))"
   ]
  },
  {
   "cell_type": "markdown",
   "id": "7a221d85-f389-4d76-b88c-57f0bc6de101",
   "metadata": {},
   "source": [
    "### GBM Training Error"
   ]
  },
  {
   "cell_type": "code",
   "execution_count": 32,
   "id": "1b81169a-2c65-47b8-b28a-34927ea0e072",
   "metadata": {},
   "outputs": [],
   "source": [
    "from sklearn.metrics import mean_absolute_error\n",
    "from sklearn.model_selection import validation_curve\n",
    "import matplotlib.pyplot as plt"
   ]
  },
  {
   "cell_type": "code",
   "execution_count": 33,
   "id": "9d276d0f-1fef-4bde-bcf0-78812fa1139d",
   "metadata": {},
   "outputs": [],
   "source": [
    "gbm_training_error = mean_absolute_error(y_train,  gbm_model.predict(X_train))"
   ]
  },
  {
   "cell_type": "code",
   "execution_count": 34,
   "id": "7b53a04a-a77e-4ea3-ab27-9cc5aaca4caa",
   "metadata": {},
   "outputs": [
    {
     "name": "stdout",
     "output_type": "stream",
     "text": [
      "0.10363972856261566\n"
     ]
    }
   ],
   "source": [
    "print(gbm_training_error)"
   ]
  },
  {
   "cell_type": "markdown",
   "id": "5749a51e-c0a5-48e3-9a28-352fd5facdd5",
   "metadata": {},
   "source": [
    "### GBM Testing Error"
   ]
  },
  {
   "cell_type": "code",
   "execution_count": 35,
   "id": "8bf2d8a8-30d0-44ad-979d-c8ab36fc75a3",
   "metadata": {},
   "outputs": [],
   "source": [
    "gbm_testing_error = mean_absolute_error(y_test, y_pred)"
   ]
  },
  {
   "cell_type": "code",
   "execution_count": 36,
   "id": "647c5068-f22a-48dd-910d-8154346347b0",
   "metadata": {},
   "outputs": [
    {
     "name": "stdout",
     "output_type": "stream",
     "text": [
      "0.10363972856261566\n"
     ]
    }
   ],
   "source": [
    "print(gbm_training_error)"
   ]
  },
  {
   "cell_type": "markdown",
   "id": "6a869d93-cc84-4877-8af4-86f9b8387da5",
   "metadata": {},
   "source": [
    "### Validation Curve for n_estimators"
   ]
  },
  {
   "cell_type": "code",
   "execution_count": 52,
   "id": "f6a0ab09-e2dd-4dd4-a388-4c4de2bb80e7",
   "metadata": {},
   "outputs": [],
   "source": [
    "from sklearn.model_selection import validation_curve\n",
    "import numpy as np"
   ]
  },
  {
   "cell_type": "code",
   "execution_count": 53,
   "id": "91727321-3f38-4a1d-9c6a-d3408d2244fa",
   "metadata": {},
   "outputs": [],
   "source": [
    "param_range = np.arange(1, 150, 2)"
   ]
  },
  {
   "cell_type": "code",
   "execution_count": 54,
   "id": "3aa8c90c-bc55-4828-b647-5e654b986703",
   "metadata": {},
   "outputs": [],
   "source": [
    "train_scores, test_scores = validation_curve(GradientBoostingClassifier(),\n",
    "                                  X, y, param_name=\"n_estimators\", param_range=param_range,\n",
    "                                  cv=4, scoring=\"accuracy\", n_jobs=-1)"
   ]
  },
  {
   "cell_type": "code",
   "execution_count": 55,
   "id": "cd6c1931-ffdd-4278-80c5-0026b375536f",
   "metadata": {},
   "outputs": [],
   "source": [
    "train_mean = np.mean(train_scores, axis=1)\n",
    "train_std = np.std(train_scores, axis=1)\n",
    "\n",
    "test_mean = np.mean(test_scores, axis=1)\n",
    "test_std = np.std(test_scores, axis=1)"
   ]
  },
  {
   "cell_type": "code",
   "execution_count": 56,
   "id": "be3a814f-2f62-4ff7-a90a-4faec874637b",
   "metadata": {},
   "outputs": [],
   "source": [
    "import matplotlib.pyplot as plt"
   ]
  },
  {
   "cell_type": "code",
   "execution_count": 57,
   "id": "2f9009bd-48df-4b91-ad85-b47340791fcb",
   "metadata": {},
   "outputs": [
    {
     "data": {
      "image/png": "[encoded data removed]",
      "text/plain": [
       "<Figure size 504x504 with 1 Axes>"
      ]
     },
     "metadata": {
      "needs_background": "light"
     },
     "output_type": "display_data"
    }
   ],
   "source": [
    "plt.subplots(1, figsize=(7,7))\n",
    "plt.plot(param_range, train_mean, label=\"Training score\", color=\"black\")\n",
    "plt.plot(param_range, test_mean, label=\"Cross-validation score\", color=\"dimgrey\")\n",
    "\n",
    "plt.fill_between(param_range, train_mean - train_std, train_mean + train_std, color=\"gray\")\n",
    "plt.fill_between(param_range, test_mean - test_std, test_mean + test_std, color=\"gainsboro\")\n",
    " \n",
    "plt.title(\"Validation Curve With GBM\")\n",
    "plt.xlabel(\"Number Of Trees\")\n",
    "plt.ylabel(\"Accuracy Score\")\n",
    "plt.tight_layout()\n",
    "plt.legend(loc=\"best\")\n",
    "plt.show()"
   ]
  },
  {
   "cell_type": "code",
   "execution_count": 40,
   "id": "82e46956-413a-43a6-a126-26c514fef2e9",
   "metadata": {},
   "outputs": [],
   "source": [
    "from sklearn.model_selection import RandomizedSearchCV"
   ]
  },
  {
   "cell_type": "code",
   "execution_count": 37,
   "id": "493a6793-e269-452c-a54c-9e859e55b4ae",
   "metadata": {},
   "outputs": [],
   "source": [
    "gbm_params = {\n",
    "                'max_depth' : [2, 3, 4, 5, 9, 10, 15, 20, 25, 35],\n",
    "                'min_samples_leaf' : [1, 3, 2, 4, 5],\n",
    "                'min_samples_split' : [2, 3, 4, 5, 10]}"
   ]
  },
  {
   "cell_type": "code",
   "execution_count": 38,
   "id": "abd1aa6d-0a20-4b9a-8c28-f2015064ff02",
   "metadata": {},
   "outputs": [],
   "source": [
    "gbm = GradientBoostingClassifier()"
   ]
  },
  {
   "cell_type": "code",
   "execution_count": 41,
   "id": "3341e14e-ee3d-4415-880f-12b7eb041052",
   "metadata": {},
   "outputs": [],
   "source": [
    "gbm_cv_model = RandomizedSearchCV(gbm, gbm_params, \n",
    "                             cv = 5, \n",
    "                             n_jobs = -1, \n",
    "                             verbose = 2)"
   ]
  },
  {
   "cell_type": "code",
   "execution_count": null,
   "id": "df9d1ab3-a4df-4894-88b7-4b93d707e3a6",
   "metadata": {},
   "outputs": [],
   "source": [
    "gbm_cv_model.fit(X_train, y_train)"
   ]
  },
  {
   "cell_type": "code",
   "execution_count": 43,
   "id": "bd83c98e-747f-4df6-80be-694255fbd20c",
   "metadata": {},
   "outputs": [
    {
     "data": {
      "text/plain": [
       "{'min_samples_split': 5, 'min_samples_leaf': 3, 'max_depth': 4}"
      ]
     },
     "execution_count": 43,
     "metadata": {},
     "output_type": "execute_result"
    }
   ],
   "source": [
    "gbm_cv_model.best_params_"
   ]
  },
  {
   "cell_type": "code",
   "execution_count": 44,
   "id": "2bf672bf-5252-49db-afa9-82adb460253e",
   "metadata": {},
   "outputs": [],
   "source": [
    "gbm_tune = GradientBoostingClassifier(max_depth = 4,\n",
    "                       min_samples_split = 5,\n",
    "                       min_samples_leaf = 1)"
   ]
  },
  {
   "cell_type": "code",
   "execution_count": 45,
   "id": "6e6f8b8e-591e-4c49-a63e-91cff3ad6e52",
   "metadata": {},
   "outputs": [],
   "source": [
    "gbm_tuned = gbm_tune.fit(X_train,y_train)"
   ]
  },
  {
   "cell_type": "code",
   "execution_count": 46,
   "id": "c452e3dd-6dc3-498d-86d8-a32f84cdde47",
   "metadata": {},
   "outputs": [
    {
     "data": {
      "text/plain": [
       "0.8898963730569949"
      ]
     },
     "execution_count": 46,
     "metadata": {},
     "output_type": "execute_result"
    }
   ],
   "source": [
    "y_pred = gbm_tuned.predict(X_test)\n",
    "accuracy_score(y_test, y_pred)"
   ]
  },
  {
   "cell_type": "code",
   "execution_count": 47,
   "id": "da05fa62-8705-4787-9040-7e33f4f94d87",
   "metadata": {},
   "outputs": [],
   "source": [
    "gbm_acc_score_tuned = accuracy_score(y_test, y_pred);"
   ]
  },
  {
   "cell_type": "code",
   "execution_count": 48,
   "id": "54a3b93a-efdd-45e0-aaf9-a79c12d1f79a",
   "metadata": {},
   "outputs": [],
   "source": [
    "gbm_model_conf_matrix_tuned = confusion_matrix(y_test, y_pred)"
   ]
  },
  {
   "cell_type": "markdown",
   "id": "faf4e0ff-961e-4e91-a18e-12ed5c127735",
   "metadata": {},
   "source": [
    "### GBM TUNED Confussion Matrix"
   ]
  },
  {
   "cell_type": "code",
   "execution_count": 50,
   "id": "d663974c-710d-4e62-a109-0d4051311931",
   "metadata": {},
   "outputs": [
    {
     "name": "stdout",
     "output_type": "stream",
     "text": [
      "confussion matrix\n",
      "[[5974  171]\n",
      " [ 594  209]]\n",
      "\n",
      "\n",
      "Accuracy of GBMClassifier_tuned: 88.98963730569949 \n",
      "\n",
      "              precision    recall  f1-score   support\n",
      "\n",
      "           0       0.91      0.97      0.94      6145\n",
      "           1       0.55      0.26      0.35       803\n",
      "\n",
      "    accuracy                           0.89      6948\n",
      "   macro avg       0.73      0.62      0.65      6948\n",
      "weighted avg       0.87      0.89      0.87      6948\n",
      "\n"
     ]
    }
   ],
   "source": [
    "print(\"confussion matrix\")\n",
    "print(gbm_model_conf_matrix_tuned)\n",
    "print(\"\\n\")\n",
    "print(\"Accuracy of GBMClassifier_tuned:\",gbm_acc_score_tuned*100,'\\n')\n",
    "print(classification_report(y_test,y_pred))"
   ]
  },
  {
   "cell_type": "markdown",
   "id": "ec9282df-100f-4d88-ac97-1cf3753402cb",
   "metadata": {},
   "source": [
    "### LIGHT GBM"
   ]
  },
  {
   "cell_type": "code",
   "execution_count": 51,
   "id": "8c0ccc4e-84e7-44f5-9687-ca4e7bfd1caf",
   "metadata": {},
   "outputs": [],
   "source": [
    "lgbm_model = LGBMClassifier().fit(X_train, y_train)"
   ]
  },
  {
   "cell_type": "code",
   "execution_count": 52,
   "id": "a50822a7-ed9b-4a56-8dcd-30e2c4569cf4",
   "metadata": {},
   "outputs": [
    {
     "data": {
      "text/plain": [
       "0.8937823834196891"
      ]
     },
     "execution_count": 52,
     "metadata": {},
     "output_type": "execute_result"
    }
   ],
   "source": [
    "y_pred = lgbm_model.predict(X_test)\n",
    "accuracy_score(y_test, y_pred)"
   ]
  },
  {
   "cell_type": "code",
   "execution_count": 53,
   "id": "75a3e006-c2b6-4d91-ba57-596fb1bbda40",
   "metadata": {},
   "outputs": [],
   "source": [
    "lgbm_params = {\n",
    "        'n_estimators': [50, 70, 100, 150, 200, 250, 500],\n",
    "        'subsample': [0.6, 0.8, 1.0],\n",
    "        'max_depth': [2, 3, 4, 5, 9, 10, 15, 20, 25, 35],\n",
    "        'learning_rate': [0.01, 0.05, 0.1, 0.5, 1],\n",
    "        'num_leaves': [2, 4, 6, 8, 10, 16, 32]}"
   ]
  },
  {
   "cell_type": "code",
   "execution_count": 54,
   "id": "0f69bd45-14a6-4261-b10a-7bd79af16a4d",
   "metadata": {},
   "outputs": [],
   "source": [
    "lgbm = LGBMClassifier()\n",
    "\n",
    "lgbm_cv_model = RandomizedSearchCV(lgbm, lgbm_params, \n",
    "                             cv = 10, \n",
    "                             n_jobs = -1, \n",
    "                             verbose = 2)"
   ]
  },
  {
   "cell_type": "code",
   "execution_count": 55,
   "id": "f6b3722e-b08a-4cb0-a524-01532468cdb5",
   "metadata": {},
   "outputs": [
    {
     "name": "stdout",
     "output_type": "stream",
     "text": [
      "Fitting 10 folds for each of 10 candidates, totalling 100 fits\n"
     ]
    },
    {
     "data": {
      "text/plain": [
       "RandomizedSearchCV(cv=10, estimator=LGBMClassifier(), n_jobs=-1,\n",
       "                   param_distributions={'learning_rate': [0.01, 0.05, 0.1, 0.5,\n",
       "                                                          1],\n",
       "                                        'max_depth': [2, 3, 4, 5, 9, 10, 15, 20,\n",
       "                                                      25, 35],\n",
       "                                        'n_estimators': [50, 70, 100, 150, 200,\n",
       "                                                         250, 500],\n",
       "                                        'num_leaves': [2, 4, 6, 8, 10, 16, 32],\n",
       "                                        'subsample': [0.6, 0.8, 1.0]},\n",
       "                   verbose=2)"
      ]
     },
     "execution_count": 55,
     "metadata": {},
     "output_type": "execute_result"
    }
   ],
   "source": [
    "lgbm_cv_model.fit(X_train, y_train)"
   ]
  },
  {
   "cell_type": "code",
   "execution_count": 56,
   "id": "e385b1a1-c040-4936-b0b3-33346f2a1221",
   "metadata": {},
   "outputs": [
    {
     "data": {
      "text/plain": [
       "{'subsample': 1.0,\n",
       " 'num_leaves': 32,\n",
       " 'n_estimators': 50,\n",
       " 'max_depth': 35,\n",
       " 'learning_rate': 0.05}"
      ]
     },
     "execution_count": 56,
     "metadata": {},
     "output_type": "execute_result"
    }
   ],
   "source": [
    "lgbm_cv_model.best_params_"
   ]
  },
  {
   "cell_type": "code",
   "execution_count": 57,
   "id": "97fd212c-a5bd-455a-96a1-aaee99fb6c37",
   "metadata": {},
   "outputs": [],
   "source": [
    "lgbm_tune = LGBMClassifier(learning_rate = 0.05, \n",
    "                       max_depth = 35,\n",
    "                       subsample = 1,\n",
    "                       n_estimators = 50,\n",
    "                       num_leaves= 32);"
   ]
  },
  {
   "cell_type": "code",
   "execution_count": 58,
   "id": "9d1395d5-64ea-4410-b3da-1c6229278ad2",
   "metadata": {},
   "outputs": [],
   "source": [
    "lgbm_tuned = lgbm_tune.fit(X_train,y_train)"
   ]
  },
  {
   "cell_type": "code",
   "execution_count": 60,
   "id": "ab1b8d1a-f12a-43f2-8dfc-5967ff50c74d",
   "metadata": {},
   "outputs": [
    {
     "data": {
      "text/plain": [
       "0.8898963730569949"
      ]
     },
     "execution_count": 60,
     "metadata": {},
     "output_type": "execute_result"
    }
   ],
   "source": [
    "y_pred = lgbm_tuned.predict(X_test)\n",
    "accuracy_score(y_test, y_pred)"
   ]
  },
  {
   "cell_type": "markdown",
   "id": "366e2e33-dfba-45bd-b775-92f9d9b1425b",
   "metadata": {},
   "source": [
    "### XGBOOST"
   ]
  },
  {
   "cell_type": "code",
   "execution_count": 62,
   "id": "bb21abeb-9e1c-45bf-9182-d4a9515cb660",
   "metadata": {
    "tags": []
   },
   "outputs": [
    {
     "name": "stdout",
     "output_type": "stream",
     "text": [
      "[23:33:28] WARNING: C:/Users/Administrator/workspace/xgboost-win64_release_1.5.1/src/learner.cc:1115: Starting in XGBoost 1.3.0, the default evaluation metric used with the objective 'binary:logistic' was changed from 'error' to 'logloss'. Explicitly set eval_metric if you'd like to restore the old behavior.\n"
     ]
    }
   ],
   "source": [
    "xgb_model = XGBClassifier().fit(X_train, y_train)"
   ]
  },
  {
   "cell_type": "code",
   "execution_count": 63,
   "id": "38c9f753-1166-4b6c-9045-d8c7b207530a",
   "metadata": {},
   "outputs": [
    {
     "data": {
      "text/plain": [
       "0.8917674150834772"
      ]
     },
     "execution_count": 63,
     "metadata": {},
     "output_type": "execute_result"
    }
   ],
   "source": [
    "y_pred = xgb_model.predict(X_test)\n",
    "accuracy_score(y_test, y_pred)"
   ]
  },
  {
   "cell_type": "code",
   "execution_count": 64,
   "id": "a8ee9b8c-609c-4a82-b29a-8c153ce7730c",
   "metadata": {},
   "outputs": [],
   "source": [
    "xgbm_params = {\n",
    "        'n_estimators': [50, 70, 100, 150, 200, 250, 500],\n",
    "        'max_depth': [2, 3, 4, 5, 9, 10, 15, 20, 25, 35],\n",
    "        'gamma' : [0.5, 1, 1.5, 2, 5]}"
   ]
  },
  {
   "cell_type": "code",
   "execution_count": 65,
   "id": "23d8bf9a-0253-498d-ae69-123c5ab27d08",
   "metadata": {},
   "outputs": [],
   "source": [
    "xgbm = XGBClassifier()\n",
    "\n",
    "xgbm_cv_model = RandomizedSearchCV(xgbm, xgbm_params, \n",
    "                             cv = 10, \n",
    "                             n_jobs = -1, \n",
    "                             verbose = 2)"
   ]
  },
  {
   "cell_type": "code",
   "execution_count": 66,
   "id": "0a2133fe-5ce3-499e-95be-a51a99694de0",
   "metadata": {
    "collapsed": true,
    "jupyter": {
     "outputs_hidden": true
    },
    "tags": []
   },
   "outputs": [
    {
     "name": "stdout",
     "output_type": "stream",
     "text": [
      "Fitting 10 folds for each of 10 candidates, totalling 100 fits\n"
     ]
    },
    {
     "name": "stderr",
     "output_type": "stream",
     "text": [
      "C:\\Users\\Erkut\\anaconda3\\lib\\site-packages\\xgboost\\sklearn.py:1224: UserWarning: The use of label encoder in XGBClassifier is deprecated and will be removed in a future release. To remove this warning, do the following: 1) Pass option use_label_encoder=False when constructing XGBClassifier object; and 2) Encode your labels (y) as integers starting with 0, i.e. 0, 1, 2, ..., [num_class - 1].\n",
      "  warnings.warn(label_encoder_deprecation_msg, UserWarning)\n"
     ]
    },
    {
     "name": "stdout",
     "output_type": "stream",
     "text": [
      "[23:35:28] WARNING: C:/Users/Administrator/workspace/xgboost-win64_release_1.5.1/src/learner.cc:1115: Starting in XGBoost 1.3.0, the default evaluation metric used with the objective 'binary:logistic' was changed from 'error' to 'logloss'. Explicitly set eval_metric if you'd like to restore the old behavior.\n"
     ]
    },
    {
     "data": {
      "text/plain": [
       "RandomizedSearchCV(cv=10,\n",
       "                   estimator=XGBClassifier(base_score=None, booster=None,\n",
       "                                           colsample_bylevel=None,\n",
       "                                           colsample_bynode=None,\n",
       "                                           colsample_bytree=None,\n",
       "                                           enable_categorical=False, gamma=None,\n",
       "                                           gpu_id=None, importance_type=None,\n",
       "                                           interaction_constraints=None,\n",
       "                                           learning_rate=None,\n",
       "                                           max_delta_step=None, max_depth=None,\n",
       "                                           min_child_weight=None, missing=nan,\n",
       "                                           monotone_constraint...\n",
       "                                           n_estimators=100, n_jobs=None,\n",
       "                                           num_parallel_tree=None,\n",
       "                                           predictor=None, random_state=None,\n",
       "                                           reg_alpha=None, reg_lambda=None,\n",
       "                                           scale_pos_weight=None,\n",
       "                                           subsample=None, tree_method=None,\n",
       "                                           validate_parameters=None,\n",
       "                                           verbosity=None),\n",
       "                   n_jobs=-1,\n",
       "                   param_distributions={'gamma': [0.5, 1, 1.5, 2, 5],\n",
       "                                        'max_depth': [2, 3, 4, 5, 9, 10, 15, 20,\n",
       "                                                      25, 35],\n",
       "                                        'n_estimators': [50, 70, 100, 150, 200,\n",
       "                                                         250, 500]},\n",
       "                   verbose=2)"
      ]
     },
     "execution_count": 66,
     "metadata": {},
     "output_type": "execute_result"
    }
   ],
   "source": [
    "xgbm_cv_model.fit(X_train, y_train)"
   ]
  },
  {
   "cell_type": "code",
   "execution_count": 67,
   "id": "358bb278-1723-4c69-beef-086535dfe1e3",
   "metadata": {},
   "outputs": [
    {
     "data": {
      "text/plain": [
       "{'n_estimators': 150, 'max_depth': 4, 'gamma': 5}"
      ]
     },
     "execution_count": 67,
     "metadata": {},
     "output_type": "execute_result"
    }
   ],
   "source": [
    "xgbm_cv_model.best_params_"
   ]
  },
  {
   "cell_type": "code",
   "execution_count": 68,
   "id": "3a4274bd-a7d5-477f-ad40-9df99d7c022c",
   "metadata": {},
   "outputs": [],
   "source": [
    "xgbm_tune = XGBClassifier(max_depth = 4,\n",
    "                       gamma = 5,\n",
    "                       n_estimators = 150)"
   ]
  },
  {
   "cell_type": "code",
   "execution_count": 71,
   "id": "abe0c67b-6033-42c5-bd8a-009a2e1c54f0",
   "metadata": {
    "tags": []
   },
   "outputs": [
    {
     "name": "stderr",
     "output_type": "stream",
     "text": [
      "C:\\Users\\Erkut\\anaconda3\\lib\\site-packages\\xgboost\\sklearn.py:1224: UserWarning: The use of label encoder in XGBClassifier is deprecated and will be removed in a future release. To remove this warning, do the following: 1) Pass option use_label_encoder=False when constructing XGBClassifier object; and 2) Encode your labels (y) as integers starting with 0, i.e. 0, 1, 2, ..., [num_class - 1].\n",
      "  warnings.warn(label_encoder_deprecation_msg, UserWarning)\n"
     ]
    },
    {
     "name": "stdout",
     "output_type": "stream",
     "text": [
      "[23:36:19] WARNING: C:/Users/Administrator/workspace/xgboost-win64_release_1.5.1/src/learner.cc:1115: Starting in XGBoost 1.3.0, the default evaluation metric used with the objective 'binary:logistic' was changed from 'error' to 'logloss'. Explicitly set eval_metric if you'd like to restore the old behavior.\n"
     ]
    }
   ],
   "source": [
    "xgbm_tuned = xgbm_tune.fit(X_train,y_train)"
   ]
  },
  {
   "cell_type": "code",
   "execution_count": 72,
   "id": "fdb32952-140e-43f2-b375-e7909ad5c36e",
   "metadata": {},
   "outputs": [
    {
     "data": {
      "text/plain": [
       "0.8893206678180772"
      ]
     },
     "execution_count": 72,
     "metadata": {},
     "output_type": "execute_result"
    }
   ],
   "source": [
    "y_pred = xgbm_tuned.predict(X_test)\n",
    "accuracy_score(y_test, y_pred)"
   ]
  },
  {
   "cell_type": "markdown",
   "id": "2520d885-78af-4792-a611-56be198a6d60",
   "metadata": {},
   "source": [
    "### Super Learner Application"
   ]
  },
  {
   "cell_type": "code",
   "execution_count": 73,
   "id": "2c6a71c6-b0a7-4010-b704-160024a6dd00",
   "metadata": {},
   "outputs": [],
   "source": [
    "from mlxtend.classifier import StackingCVClassifier"
   ]
  },
  {
   "cell_type": "code",
   "execution_count": 75,
   "id": "8c3ca075-83f0-4613-a72b-e7f6641f3a71",
   "metadata": {},
   "outputs": [],
   "source": [
    "y = df[\"icu\"]\n",
    "X = df.drop(['icu'], axis=1)\n",
    "X = pd.DataFrame(X)\n",
    "X_train, X_test, y_train, y_test = train_test_split(X, y, \n",
    "                                                    test_size=0.30, \n",
    "                                                    random_state=42)"
   ]
  },
  {
   "cell_type": "code",
   "execution_count": 76,
   "id": "4c63d7db-c64d-4c51-b733-254b36f31c6b",
   "metadata": {},
   "outputs": [],
   "source": [
    "classifier1 = GradientBoostingClassifier(max_depth = 4,\n",
    "                       min_samples_split = 5,\n",
    "                       min_samples_leaf = 1)"
   ]
  },
  {
   "cell_type": "code",
   "execution_count": 77,
   "id": "bbbbf22c-f8e4-4492-9464-70481c14389c",
   "metadata": {},
   "outputs": [],
   "source": [
    "classifier2 = XGBClassifier(max_depth = 4,\n",
    "                       gamma = 5,\n",
    "                       n_estimators = 150)"
   ]
  },
  {
   "cell_type": "code",
   "execution_count": 78,
   "id": "96d05fad-d162-435f-aa9c-8d78dd047edd",
   "metadata": {},
   "outputs": [],
   "source": [
    "classifier3 = LGBMClassifier(learning_rate = 0.1, \n",
    "                       max_depth = 10,\n",
    "                       subsample = 0.6,\n",
    "                       n_estimators = 500,\n",
    "                       num_leaves= 32)"
   ]
  },
  {
   "cell_type": "code",
   "execution_count": 79,
   "id": "22cc0ab1-f6f6-402a-bafa-61b974fc9922",
   "metadata": {},
   "outputs": [],
   "source": [
    "sclf = StackingCVClassifier(classifiers = [classifier1,classifier2],\n",
    "                            shuffle = False,\n",
    "                            use_probas = True,\n",
    "                            cv = 10,\n",
    "                            meta_classifier =classifier3)"
   ]
  },
  {
   "cell_type": "code",
   "execution_count": 80,
   "id": "895b2dd2-6343-4906-9dcf-296e9af32ffa",
   "metadata": {
    "collapsed": true,
    "jupyter": {
     "outputs_hidden": true
    },
    "tags": []
   },
   "outputs": [
    {
     "name": "stderr",
     "output_type": "stream",
     "text": [
      "C:\\Users\\Erkut\\anaconda3\\lib\\site-packages\\xgboost\\sklearn.py:1224: UserWarning: The use of label encoder in XGBClassifier is deprecated and will be removed in a future release. To remove this warning, do the following: 1) Pass option use_label_encoder=False when constructing XGBClassifier object; and 2) Encode your labels (y) as integers starting with 0, i.e. 0, 1, 2, ..., [num_class - 1].\n",
      "  warnings.warn(label_encoder_deprecation_msg, UserWarning)\n"
     ]
    },
    {
     "name": "stdout",
     "output_type": "stream",
     "text": [
      "[23:38:26] WARNING: C:/Users/Administrator/workspace/xgboost-win64_release_1.5.1/src/learner.cc:1115: Starting in XGBoost 1.3.0, the default evaluation metric used with the objective 'binary:logistic' was changed from 'error' to 'logloss'. Explicitly set eval_metric if you'd like to restore the old behavior.\n"
     ]
    },
    {
     "name": "stderr",
     "output_type": "stream",
     "text": [
      "C:\\Users\\Erkut\\anaconda3\\lib\\site-packages\\xgboost\\sklearn.py:1224: UserWarning: The use of label encoder in XGBClassifier is deprecated and will be removed in a future release. To remove this warning, do the following: 1) Pass option use_label_encoder=False when constructing XGBClassifier object; and 2) Encode your labels (y) as integers starting with 0, i.e. 0, 1, 2, ..., [num_class - 1].\n",
      "  warnings.warn(label_encoder_deprecation_msg, UserWarning)\n"
     ]
    },
    {
     "name": "stdout",
     "output_type": "stream",
     "text": [
      "[23:38:27] WARNING: C:/Users/Administrator/workspace/xgboost-win64_release_1.5.1/src/learner.cc:1115: Starting in XGBoost 1.3.0, the default evaluation metric used with the objective 'binary:logistic' was changed from 'error' to 'logloss'. Explicitly set eval_metric if you'd like to restore the old behavior.\n"
     ]
    },
    {
     "name": "stderr",
     "output_type": "stream",
     "text": [
      "C:\\Users\\Erkut\\anaconda3\\lib\\site-packages\\xgboost\\sklearn.py:1224: UserWarning: The use of label encoder in XGBClassifier is deprecated and will be removed in a future release. To remove this warning, do the following: 1) Pass option use_label_encoder=False when constructing XGBClassifier object; and 2) Encode your labels (y) as integers starting with 0, i.e. 0, 1, 2, ..., [num_class - 1].\n",
      "  warnings.warn(label_encoder_deprecation_msg, UserWarning)\n"
     ]
    },
    {
     "name": "stdout",
     "output_type": "stream",
     "text": [
      "[23:38:27] WARNING: C:/Users/Administrator/workspace/xgboost-win64_release_1.5.1/src/learner.cc:1115: Starting in XGBoost 1.3.0, the default evaluation metric used with the objective 'binary:logistic' was changed from 'error' to 'logloss'. Explicitly set eval_metric if you'd like to restore the old behavior.\n"
     ]
    },
    {
     "name": "stderr",
     "output_type": "stream",
     "text": [
      "C:\\Users\\Erkut\\anaconda3\\lib\\site-packages\\xgboost\\sklearn.py:1224: UserWarning: The use of label encoder in XGBClassifier is deprecated and will be removed in a future release. To remove this warning, do the following: 1) Pass option use_label_encoder=False when constructing XGBClassifier object; and 2) Encode your labels (y) as integers starting with 0, i.e. 0, 1, 2, ..., [num_class - 1].\n",
      "  warnings.warn(label_encoder_deprecation_msg, UserWarning)\n"
     ]
    },
    {
     "name": "stdout",
     "output_type": "stream",
     "text": [
      "[23:38:27] WARNING: C:/Users/Administrator/workspace/xgboost-win64_release_1.5.1/src/learner.cc:1115: Starting in XGBoost 1.3.0, the default evaluation metric used with the objective 'binary:logistic' was changed from 'error' to 'logloss'. Explicitly set eval_metric if you'd like to restore the old behavior.\n"
     ]
    },
    {
     "name": "stderr",
     "output_type": "stream",
     "text": [
      "C:\\Users\\Erkut\\anaconda3\\lib\\site-packages\\xgboost\\sklearn.py:1224: UserWarning: The use of label encoder in XGBClassifier is deprecated and will be removed in a future release. To remove this warning, do the following: 1) Pass option use_label_encoder=False when constructing XGBClassifier object; and 2) Encode your labels (y) as integers starting with 0, i.e. 0, 1, 2, ..., [num_class - 1].\n",
      "  warnings.warn(label_encoder_deprecation_msg, UserWarning)\n"
     ]
    },
    {
     "name": "stdout",
     "output_type": "stream",
     "text": [
      "[23:38:28] WARNING: C:/Users/Administrator/workspace/xgboost-win64_release_1.5.1/src/learner.cc:1115: Starting in XGBoost 1.3.0, the default evaluation metric used with the objective 'binary:logistic' was changed from 'error' to 'logloss'. Explicitly set eval_metric if you'd like to restore the old behavior.\n"
     ]
    },
    {
     "name": "stderr",
     "output_type": "stream",
     "text": [
      "C:\\Users\\Erkut\\anaconda3\\lib\\site-packages\\xgboost\\sklearn.py:1224: UserWarning: The use of label encoder in XGBClassifier is deprecated and will be removed in a future release. To remove this warning, do the following: 1) Pass option use_label_encoder=False when constructing XGBClassifier object; and 2) Encode your labels (y) as integers starting with 0, i.e. 0, 1, 2, ..., [num_class - 1].\n",
      "  warnings.warn(label_encoder_deprecation_msg, UserWarning)\n"
     ]
    },
    {
     "name": "stdout",
     "output_type": "stream",
     "text": [
      "[23:38:28] WARNING: C:/Users/Administrator/workspace/xgboost-win64_release_1.5.1/src/learner.cc:1115: Starting in XGBoost 1.3.0, the default evaluation metric used with the objective 'binary:logistic' was changed from 'error' to 'logloss'. Explicitly set eval_metric if you'd like to restore the old behavior.\n"
     ]
    },
    {
     "name": "stderr",
     "output_type": "stream",
     "text": [
      "C:\\Users\\Erkut\\anaconda3\\lib\\site-packages\\xgboost\\sklearn.py:1224: UserWarning: The use of label encoder in XGBClassifier is deprecated and will be removed in a future release. To remove this warning, do the following: 1) Pass option use_label_encoder=False when constructing XGBClassifier object; and 2) Encode your labels (y) as integers starting with 0, i.e. 0, 1, 2, ..., [num_class - 1].\n",
      "  warnings.warn(label_encoder_deprecation_msg, UserWarning)\n"
     ]
    },
    {
     "name": "stdout",
     "output_type": "stream",
     "text": [
      "[23:38:29] WARNING: C:/Users/Administrator/workspace/xgboost-win64_release_1.5.1/src/learner.cc:1115: Starting in XGBoost 1.3.0, the default evaluation metric used with the objective 'binary:logistic' was changed from 'error' to 'logloss'. Explicitly set eval_metric if you'd like to restore the old behavior.\n"
     ]
    },
    {
     "name": "stderr",
     "output_type": "stream",
     "text": [
      "C:\\Users\\Erkut\\anaconda3\\lib\\site-packages\\xgboost\\sklearn.py:1224: UserWarning: The use of label encoder in XGBClassifier is deprecated and will be removed in a future release. To remove this warning, do the following: 1) Pass option use_label_encoder=False when constructing XGBClassifier object; and 2) Encode your labels (y) as integers starting with 0, i.e. 0, 1, 2, ..., [num_class - 1].\n",
      "  warnings.warn(label_encoder_deprecation_msg, UserWarning)\n"
     ]
    },
    {
     "name": "stdout",
     "output_type": "stream",
     "text": [
      "[23:38:29] WARNING: C:/Users/Administrator/workspace/xgboost-win64_release_1.5.1/src/learner.cc:1115: Starting in XGBoost 1.3.0, the default evaluation metric used with the objective 'binary:logistic' was changed from 'error' to 'logloss'. Explicitly set eval_metric if you'd like to restore the old behavior.\n"
     ]
    },
    {
     "name": "stderr",
     "output_type": "stream",
     "text": [
      "C:\\Users\\Erkut\\anaconda3\\lib\\site-packages\\xgboost\\sklearn.py:1224: UserWarning: The use of label encoder in XGBClassifier is deprecated and will be removed in a future release. To remove this warning, do the following: 1) Pass option use_label_encoder=False when constructing XGBClassifier object; and 2) Encode your labels (y) as integers starting with 0, i.e. 0, 1, 2, ..., [num_class - 1].\n",
      "  warnings.warn(label_encoder_deprecation_msg, UserWarning)\n"
     ]
    },
    {
     "name": "stdout",
     "output_type": "stream",
     "text": [
      "[23:38:30] WARNING: C:/Users/Administrator/workspace/xgboost-win64_release_1.5.1/src/learner.cc:1115: Starting in XGBoost 1.3.0, the default evaluation metric used with the objective 'binary:logistic' was changed from 'error' to 'logloss'. Explicitly set eval_metric if you'd like to restore the old behavior.\n"
     ]
    },
    {
     "name": "stderr",
     "output_type": "stream",
     "text": [
      "C:\\Users\\Erkut\\anaconda3\\lib\\site-packages\\xgboost\\sklearn.py:1224: UserWarning: The use of label encoder in XGBClassifier is deprecated and will be removed in a future release. To remove this warning, do the following: 1) Pass option use_label_encoder=False when constructing XGBClassifier object; and 2) Encode your labels (y) as integers starting with 0, i.e. 0, 1, 2, ..., [num_class - 1].\n",
      "  warnings.warn(label_encoder_deprecation_msg, UserWarning)\n"
     ]
    },
    {
     "name": "stdout",
     "output_type": "stream",
     "text": [
      "[23:38:30] WARNING: C:/Users/Administrator/workspace/xgboost-win64_release_1.5.1/src/learner.cc:1115: Starting in XGBoost 1.3.0, the default evaluation metric used with the objective 'binary:logistic' was changed from 'error' to 'logloss'. Explicitly set eval_metric if you'd like to restore the old behavior.\n"
     ]
    },
    {
     "name": "stderr",
     "output_type": "stream",
     "text": [
      "C:\\Users\\Erkut\\anaconda3\\lib\\site-packages\\xgboost\\sklearn.py:1224: UserWarning: The use of label encoder in XGBClassifier is deprecated and will be removed in a future release. To remove this warning, do the following: 1) Pass option use_label_encoder=False when constructing XGBClassifier object; and 2) Encode your labels (y) as integers starting with 0, i.e. 0, 1, 2, ..., [num_class - 1].\n",
      "  warnings.warn(label_encoder_deprecation_msg, UserWarning)\n"
     ]
    },
    {
     "name": "stdout",
     "output_type": "stream",
     "text": [
      "[23:38:32] WARNING: C:/Users/Administrator/workspace/xgboost-win64_release_1.5.1/src/learner.cc:1115: Starting in XGBoost 1.3.0, the default evaluation metric used with the objective 'binary:logistic' was changed from 'error' to 'logloss'. Explicitly set eval_metric if you'd like to restore the old behavior.\n"
     ]
    },
    {
     "data": {
      "text/plain": [
       "StackingCVClassifier(classifiers=[GradientBoostingClassifier(max_depth=4,\n",
       "                                                             min_samples_split=5),\n",
       "                                  XGBClassifier(base_score=None, booster=None,\n",
       "                                                colsample_bylevel=None,\n",
       "                                                colsample_bynode=None,\n",
       "                                                colsample_bytree=None,\n",
       "                                                enable_categorical=False,\n",
       "                                                gamma=5, gpu_id=None,\n",
       "                                                importance_type=None,\n",
       "                                                interaction_constraints=None,\n",
       "                                                learning_rate=None,\n",
       "                                                max_delta_step=None,\n",
       "                                                max_depth=4,...\n",
       "                                                monotone_constraints=None,\n",
       "                                                n_estimators=150, n_jobs=None,\n",
       "                                                num_parallel_tree=None,\n",
       "                                                predictor=None,\n",
       "                                                random_state=None,\n",
       "                                                reg_alpha=None, reg_lambda=None,\n",
       "                                                scale_pos_weight=None,\n",
       "                                                subsample=None,\n",
       "                                                tree_method=None,\n",
       "                                                validate_parameters=None,\n",
       "                                                verbosity=None)],\n",
       "                     cv=10,\n",
       "                     meta_classifier=LGBMClassifier(max_depth=10,\n",
       "                                                    n_estimators=500,\n",
       "                                                    num_leaves=32,\n",
       "                                                    subsample=0.6),\n",
       "                     shuffle=False, use_probas=True)"
      ]
     },
     "execution_count": 80,
     "metadata": {},
     "output_type": "execute_result"
    }
   ],
   "source": [
    "sclf.fit(X_train,y_train)"
   ]
  },
  {
   "cell_type": "code",
   "execution_count": 81,
   "id": "1bcc97d9-fe43-479f-9d91-5e5ace75b9c5",
   "metadata": {},
   "outputs": [],
   "source": [
    "y_pred = sclf.predict(X_test)"
   ]
  },
  {
   "cell_type": "code",
   "execution_count": 82,
   "id": "8ff3645e-d33d-4515-8a5c-eef5034048f0",
   "metadata": {},
   "outputs": [],
   "source": [
    "sclf_conf_matrix = confusion_matrix(y_test, y_pred)"
   ]
  },
  {
   "cell_type": "code",
   "execution_count": 83,
   "id": "8f866ed6-9812-440f-b639-a568a6855f9f",
   "metadata": {},
   "outputs": [],
   "source": [
    "sclf_acc_score = accuracy_score(y_test, y_pred)"
   ]
  },
  {
   "cell_type": "code",
   "execution_count": 84,
   "id": "3845c3ee-f222-4fce-bfe9-5607fe5ec919",
   "metadata": {},
   "outputs": [
    {
     "name": "stdout",
     "output_type": "stream",
     "text": [
      "confussion matrix\n",
      "[[5918  227]\n",
      " [ 585  218]]\n",
      "\n",
      "\n",
      "Accuracy of StackingCVClassifier: 88.31318364997122 \n",
      "\n",
      "              precision    recall  f1-score   support\n",
      "\n",
      "           0       0.91      0.96      0.94      6145\n",
      "           1       0.49      0.27      0.35       803\n",
      "\n",
      "    accuracy                           0.88      6948\n",
      "   macro avg       0.70      0.62      0.64      6948\n",
      "weighted avg       0.86      0.88      0.87      6948\n",
      "\n"
     ]
    }
   ],
   "source": [
    "print(\"confussion matrix\")\n",
    "print(sclf_conf_matrix)\n",
    "print(\"\\n\")\n",
    "print(\"Accuracy of StackingCVClassifier:\",sclf_acc_score*100,'\\n')\n",
    "print(classification_report(y_test,y_pred))"
   ]
  },
  {
   "cell_type": "markdown",
   "id": "a5a46906-1551-49ab-a12d-a503532a14d8",
   "metadata": {},
   "source": [
    "### Super Learner 10 Fold CV"
   ]
  },
  {
   "cell_type": "code",
   "execution_count": 85,
   "id": "e9012201-8f64-4f0a-89db-8fa2695b1ab9",
   "metadata": {},
   "outputs": [],
   "source": [
    "from sklearn.model_selection import cross_validate"
   ]
  },
  {
   "cell_type": "code",
   "execution_count": 91,
   "id": "31c0e7cf-26fd-45b9-842f-3717bd2f98ef",
   "metadata": {
    "tags": []
   },
   "outputs": [],
   "source": [
    "scores = cross_validate(sclf, X_train, y_train, cv=10, scoring='accuracy', return_train_score=True, n_jobs = -1)"
   ]
  },
  {
   "cell_type": "code",
   "execution_count": 92,
   "id": "34e67480-6a3a-4e83-8c68-8f26803298b5",
   "metadata": {},
   "outputs": [
    {
     "name": "stdout",
     "output_type": "stream",
     "text": [
      "[0.88436493 0.88717527 0.87847008 0.88840908 0.88176023 0.88299404\n",
      " 0.88045788 0.86887381 0.88422784 0.88224004]\n"
     ]
    }
   ],
   "source": [
    "print(scores[\"train_score\"])"
   ]
  },
  {
   "cell_type": "code",
   "execution_count": 93,
   "id": "24bf5b3a-e257-4708-a11a-c0d5b955c887",
   "metadata": {},
   "outputs": [
    {
     "name": "stdout",
     "output_type": "stream",
     "text": [
      "[0.8827884  0.87476866 0.86674892 0.88648982 0.87230105 0.88710672\n",
      " 0.88402221 0.86983344 0.87168415 0.88402221]\n"
     ]
    }
   ],
   "source": [
    "print(scores[\"test_score\"])"
   ]
  },
  {
   "cell_type": "code",
   "execution_count": null,
   "id": "3aa59812-d33f-40af-869e-e31f182cc373",
   "metadata": {},
   "outputs": [],
   "source": []
  }
 ],
 "metadata": {
  "kernelspec": {
   "display_name": "Python 3 (ipykernel)",
   "language": "python",
   "name": "python3"
  },
  "language_info": {
   "codemirror_mode": {
    "name": "ipython",
    "version": 3
   },
   "file_extension": ".py",
   "mimetype": "text/x-python",
   "name": "python",
   "nbconvert_exporter": "python",
   "pygments_lexer": "ipython3",
   "version": "3.9.7"
  }
 },
 "nbformat": 4,
 "nbformat_minor": 5
}
