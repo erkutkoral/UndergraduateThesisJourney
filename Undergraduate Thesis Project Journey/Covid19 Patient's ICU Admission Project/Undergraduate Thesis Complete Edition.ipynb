{
 "cells": [
  {
   "cell_type": "code",
   "execution_count": 4,
   "id": "42546fab-429f-40a9-9fa2-5164efefa167",
   "metadata": {},
   "outputs": [],
   "source": [
    "import pandas as pd"
   ]
  },
  {
   "cell_type": "code",
   "execution_count": 5,
   "id": "7b5c9f41-ebb6-4c57-bd1f-3bf73729059e",
   "metadata": {},
   "outputs": [
    {
     "data": {
      "text/html": [
       "<div>\n",
       "<style scoped>\n",
       "    .dataframe tbody tr th:only-of-type {\n",
       "        vertical-align: middle;\n",
       "    }\n",
       "\n",
       "    .dataframe tbody tr th {\n",
       "        vertical-align: top;\n",
       "    }\n",
       "\n",
       "    .dataframe thead th {\n",
       "        text-align: right;\n",
       "    }\n",
       "</style>\n",
       "<table border=\"1\" class=\"dataframe\">\n",
       "  <thead>\n",
       "    <tr style=\"text-align: right;\">\n",
       "      <th></th>\n",
       "      <th>sex</th>\n",
       "      <th>patient_type</th>\n",
       "      <th>entry_date</th>\n",
       "      <th>date_symptoms</th>\n",
       "      <th>date_died</th>\n",
       "      <th>age</th>\n",
       "      <th>covid_res</th>\n",
       "      <th>intubed</th>\n",
       "      <th>pneumonia</th>\n",
       "      <th>pregnancy</th>\n",
       "      <th>...</th>\n",
       "      <th>asthma</th>\n",
       "      <th>inmsupr</th>\n",
       "      <th>hypertension</th>\n",
       "      <th>other_disease</th>\n",
       "      <th>cardiovascular</th>\n",
       "      <th>obesity</th>\n",
       "      <th>renal_chronic</th>\n",
       "      <th>tobacco</th>\n",
       "      <th>contact_other_covid</th>\n",
       "      <th>icu</th>\n",
       "    </tr>\n",
       "  </thead>\n",
       "  <tbody>\n",
       "    <tr>\n",
       "      <th>0</th>\n",
       "      <td>Male</td>\n",
       "      <td>Outpatient</td>\n",
       "      <td>04-05-2020</td>\n",
       "      <td>02-05-2020</td>\n",
       "      <td>9999-99-99</td>\n",
       "      <td>27</td>\n",
       "      <td>Positive</td>\n",
       "      <td>NaN</td>\n",
       "      <td>No</td>\n",
       "      <td>NaN</td>\n",
       "      <td>...</td>\n",
       "      <td>No</td>\n",
       "      <td>No</td>\n",
       "      <td>No</td>\n",
       "      <td>No</td>\n",
       "      <td>No</td>\n",
       "      <td>No</td>\n",
       "      <td>No</td>\n",
       "      <td>No</td>\n",
       "      <td>No</td>\n",
       "      <td>NaN</td>\n",
       "    </tr>\n",
       "    <tr>\n",
       "      <th>1</th>\n",
       "      <td>Male</td>\n",
       "      <td>Outpatient</td>\n",
       "      <td>19-03-2020</td>\n",
       "      <td>17-03-2020</td>\n",
       "      <td>9999-99-99</td>\n",
       "      <td>24</td>\n",
       "      <td>Positive</td>\n",
       "      <td>NaN</td>\n",
       "      <td>No</td>\n",
       "      <td>NaN</td>\n",
       "      <td>...</td>\n",
       "      <td>No</td>\n",
       "      <td>No</td>\n",
       "      <td>No</td>\n",
       "      <td>No</td>\n",
       "      <td>No</td>\n",
       "      <td>No</td>\n",
       "      <td>No</td>\n",
       "      <td>No</td>\n",
       "      <td>NaN</td>\n",
       "      <td>NaN</td>\n",
       "    </tr>\n",
       "    <tr>\n",
       "      <th>2</th>\n",
       "      <td>Female</td>\n",
       "      <td>Inpatient</td>\n",
       "      <td>06-04-2020</td>\n",
       "      <td>01-04-2020</td>\n",
       "      <td>9999-99-99</td>\n",
       "      <td>54</td>\n",
       "      <td>Positive</td>\n",
       "      <td>No</td>\n",
       "      <td>No</td>\n",
       "      <td>No</td>\n",
       "      <td>...</td>\n",
       "      <td>No</td>\n",
       "      <td>No</td>\n",
       "      <td>No</td>\n",
       "      <td>No</td>\n",
       "      <td>No</td>\n",
       "      <td>Yes</td>\n",
       "      <td>No</td>\n",
       "      <td>No</td>\n",
       "      <td>NaN</td>\n",
       "      <td>No</td>\n",
       "    </tr>\n",
       "    <tr>\n",
       "      <th>3</th>\n",
       "      <td>Male</td>\n",
       "      <td>Inpatient</td>\n",
       "      <td>17-04-2020</td>\n",
       "      <td>10-04-2020</td>\n",
       "      <td>9999-99-99</td>\n",
       "      <td>30</td>\n",
       "      <td>Positive</td>\n",
       "      <td>No</td>\n",
       "      <td>Yes</td>\n",
       "      <td>NaN</td>\n",
       "      <td>...</td>\n",
       "      <td>No</td>\n",
       "      <td>No</td>\n",
       "      <td>No</td>\n",
       "      <td>No</td>\n",
       "      <td>No</td>\n",
       "      <td>No</td>\n",
       "      <td>No</td>\n",
       "      <td>No</td>\n",
       "      <td>NaN</td>\n",
       "      <td>No</td>\n",
       "    </tr>\n",
       "    <tr>\n",
       "      <th>4</th>\n",
       "      <td>Female</td>\n",
       "      <td>Inpatient</td>\n",
       "      <td>13-04-2020</td>\n",
       "      <td>13-04-2020</td>\n",
       "      <td>22-04-2020</td>\n",
       "      <td>60</td>\n",
       "      <td>Positive</td>\n",
       "      <td>No</td>\n",
       "      <td>No</td>\n",
       "      <td>No</td>\n",
       "      <td>...</td>\n",
       "      <td>No</td>\n",
       "      <td>No</td>\n",
       "      <td>Yes</td>\n",
       "      <td>No</td>\n",
       "      <td>Yes</td>\n",
       "      <td>No</td>\n",
       "      <td>No</td>\n",
       "      <td>No</td>\n",
       "      <td>NaN</td>\n",
       "      <td>No</td>\n",
       "    </tr>\n",
       "  </tbody>\n",
       "</table>\n",
       "<p>5 rows × 22 columns</p>\n",
       "</div>"
      ],
      "text/plain": [
       "      sex patient_type  entry_date date_symptoms   date_died  age covid_res  \\\n",
       "0    Male   Outpatient  04-05-2020    02-05-2020  9999-99-99   27  Positive   \n",
       "1    Male   Outpatient  19-03-2020    17-03-2020  9999-99-99   24  Positive   \n",
       "2  Female    Inpatient  06-04-2020    01-04-2020  9999-99-99   54  Positive   \n",
       "3    Male    Inpatient  17-04-2020    10-04-2020  9999-99-99   30  Positive   \n",
       "4  Female    Inpatient  13-04-2020    13-04-2020  22-04-2020   60  Positive   \n",
       "\n",
       "  intubed pneumonia pregnancy  ... asthma inmsupr hypertension other_disease  \\\n",
       "0     NaN        No       NaN  ...     No      No           No            No   \n",
       "1     NaN        No       NaN  ...     No      No           No            No   \n",
       "2      No        No        No  ...     No      No           No            No   \n",
       "3      No       Yes       NaN  ...     No      No           No            No   \n",
       "4      No        No        No  ...     No      No          Yes            No   \n",
       "\n",
       "  cardiovascular obesity renal_chronic tobacco contact_other_covid  icu  \n",
       "0             No      No            No      No                  No  NaN  \n",
       "1             No      No            No      No                 NaN  NaN  \n",
       "2             No     Yes            No      No                 NaN   No  \n",
       "3             No      No            No      No                 NaN   No  \n",
       "4            Yes      No            No      No                 NaN   No  \n",
       "\n",
       "[5 rows x 22 columns]"
      ]
     },
     "execution_count": 5,
     "metadata": {},
     "output_type": "execute_result"
    }
   ],
   "source": [
    "covid = pd.read_csv(\"C:/Users/Erkut/Desktop/tez uygulama/covid1.csv\")\n",
    "df = covid.copy()\n",
    "df.head()"
   ]
  },
  {
   "cell_type": "markdown",
   "id": "bb9fb8c6-aa47-47e7-8af2-73aaacb10674",
   "metadata": {},
   "source": [
    "### Data Preprocessing"
   ]
  },
  {
   "cell_type": "code",
   "execution_count": 6,
   "id": "45d661d4-d4d2-4e5e-881a-b2b594fc30b7",
   "metadata": {},
   "outputs": [],
   "source": [
    "df.drop([\"entry_date\"], axis = 1, inplace = True)"
   ]
  },
  {
   "cell_type": "code",
   "execution_count": 7,
   "id": "4aed0863-8f5e-42e2-b855-29f70d15e3ba",
   "metadata": {},
   "outputs": [],
   "source": [
    "df.drop([\"date_symptoms\"], axis = 1, inplace = True)"
   ]
  },
  {
   "cell_type": "code",
   "execution_count": 8,
   "id": "233338fc-1538-47b9-a7a0-1dfb56abadc2",
   "metadata": {},
   "outputs": [],
   "source": [
    "df.drop([\"date_died\"], axis = 1, inplace = True)"
   ]
  },
  {
   "cell_type": "code",
   "execution_count": 9,
   "id": "56ed1459-568b-49d3-9bc0-428078434516",
   "metadata": {},
   "outputs": [
    {
     "data": {
      "text/html": [
       "<div>\n",
       "<style scoped>\n",
       "    .dataframe tbody tr th:only-of-type {\n",
       "        vertical-align: middle;\n",
       "    }\n",
       "\n",
       "    .dataframe tbody tr th {\n",
       "        vertical-align: top;\n",
       "    }\n",
       "\n",
       "    .dataframe thead th {\n",
       "        text-align: right;\n",
       "    }\n",
       "</style>\n",
       "<table border=\"1\" class=\"dataframe\">\n",
       "  <thead>\n",
       "    <tr style=\"text-align: right;\">\n",
       "      <th></th>\n",
       "      <th>sex</th>\n",
       "      <th>patient_type</th>\n",
       "      <th>age</th>\n",
       "      <th>covid_res</th>\n",
       "      <th>intubed</th>\n",
       "      <th>pneumonia</th>\n",
       "      <th>pregnancy</th>\n",
       "      <th>diabetes</th>\n",
       "      <th>copd</th>\n",
       "      <th>asthma</th>\n",
       "      <th>inmsupr</th>\n",
       "      <th>hypertension</th>\n",
       "      <th>other_disease</th>\n",
       "      <th>cardiovascular</th>\n",
       "      <th>obesity</th>\n",
       "      <th>renal_chronic</th>\n",
       "      <th>tobacco</th>\n",
       "      <th>contact_other_covid</th>\n",
       "      <th>icu</th>\n",
       "    </tr>\n",
       "  </thead>\n",
       "  <tbody>\n",
       "    <tr>\n",
       "      <th>0</th>\n",
       "      <td>Male</td>\n",
       "      <td>Outpatient</td>\n",
       "      <td>27</td>\n",
       "      <td>Positive</td>\n",
       "      <td>NaN</td>\n",
       "      <td>No</td>\n",
       "      <td>NaN</td>\n",
       "      <td>No</td>\n",
       "      <td>No</td>\n",
       "      <td>No</td>\n",
       "      <td>No</td>\n",
       "      <td>No</td>\n",
       "      <td>No</td>\n",
       "      <td>No</td>\n",
       "      <td>No</td>\n",
       "      <td>No</td>\n",
       "      <td>No</td>\n",
       "      <td>No</td>\n",
       "      <td>NaN</td>\n",
       "    </tr>\n",
       "    <tr>\n",
       "      <th>1</th>\n",
       "      <td>Male</td>\n",
       "      <td>Outpatient</td>\n",
       "      <td>24</td>\n",
       "      <td>Positive</td>\n",
       "      <td>NaN</td>\n",
       "      <td>No</td>\n",
       "      <td>NaN</td>\n",
       "      <td>No</td>\n",
       "      <td>No</td>\n",
       "      <td>No</td>\n",
       "      <td>No</td>\n",
       "      <td>No</td>\n",
       "      <td>No</td>\n",
       "      <td>No</td>\n",
       "      <td>No</td>\n",
       "      <td>No</td>\n",
       "      <td>No</td>\n",
       "      <td>NaN</td>\n",
       "      <td>NaN</td>\n",
       "    </tr>\n",
       "    <tr>\n",
       "      <th>2</th>\n",
       "      <td>Female</td>\n",
       "      <td>Inpatient</td>\n",
       "      <td>54</td>\n",
       "      <td>Positive</td>\n",
       "      <td>No</td>\n",
       "      <td>No</td>\n",
       "      <td>No</td>\n",
       "      <td>No</td>\n",
       "      <td>No</td>\n",
       "      <td>No</td>\n",
       "      <td>No</td>\n",
       "      <td>No</td>\n",
       "      <td>No</td>\n",
       "      <td>No</td>\n",
       "      <td>Yes</td>\n",
       "      <td>No</td>\n",
       "      <td>No</td>\n",
       "      <td>NaN</td>\n",
       "      <td>No</td>\n",
       "    </tr>\n",
       "    <tr>\n",
       "      <th>3</th>\n",
       "      <td>Male</td>\n",
       "      <td>Inpatient</td>\n",
       "      <td>30</td>\n",
       "      <td>Positive</td>\n",
       "      <td>No</td>\n",
       "      <td>Yes</td>\n",
       "      <td>NaN</td>\n",
       "      <td>No</td>\n",
       "      <td>No</td>\n",
       "      <td>No</td>\n",
       "      <td>No</td>\n",
       "      <td>No</td>\n",
       "      <td>No</td>\n",
       "      <td>No</td>\n",
       "      <td>No</td>\n",
       "      <td>No</td>\n",
       "      <td>No</td>\n",
       "      <td>NaN</td>\n",
       "      <td>No</td>\n",
       "    </tr>\n",
       "    <tr>\n",
       "      <th>4</th>\n",
       "      <td>Female</td>\n",
       "      <td>Inpatient</td>\n",
       "      <td>60</td>\n",
       "      <td>Positive</td>\n",
       "      <td>No</td>\n",
       "      <td>No</td>\n",
       "      <td>No</td>\n",
       "      <td>Yes</td>\n",
       "      <td>No</td>\n",
       "      <td>No</td>\n",
       "      <td>No</td>\n",
       "      <td>Yes</td>\n",
       "      <td>No</td>\n",
       "      <td>Yes</td>\n",
       "      <td>No</td>\n",
       "      <td>No</td>\n",
       "      <td>No</td>\n",
       "      <td>NaN</td>\n",
       "      <td>No</td>\n",
       "    </tr>\n",
       "  </tbody>\n",
       "</table>\n",
       "</div>"
      ],
      "text/plain": [
       "      sex patient_type  age covid_res intubed pneumonia pregnancy diabetes  \\\n",
       "0    Male   Outpatient   27  Positive     NaN        No       NaN       No   \n",
       "1    Male   Outpatient   24  Positive     NaN        No       NaN       No   \n",
       "2  Female    Inpatient   54  Positive      No        No        No       No   \n",
       "3    Male    Inpatient   30  Positive      No       Yes       NaN       No   \n",
       "4  Female    Inpatient   60  Positive      No        No        No      Yes   \n",
       "\n",
       "  copd asthma inmsupr hypertension other_disease cardiovascular obesity  \\\n",
       "0   No     No      No           No            No             No      No   \n",
       "1   No     No      No           No            No             No      No   \n",
       "2   No     No      No           No            No             No     Yes   \n",
       "3   No     No      No           No            No             No      No   \n",
       "4   No     No      No          Yes            No            Yes      No   \n",
       "\n",
       "  renal_chronic tobacco contact_other_covid  icu  \n",
       "0            No      No                  No  NaN  \n",
       "1            No      No                 NaN  NaN  \n",
       "2            No      No                 NaN   No  \n",
       "3            No      No                 NaN   No  \n",
       "4            No      No                 NaN   No  "
      ]
     },
     "execution_count": 9,
     "metadata": {},
     "output_type": "execute_result"
    }
   ],
   "source": [
    "df.head()"
   ]
  },
  {
   "cell_type": "code",
   "execution_count": 10,
   "id": "614e9f56-792a-4623-a454-c195b7a05386",
   "metadata": {},
   "outputs": [
    {
     "data": {
      "text/plain": [
       "sex                         0\n",
       "patient_type                0\n",
       "age                         0\n",
       "covid_res                   0\n",
       "intubed                444813\n",
       "pneumonia                  11\n",
       "pregnancy              288699\n",
       "diabetes                 1981\n",
       "copd                     1749\n",
       "asthma                   1752\n",
       "inmsupr                  1980\n",
       "hypertension             1824\n",
       "other_disease            2598\n",
       "cardiovascular           1822\n",
       "obesity                  1781\n",
       "renal_chronic            1792\n",
       "tobacco                  1907\n",
       "contact_other_covid    175031\n",
       "icu                    444814\n",
       "dtype: int64"
      ]
     },
     "execution_count": 10,
     "metadata": {},
     "output_type": "execute_result"
    }
   ],
   "source": [
    "df.isnull().sum()"
   ]
  },
  {
   "cell_type": "code",
   "execution_count": 11,
   "id": "d932b1cb-397b-4942-821c-90ccb180516e",
   "metadata": {},
   "outputs": [
    {
     "data": {
      "text/plain": [
       "'No'"
      ]
     },
     "execution_count": 11,
     "metadata": {},
     "output_type": "execute_result"
    }
   ],
   "source": [
    "df[\"intubed\"].mode()[0]"
   ]
  },
  {
   "cell_type": "code",
   "execution_count": 12,
   "id": "c93d6f5c-6498-457c-a801-c1d5ce640d6b",
   "metadata": {},
   "outputs": [],
   "source": [
    "df[\"intubed\"].fillna(df[\"intubed\"].mode()[0], inplace = True)"
   ]
  },
  {
   "cell_type": "code",
   "execution_count": 13,
   "id": "e4da967b-0a5a-4289-b118-5dd26f56a387",
   "metadata": {},
   "outputs": [
    {
     "data": {
      "text/plain": [
       "'No'"
      ]
     },
     "execution_count": 13,
     "metadata": {},
     "output_type": "execute_result"
    }
   ],
   "source": [
    "df[\"pneumonia\"].mode()[0]"
   ]
  },
  {
   "cell_type": "code",
   "execution_count": 14,
   "id": "90f74770-dbb4-4d79-be73-d977181eb291",
   "metadata": {},
   "outputs": [],
   "source": [
    "df[\"pneumonia\"].fillna(df[\"pneumonia\"].mode()[0], inplace = True)"
   ]
  },
  {
   "cell_type": "code",
   "execution_count": 15,
   "id": "ac465273-b4fa-487b-b039-33701d3fa16a",
   "metadata": {},
   "outputs": [
    {
     "data": {
      "text/plain": [
       "'No'"
      ]
     },
     "execution_count": 15,
     "metadata": {},
     "output_type": "execute_result"
    }
   ],
   "source": [
    "df[\"pregnancy\"].mode()[0]"
   ]
  },
  {
   "cell_type": "code",
   "execution_count": 16,
   "id": "91cd3c48-b37e-4468-bf17-436582404203",
   "metadata": {},
   "outputs": [],
   "source": [
    "df[\"pregnancy\"].fillna(df[\"pregnancy\"].mode()[0], inplace = True)"
   ]
  },
  {
   "cell_type": "code",
   "execution_count": 17,
   "id": "5a9fe1b8-b08e-4ee2-a42e-baae5083a97d",
   "metadata": {},
   "outputs": [
    {
     "data": {
      "text/plain": [
       "'No'"
      ]
     },
     "execution_count": 17,
     "metadata": {},
     "output_type": "execute_result"
    }
   ],
   "source": [
    "df[\"diabetes\"].mode()[0]"
   ]
  },
  {
   "cell_type": "code",
   "execution_count": 18,
   "id": "a4603f2d-cb35-4268-b3e7-c564ab33cdca",
   "metadata": {},
   "outputs": [],
   "source": [
    "df[\"diabetes\"].fillna(df[\"diabetes\"].mode()[0], inplace = True)"
   ]
  },
  {
   "cell_type": "code",
   "execution_count": 19,
   "id": "72b77ad2-d786-4f46-85ea-6450e4f3b617",
   "metadata": {},
   "outputs": [
    {
     "data": {
      "text/plain": [
       "'No'"
      ]
     },
     "execution_count": 19,
     "metadata": {},
     "output_type": "execute_result"
    }
   ],
   "source": [
    "df[\"copd\"].mode()[0]"
   ]
  },
  {
   "cell_type": "code",
   "execution_count": 20,
   "id": "a058b4fc-4d36-4f6f-b618-9c067e8de8c9",
   "metadata": {},
   "outputs": [],
   "source": [
    "df[\"copd\"].fillna(df[\"copd\"].mode()[0], inplace = True)"
   ]
  },
  {
   "cell_type": "code",
   "execution_count": 21,
   "id": "b56fdebd-1033-49be-a971-f6c19512333a",
   "metadata": {},
   "outputs": [
    {
     "data": {
      "text/plain": [
       "'No'"
      ]
     },
     "execution_count": 21,
     "metadata": {},
     "output_type": "execute_result"
    }
   ],
   "source": [
    "df[\"asthma\"].mode()[0]"
   ]
  },
  {
   "cell_type": "code",
   "execution_count": 22,
   "id": "c90ddeaf-70f0-410c-8190-91b05a984993",
   "metadata": {},
   "outputs": [],
   "source": [
    "df[\"asthma\"].fillna(df[\"asthma\"].mode()[0], inplace = True)"
   ]
  },
  {
   "cell_type": "code",
   "execution_count": 23,
   "id": "31dbc583-f551-441a-a299-bf1b50989856",
   "metadata": {},
   "outputs": [
    {
     "data": {
      "text/plain": [
       "'No'"
      ]
     },
     "execution_count": 23,
     "metadata": {},
     "output_type": "execute_result"
    }
   ],
   "source": [
    "df[\"inmsupr\"].mode()[0]"
   ]
  },
  {
   "cell_type": "code",
   "execution_count": 24,
   "id": "16970612-6d63-4f20-929c-b18c603c2360",
   "metadata": {},
   "outputs": [],
   "source": [
    "df[\"inmsupr\"].fillna(df[\"inmsupr\"].mode()[0], inplace = True)"
   ]
  },
  {
   "cell_type": "code",
   "execution_count": 25,
   "id": "a6e06c34-d033-4845-af23-7e5f88e420b9",
   "metadata": {},
   "outputs": [
    {
     "data": {
      "text/plain": [
       "'No'"
      ]
     },
     "execution_count": 25,
     "metadata": {},
     "output_type": "execute_result"
    }
   ],
   "source": [
    "df[\"hypertension\"].mode()[0]"
   ]
  },
  {
   "cell_type": "code",
   "execution_count": 26,
   "id": "8345a9d3-7c71-4f70-a95b-b96c33811174",
   "metadata": {},
   "outputs": [],
   "source": [
    "df[\"hypertension\"].fillna(df[\"hypertension\"].mode()[0], inplace = True)"
   ]
  },
  {
   "cell_type": "code",
   "execution_count": 27,
   "id": "816e9406-9613-4ad3-a80b-3cccbc3f3fe6",
   "metadata": {},
   "outputs": [
    {
     "data": {
      "text/plain": [
       "'No'"
      ]
     },
     "execution_count": 27,
     "metadata": {},
     "output_type": "execute_result"
    }
   ],
   "source": [
    "df[\"other_disease\"].mode()[0]"
   ]
  },
  {
   "cell_type": "code",
   "execution_count": 28,
   "id": "8e1dbdc8-4f91-42d5-8cae-8742a0c15ee0",
   "metadata": {},
   "outputs": [],
   "source": [
    "df[\"other_disease\"].fillna(df[\"other_disease\"].mode()[0], inplace = True)"
   ]
  },
  {
   "cell_type": "code",
   "execution_count": 29,
   "id": "15d7d9f3-3b77-47e1-ab6f-dff2be220d1f",
   "metadata": {},
   "outputs": [
    {
     "data": {
      "text/plain": [
       "'No'"
      ]
     },
     "execution_count": 29,
     "metadata": {},
     "output_type": "execute_result"
    }
   ],
   "source": [
    "df[\"cardiovascular\"].mode()[0]"
   ]
  },
  {
   "cell_type": "code",
   "execution_count": 30,
   "id": "ee0452c5-a3ff-4968-82ad-cf0c6ecb5065",
   "metadata": {},
   "outputs": [],
   "source": [
    "df[\"cardiovascular\"].fillna(df[\"cardiovascular\"].mode()[0], inplace = True)"
   ]
  },
  {
   "cell_type": "code",
   "execution_count": 31,
   "id": "f04fe490-8d0f-4a6d-94fb-2182ed7ee476",
   "metadata": {},
   "outputs": [
    {
     "data": {
      "text/plain": [
       "'No'"
      ]
     },
     "execution_count": 31,
     "metadata": {},
     "output_type": "execute_result"
    }
   ],
   "source": [
    "df[\"obesity\"].mode()[0]"
   ]
  },
  {
   "cell_type": "code",
   "execution_count": 32,
   "id": "86e2a350-408f-408f-b211-1b26c5c29069",
   "metadata": {},
   "outputs": [],
   "source": [
    "df[\"obesity\"].fillna(df[\"obesity\"].mode()[0], inplace = True)"
   ]
  },
  {
   "cell_type": "code",
   "execution_count": 33,
   "id": "dead5335-6229-4976-ac53-fe76723fa77f",
   "metadata": {},
   "outputs": [
    {
     "data": {
      "text/plain": [
       "'No'"
      ]
     },
     "execution_count": 33,
     "metadata": {},
     "output_type": "execute_result"
    }
   ],
   "source": [
    "df[\"renal_chronic\"].mode()[0]"
   ]
  },
  {
   "cell_type": "code",
   "execution_count": 34,
   "id": "407b6e3e-7cb9-49ca-bb52-46c30c6a36aa",
   "metadata": {},
   "outputs": [],
   "source": [
    "df[\"renal_chronic\"].fillna(df[\"renal_chronic\"].mode()[0], inplace = True)"
   ]
  },
  {
   "cell_type": "code",
   "execution_count": 35,
   "id": "f0ae04c9-3ec2-48e5-b6b9-35cadf7becc5",
   "metadata": {},
   "outputs": [
    {
     "data": {
      "text/plain": [
       "'No'"
      ]
     },
     "execution_count": 35,
     "metadata": {},
     "output_type": "execute_result"
    }
   ],
   "source": [
    "df[\"tobacco\"].mode()[0]"
   ]
  },
  {
   "cell_type": "code",
   "execution_count": 36,
   "id": "9d5220e1-7719-41f8-bb81-851857831bdd",
   "metadata": {},
   "outputs": [],
   "source": [
    "df[\"tobacco\"].fillna(df[\"tobacco\"].mode()[0], inplace = True)"
   ]
  },
  {
   "cell_type": "code",
   "execution_count": 37,
   "id": "08f67e2f-5c03-422a-89d7-f12153470c29",
   "metadata": {},
   "outputs": [
    {
     "data": {
      "text/plain": [
       "'Yes'"
      ]
     },
     "execution_count": 37,
     "metadata": {},
     "output_type": "execute_result"
    }
   ],
   "source": [
    "df[\"contact_other_covid\"].mode()[0]"
   ]
  },
  {
   "cell_type": "code",
   "execution_count": 38,
   "id": "309afd9e-e8af-4d4b-90a8-20669aeba099",
   "metadata": {},
   "outputs": [],
   "source": [
    "df[\"contact_other_covid\"].fillna(df[\"contact_other_covid\"].mode()[0], inplace = True)"
   ]
  },
  {
   "cell_type": "code",
   "execution_count": 39,
   "id": "d03ea56f-132d-4587-a19f-baa400008cd0",
   "metadata": {},
   "outputs": [
    {
     "data": {
      "text/plain": [
       "'No'"
      ]
     },
     "execution_count": 39,
     "metadata": {},
     "output_type": "execute_result"
    }
   ],
   "source": [
    "df[\"icu\"].mode()[0]"
   ]
  },
  {
   "cell_type": "code",
   "execution_count": 40,
   "id": "3f22065e-c06d-4aaf-81ef-9c0969ad1acf",
   "metadata": {},
   "outputs": [],
   "source": [
    "df[\"icu\"].fillna(df[\"icu\"].mode()[0], inplace = True)"
   ]
  },
  {
   "cell_type": "code",
   "execution_count": 41,
   "id": "d4a75a98-6666-4b76-9858-16bfd2258ade",
   "metadata": {},
   "outputs": [
    {
     "data": {
      "text/plain": [
       "sex                    0\n",
       "patient_type           0\n",
       "age                    0\n",
       "covid_res              0\n",
       "intubed                0\n",
       "pneumonia              0\n",
       "pregnancy              0\n",
       "diabetes               0\n",
       "copd                   0\n",
       "asthma                 0\n",
       "inmsupr                0\n",
       "hypertension           0\n",
       "other_disease          0\n",
       "cardiovascular         0\n",
       "obesity                0\n",
       "renal_chronic          0\n",
       "tobacco                0\n",
       "contact_other_covid    0\n",
       "icu                    0\n",
       "dtype: int64"
      ]
     },
     "execution_count": 41,
     "metadata": {},
     "output_type": "execute_result"
    }
   ],
   "source": [
    "df.isnull().sum()"
   ]
  },
  {
   "cell_type": "code",
   "execution_count": 42,
   "id": "f9a0f88e-b9d6-41f4-adc4-f08b6034cabd",
   "metadata": {},
   "outputs": [],
   "source": [
    "from sklearn.preprocessing import LabelEncoder"
   ]
  },
  {
   "cell_type": "code",
   "execution_count": 43,
   "id": "98cfa090-52e4-4934-90bb-ca289c283e55",
   "metadata": {},
   "outputs": [],
   "source": [
    "binary_cat_columns = ['sex', 'patient_type', 'intubed', 'pneumonia', 'pregnancy', 'diabetes', 'copd', 'asthma', 'inmsupr', 'hypertension',\n",
    "                      'other_disease', 'cardiovascular', 'obesity', 'renal_chronic', 'tobacco', 'contact_other_covid', 'icu']"
   ]
  },
  {
   "cell_type": "code",
   "execution_count": 44,
   "id": "43a14bcc-fa45-4875-bec6-aa5d40ab2d84",
   "metadata": {},
   "outputs": [],
   "source": [
    "lbe = LabelEncoder()"
   ]
  },
  {
   "cell_type": "code",
   "execution_count": 45,
   "id": "5715877f-354c-431c-811c-cf18245675d4",
   "metadata": {},
   "outputs": [],
   "source": [
    "for col in binary_cat_columns:\n",
    "    df[col] = lbe.fit_transform(df[col])"
   ]
  },
  {
   "cell_type": "code",
   "execution_count": 46,
   "id": "06129268-a960-4c5c-9c84-caa77bc752c9",
   "metadata": {},
   "outputs": [],
   "source": [
    "nominal_cat_columns = ['covid_res']"
   ]
  },
  {
   "cell_type": "code",
   "execution_count": 47,
   "id": "4132d489-9dae-4659-8e48-a17d9a985d09",
   "metadata": {},
   "outputs": [],
   "source": [
    "for col in nominal_cat_columns:\n",
    "    df= pd.get_dummies(df, columns = [col], drop_first = True)"
   ]
  },
  {
   "cell_type": "code",
   "execution_count": 48,
   "id": "6234f291-608a-42e2-8366-f80e9bcb485a",
   "metadata": {},
   "outputs": [
    {
     "data": {
      "text/html": [
       "<div>\n",
       "<style scoped>\n",
       "    .dataframe tbody tr th:only-of-type {\n",
       "        vertical-align: middle;\n",
       "    }\n",
       "\n",
       "    .dataframe tbody tr th {\n",
       "        vertical-align: top;\n",
       "    }\n",
       "\n",
       "    .dataframe thead th {\n",
       "        text-align: right;\n",
       "    }\n",
       "</style>\n",
       "<table border=\"1\" class=\"dataframe\">\n",
       "  <thead>\n",
       "    <tr style=\"text-align: right;\">\n",
       "      <th></th>\n",
       "      <th>sex</th>\n",
       "      <th>patient_type</th>\n",
       "      <th>age</th>\n",
       "      <th>intubed</th>\n",
       "      <th>pneumonia</th>\n",
       "      <th>pregnancy</th>\n",
       "      <th>diabetes</th>\n",
       "      <th>copd</th>\n",
       "      <th>asthma</th>\n",
       "      <th>inmsupr</th>\n",
       "      <th>hypertension</th>\n",
       "      <th>other_disease</th>\n",
       "      <th>cardiovascular</th>\n",
       "      <th>obesity</th>\n",
       "      <th>renal_chronic</th>\n",
       "      <th>tobacco</th>\n",
       "      <th>contact_other_covid</th>\n",
       "      <th>icu</th>\n",
       "      <th>covid_res_Negative</th>\n",
       "      <th>covid_res_Positive</th>\n",
       "    </tr>\n",
       "  </thead>\n",
       "  <tbody>\n",
       "    <tr>\n",
       "      <th>0</th>\n",
       "      <td>1</td>\n",
       "      <td>1</td>\n",
       "      <td>27</td>\n",
       "      <td>0</td>\n",
       "      <td>0</td>\n",
       "      <td>0</td>\n",
       "      <td>0</td>\n",
       "      <td>0</td>\n",
       "      <td>0</td>\n",
       "      <td>0</td>\n",
       "      <td>0</td>\n",
       "      <td>0</td>\n",
       "      <td>0</td>\n",
       "      <td>0</td>\n",
       "      <td>0</td>\n",
       "      <td>0</td>\n",
       "      <td>0</td>\n",
       "      <td>0</td>\n",
       "      <td>0</td>\n",
       "      <td>1</td>\n",
       "    </tr>\n",
       "    <tr>\n",
       "      <th>1</th>\n",
       "      <td>1</td>\n",
       "      <td>1</td>\n",
       "      <td>24</td>\n",
       "      <td>0</td>\n",
       "      <td>0</td>\n",
       "      <td>0</td>\n",
       "      <td>0</td>\n",
       "      <td>0</td>\n",
       "      <td>0</td>\n",
       "      <td>0</td>\n",
       "      <td>0</td>\n",
       "      <td>0</td>\n",
       "      <td>0</td>\n",
       "      <td>0</td>\n",
       "      <td>0</td>\n",
       "      <td>0</td>\n",
       "      <td>1</td>\n",
       "      <td>0</td>\n",
       "      <td>0</td>\n",
       "      <td>1</td>\n",
       "    </tr>\n",
       "    <tr>\n",
       "      <th>2</th>\n",
       "      <td>0</td>\n",
       "      <td>0</td>\n",
       "      <td>54</td>\n",
       "      <td>0</td>\n",
       "      <td>0</td>\n",
       "      <td>0</td>\n",
       "      <td>0</td>\n",
       "      <td>0</td>\n",
       "      <td>0</td>\n",
       "      <td>0</td>\n",
       "      <td>0</td>\n",
       "      <td>0</td>\n",
       "      <td>0</td>\n",
       "      <td>1</td>\n",
       "      <td>0</td>\n",
       "      <td>0</td>\n",
       "      <td>1</td>\n",
       "      <td>0</td>\n",
       "      <td>0</td>\n",
       "      <td>1</td>\n",
       "    </tr>\n",
       "    <tr>\n",
       "      <th>3</th>\n",
       "      <td>1</td>\n",
       "      <td>0</td>\n",
       "      <td>30</td>\n",
       "      <td>0</td>\n",
       "      <td>1</td>\n",
       "      <td>0</td>\n",
       "      <td>0</td>\n",
       "      <td>0</td>\n",
       "      <td>0</td>\n",
       "      <td>0</td>\n",
       "      <td>0</td>\n",
       "      <td>0</td>\n",
       "      <td>0</td>\n",
       "      <td>0</td>\n",
       "      <td>0</td>\n",
       "      <td>0</td>\n",
       "      <td>1</td>\n",
       "      <td>0</td>\n",
       "      <td>0</td>\n",
       "      <td>1</td>\n",
       "    </tr>\n",
       "    <tr>\n",
       "      <th>4</th>\n",
       "      <td>0</td>\n",
       "      <td>0</td>\n",
       "      <td>60</td>\n",
       "      <td>0</td>\n",
       "      <td>0</td>\n",
       "      <td>0</td>\n",
       "      <td>1</td>\n",
       "      <td>0</td>\n",
       "      <td>0</td>\n",
       "      <td>0</td>\n",
       "      <td>1</td>\n",
       "      <td>0</td>\n",
       "      <td>1</td>\n",
       "      <td>0</td>\n",
       "      <td>0</td>\n",
       "      <td>0</td>\n",
       "      <td>1</td>\n",
       "      <td>0</td>\n",
       "      <td>0</td>\n",
       "      <td>1</td>\n",
       "    </tr>\n",
       "  </tbody>\n",
       "</table>\n",
       "</div>"
      ],
      "text/plain": [
       "   sex  patient_type  age  intubed  pneumonia  pregnancy  diabetes  copd  \\\n",
       "0    1             1   27        0          0          0         0     0   \n",
       "1    1             1   24        0          0          0         0     0   \n",
       "2    0             0   54        0          0          0         0     0   \n",
       "3    1             0   30        0          1          0         0     0   \n",
       "4    0             0   60        0          0          0         1     0   \n",
       "\n",
       "   asthma  inmsupr  hypertension  other_disease  cardiovascular  obesity  \\\n",
       "0       0        0             0              0               0        0   \n",
       "1       0        0             0              0               0        0   \n",
       "2       0        0             0              0               0        1   \n",
       "3       0        0             0              0               0        0   \n",
       "4       0        0             1              0               1        0   \n",
       "\n",
       "   renal_chronic  tobacco  contact_other_covid  icu  covid_res_Negative  \\\n",
       "0              0        0                    0    0                   0   \n",
       "1              0        0                    1    0                   0   \n",
       "2              0        0                    1    0                   0   \n",
       "3              0        0                    1    0                   0   \n",
       "4              0        0                    1    0                   0   \n",
       "\n",
       "   covid_res_Positive  \n",
       "0                   1  \n",
       "1                   1  \n",
       "2                   1  \n",
       "3                   1  \n",
       "4                   1  "
      ]
     },
     "execution_count": 48,
     "metadata": {},
     "output_type": "execute_result"
    }
   ],
   "source": [
    "df.head()"
   ]
  },
  {
   "cell_type": "code",
   "execution_count": 49,
   "id": "3164d393-ba4a-4238-8652-ce05d35e6dcc",
   "metadata": {},
   "outputs": [],
   "source": [
    "import seaborn as sns"
   ]
  },
  {
   "cell_type": "code",
   "execution_count": 50,
   "id": "6b8a9cd0-4af8-46c1-88b4-f50c479a80a1",
   "metadata": {},
   "outputs": [
    {
     "data": {
      "image/png": "[encoded data removed]",
      "text/plain": [
       "<Figure size 432x288 with 1 Axes>"
      ]
     },
     "metadata": {
      "needs_background": "light"
     },
     "output_type": "display_data"
    }
   ],
   "source": [
    "sns.kdeplot(df.age, shade = True);"
   ]
  },
  {
   "cell_type": "markdown",
   "id": "a701d405-c066-413e-a1e9-8e3ffcbc5899",
   "metadata": {},
   "source": [
    "### Feature Selection"
   ]
  },
  {
   "cell_type": "code",
   "execution_count": 51,
   "id": "6f145d80-aa6d-4200-93e1-208ab9486224",
   "metadata": {},
   "outputs": [],
   "source": [
    "from sklearn.feature_selection import chi2"
   ]
  },
  {
   "cell_type": "code",
   "execution_count": 52,
   "id": "3328c8a2-525c-4eea-9d5b-9cf8ee990e4b",
   "metadata": {},
   "outputs": [],
   "source": [
    "X = df.drop('icu',axis=1)\n",
    "y = df['icu']"
   ]
  },
  {
   "cell_type": "code",
   "execution_count": 53,
   "id": "d5236acc-d220-4378-844e-e445bf079b25",
   "metadata": {},
   "outputs": [],
   "source": [
    "chi_scores = chi2(X,y)"
   ]
  },
  {
   "cell_type": "code",
   "execution_count": 54,
   "id": "9d02e2d1-22bd-4f85-a4d0-cbcf2e9e19b6",
   "metadata": {},
   "outputs": [
    {
     "data": {
      "text/plain": [
       "(array([3.76217079e+02, 8.08045997e+03, 1.61824076e+04, 1.33680047e+05,\n",
       "        3.00887393e+04, 3.11186457e-02, 2.53166131e+03, 3.22158331e+02,\n",
       "        1.76630695e+01, 5.82523491e+02, 1.56506482e+03, 3.84011127e+02,\n",
       "        7.00339293e+02, 4.49077352e+02, 4.84904325e+02, 2.34640340e-01,\n",
       "        9.70451036e+02, 6.57201678e+02, 9.17702416e+02]),\n",
       " array([8.29035783e-084, 0.00000000e+000, 0.00000000e+000, 0.00000000e+000,\n",
       "        0.00000000e+000, 8.59975951e-001, 0.00000000e+000, 4.90653523e-072,\n",
       "        2.63697040e-005, 1.05967370e-128, 0.00000000e+000, 1.66604864e-085,\n",
       "        2.52303123e-154, 1.14527509e-099, 1.83056264e-107, 6.28104230e-001,\n",
       "        4.75600029e-213, 6.06598431e-145, 1.39177685e-201]))"
      ]
     },
     "execution_count": 54,
     "metadata": {},
     "output_type": "execute_result"
    }
   ],
   "source": [
    "chi_scores"
   ]
  },
  {
   "cell_type": "code",
   "execution_count": 55,
   "id": "bb42bda3-82cc-4e3d-8258-2f8d2071be96",
   "metadata": {},
   "outputs": [],
   "source": [
    "p_values = pd.Series(chi_scores[1],index = X.columns)\n",
    "p_values.sort_values(ascending = False , inplace = True)"
   ]
  },
  {
   "cell_type": "code",
   "execution_count": 56,
   "id": "e0c80940-514a-4a29-80f6-56e537cf7504",
   "metadata": {},
   "outputs": [
    {
     "data": {
      "text/plain": [
       "<AxesSubplot:>"
      ]
     },
     "execution_count": 56,
     "metadata": {},
     "output_type": "execute_result"
    },
    {
     "data": {
      "image/png": "[encoded data removed]",
      "text/plain": [
       "<Figure size 432x288 with 1 Axes>"
      ]
     },
     "metadata": {
      "needs_background": "light"
     },
     "output_type": "display_data"
    }
   ],
   "source": [
    "p_values.plot.bar()"
   ]
  },
  {
   "cell_type": "code",
   "execution_count": 57,
   "id": "fd50e00f-1bab-4e95-a945-8ba6d8409edf",
   "metadata": {},
   "outputs": [],
   "source": [
    "df.drop(\"pregnancy\", axis = 1, inplace = True)"
   ]
  },
  {
   "cell_type": "code",
   "execution_count": 58,
   "id": "7b8d7716-3582-4cda-98ac-0d01db4b5824",
   "metadata": {},
   "outputs": [],
   "source": [
    "df.drop(\"tobacco\", axis = 1, inplace = True)"
   ]
  },
  {
   "cell_type": "markdown",
   "id": "389110d7-e4f9-46aa-9023-82ea340fecfe",
   "metadata": {},
   "source": [
    "### SMOTE-N Over Sampling"
   ]
  },
  {
   "cell_type": "code",
   "execution_count": 59,
   "id": "ab4f7e74-85d5-4c14-8485-a58d0975767f",
   "metadata": {},
   "outputs": [],
   "source": [
    "df_age = df[\"age\"]"
   ]
  },
  {
   "cell_type": "code",
   "execution_count": 60,
   "id": "4a447337-bea9-4feb-96b5-9fb0c30b304a",
   "metadata": {},
   "outputs": [],
   "source": [
    "df.drop(\"age\", axis = 1, inplace = True)"
   ]
  },
  {
   "cell_type": "code",
   "execution_count": 61,
   "id": "5fd5c977-e269-4620-8da0-d86d61b4493e",
   "metadata": {},
   "outputs": [],
   "source": [
    "X = df.drop('icu',axis=1)\n",
    "y = df['icu']"
   ]
  },
  {
   "cell_type": "code",
   "execution_count": 62,
   "id": "12a6e5af-ca03-4566-8553-4a7af40a193b",
   "metadata": {},
   "outputs": [],
   "source": [
    "from imblearn.over_sampling import SMOTEN"
   ]
  },
  {
   "cell_type": "code",
   "execution_count": 63,
   "id": "de30d830-e08c-40ed-84db-ee5e3dfd0620",
   "metadata": {},
   "outputs": [],
   "source": [
    "sampler = SMOTEN(random_state=0)"
   ]
  },
  {
   "cell_type": "code",
   "execution_count": 64,
   "id": "ec172122-6080-4735-8e16-5344d19a40b7",
   "metadata": {},
   "outputs": [],
   "source": [
    "X_res, y_res = sampler.fit_resample(X, y)"
   ]
  },
  {
   "cell_type": "code",
   "execution_count": 65,
   "id": "bd074c23-f78a-4beb-a105-227a6ebc671b",
   "metadata": {},
   "outputs": [
    {
     "data": {
      "text/plain": [
       "array([0, 1])"
      ]
     },
     "execution_count": 65,
     "metadata": {},
     "output_type": "execute_result"
    }
   ],
   "source": [
    "y_res.unique()"
   ]
  },
  {
   "cell_type": "code",
   "execution_count": 66,
   "id": "e7743903-0f78-4cdf-a993-1c28ab22fffc",
   "metadata": {},
   "outputs": [
    {
     "data": {
      "text/html": [
       "<div>\n",
       "<style scoped>\n",
       "    .dataframe tbody tr th:only-of-type {\n",
       "        vertical-align: middle;\n",
       "    }\n",
       "\n",
       "    .dataframe tbody tr th {\n",
       "        vertical-align: top;\n",
       "    }\n",
       "\n",
       "    .dataframe thead th {\n",
       "        text-align: right;\n",
       "    }\n",
       "</style>\n",
       "<table border=\"1\" class=\"dataframe\">\n",
       "  <thead>\n",
       "    <tr style=\"text-align: right;\">\n",
       "      <th></th>\n",
       "      <th>sex</th>\n",
       "      <th>patient_type</th>\n",
       "      <th>intubed</th>\n",
       "      <th>pneumonia</th>\n",
       "      <th>diabetes</th>\n",
       "      <th>copd</th>\n",
       "      <th>asthma</th>\n",
       "      <th>inmsupr</th>\n",
       "      <th>hypertension</th>\n",
       "      <th>other_disease</th>\n",
       "      <th>cardiovascular</th>\n",
       "      <th>obesity</th>\n",
       "      <th>renal_chronic</th>\n",
       "      <th>contact_other_covid</th>\n",
       "      <th>covid_res_Negative</th>\n",
       "      <th>covid_res_Positive</th>\n",
       "    </tr>\n",
       "  </thead>\n",
       "  <tbody>\n",
       "    <tr>\n",
       "      <th>0</th>\n",
       "      <td>1</td>\n",
       "      <td>1</td>\n",
       "      <td>0</td>\n",
       "      <td>0</td>\n",
       "      <td>0</td>\n",
       "      <td>0</td>\n",
       "      <td>0</td>\n",
       "      <td>0</td>\n",
       "      <td>0</td>\n",
       "      <td>0</td>\n",
       "      <td>0</td>\n",
       "      <td>0</td>\n",
       "      <td>0</td>\n",
       "      <td>0</td>\n",
       "      <td>0</td>\n",
       "      <td>1</td>\n",
       "    </tr>\n",
       "    <tr>\n",
       "      <th>1</th>\n",
       "      <td>1</td>\n",
       "      <td>1</td>\n",
       "      <td>0</td>\n",
       "      <td>0</td>\n",
       "      <td>0</td>\n",
       "      <td>0</td>\n",
       "      <td>0</td>\n",
       "      <td>0</td>\n",
       "      <td>0</td>\n",
       "      <td>0</td>\n",
       "      <td>0</td>\n",
       "      <td>0</td>\n",
       "      <td>0</td>\n",
       "      <td>1</td>\n",
       "      <td>0</td>\n",
       "      <td>1</td>\n",
       "    </tr>\n",
       "    <tr>\n",
       "      <th>2</th>\n",
       "      <td>0</td>\n",
       "      <td>0</td>\n",
       "      <td>0</td>\n",
       "      <td>0</td>\n",
       "      <td>0</td>\n",
       "      <td>0</td>\n",
       "      <td>0</td>\n",
       "      <td>0</td>\n",
       "      <td>0</td>\n",
       "      <td>0</td>\n",
       "      <td>0</td>\n",
       "      <td>1</td>\n",
       "      <td>0</td>\n",
       "      <td>1</td>\n",
       "      <td>0</td>\n",
       "      <td>1</td>\n",
       "    </tr>\n",
       "    <tr>\n",
       "      <th>3</th>\n",
       "      <td>1</td>\n",
       "      <td>0</td>\n",
       "      <td>0</td>\n",
       "      <td>1</td>\n",
       "      <td>0</td>\n",
       "      <td>0</td>\n",
       "      <td>0</td>\n",
       "      <td>0</td>\n",
       "      <td>0</td>\n",
       "      <td>0</td>\n",
       "      <td>0</td>\n",
       "      <td>0</td>\n",
       "      <td>0</td>\n",
       "      <td>1</td>\n",
       "      <td>0</td>\n",
       "      <td>1</td>\n",
       "    </tr>\n",
       "    <tr>\n",
       "      <th>4</th>\n",
       "      <td>0</td>\n",
       "      <td>0</td>\n",
       "      <td>0</td>\n",
       "      <td>0</td>\n",
       "      <td>1</td>\n",
       "      <td>0</td>\n",
       "      <td>0</td>\n",
       "      <td>0</td>\n",
       "      <td>1</td>\n",
       "      <td>0</td>\n",
       "      <td>1</td>\n",
       "      <td>0</td>\n",
       "      <td>0</td>\n",
       "      <td>1</td>\n",
       "      <td>0</td>\n",
       "      <td>1</td>\n",
       "    </tr>\n",
       "  </tbody>\n",
       "</table>\n",
       "</div>"
      ],
      "text/plain": [
       "   sex  patient_type  intubed  pneumonia  diabetes  copd  asthma  inmsupr  \\\n",
       "0    1             1        0          0         0     0       0        0   \n",
       "1    1             1        0          0         0     0       0        0   \n",
       "2    0             0        0          0         0     0       0        0   \n",
       "3    1             0        0          1         0     0       0        0   \n",
       "4    0             0        0          0         1     0       0        0   \n",
       "\n",
       "   hypertension  other_disease  cardiovascular  obesity  renal_chronic  \\\n",
       "0             0              0               0        0              0   \n",
       "1             0              0               0        0              0   \n",
       "2             0              0               0        1              0   \n",
       "3             0              0               0        0              0   \n",
       "4             1              0               1        0              0   \n",
       "\n",
       "   contact_other_covid  covid_res_Negative  covid_res_Positive  \n",
       "0                    0                   0                   1  \n",
       "1                    1                   0                   1  \n",
       "2                    1                   0                   1  \n",
       "3                    1                   0                   1  \n",
       "4                    1                   0                   1  "
      ]
     },
     "execution_count": 66,
     "metadata": {},
     "output_type": "execute_result"
    }
   ],
   "source": [
    "X_res.head()"
   ]
  },
  {
   "cell_type": "code",
   "execution_count": 67,
   "id": "5d8b73e5-415c-4da7-bb68-7ebf8fafe908",
   "metadata": {},
   "outputs": [],
   "source": [
    "y_respd = pd.DataFrame(y_res)"
   ]
  },
  {
   "cell_type": "code",
   "execution_count": 68,
   "id": "9b8ca3a9-d5e9-4a09-a11a-3a306e997a76",
   "metadata": {},
   "outputs": [
    {
     "data": {
      "text/html": [
       "<div>\n",
       "<style scoped>\n",
       "    .dataframe tbody tr th:only-of-type {\n",
       "        vertical-align: middle;\n",
       "    }\n",
       "\n",
       "    .dataframe tbody tr th {\n",
       "        vertical-align: top;\n",
       "    }\n",
       "\n",
       "    .dataframe thead th {\n",
       "        text-align: right;\n",
       "    }\n",
       "</style>\n",
       "<table border=\"1\" class=\"dataframe\">\n",
       "  <thead>\n",
       "    <tr style=\"text-align: right;\">\n",
       "      <th></th>\n",
       "      <th>icu</th>\n",
       "    </tr>\n",
       "  </thead>\n",
       "  <tbody>\n",
       "    <tr>\n",
       "      <th>0</th>\n",
       "      <td>0</td>\n",
       "    </tr>\n",
       "    <tr>\n",
       "      <th>1</th>\n",
       "      <td>0</td>\n",
       "    </tr>\n",
       "    <tr>\n",
       "      <th>2</th>\n",
       "      <td>0</td>\n",
       "    </tr>\n",
       "    <tr>\n",
       "      <th>3</th>\n",
       "      <td>0</td>\n",
       "    </tr>\n",
       "    <tr>\n",
       "      <th>4</th>\n",
       "      <td>0</td>\n",
       "    </tr>\n",
       "  </tbody>\n",
       "</table>\n",
       "</div>"
      ],
      "text/plain": [
       "   icu\n",
       "0    0\n",
       "1    0\n",
       "2    0\n",
       "3    0\n",
       "4    0"
      ]
     },
     "execution_count": 68,
     "metadata": {},
     "output_type": "execute_result"
    }
   ],
   "source": [
    "y_respd.head()"
   ]
  },
  {
   "cell_type": "code",
   "execution_count": 69,
   "id": "d43aa6b8-301c-4399-aeb0-495fbc7a9028",
   "metadata": {},
   "outputs": [],
   "source": [
    "t_df = pd.concat([X_res, y_respd], axis=1)"
   ]
  },
  {
   "cell_type": "code",
   "execution_count": 70,
   "id": "a9902b76-f466-4068-bd9d-80b599327238",
   "metadata": {},
   "outputs": [
    {
     "data": {
      "text/html": [
       "<div>\n",
       "<style scoped>\n",
       "    .dataframe tbody tr th:only-of-type {\n",
       "        vertical-align: middle;\n",
       "    }\n",
       "\n",
       "    .dataframe tbody tr th {\n",
       "        vertical-align: top;\n",
       "    }\n",
       "\n",
       "    .dataframe thead th {\n",
       "        text-align: right;\n",
       "    }\n",
       "</style>\n",
       "<table border=\"1\" class=\"dataframe\">\n",
       "  <thead>\n",
       "    <tr style=\"text-align: right;\">\n",
       "      <th></th>\n",
       "      <th>sex</th>\n",
       "      <th>patient_type</th>\n",
       "      <th>intubed</th>\n",
       "      <th>pneumonia</th>\n",
       "      <th>diabetes</th>\n",
       "      <th>copd</th>\n",
       "      <th>asthma</th>\n",
       "      <th>inmsupr</th>\n",
       "      <th>hypertension</th>\n",
       "      <th>other_disease</th>\n",
       "      <th>cardiovascular</th>\n",
       "      <th>obesity</th>\n",
       "      <th>renal_chronic</th>\n",
       "      <th>contact_other_covid</th>\n",
       "      <th>covid_res_Negative</th>\n",
       "      <th>covid_res_Positive</th>\n",
       "      <th>icu</th>\n",
       "    </tr>\n",
       "  </thead>\n",
       "  <tbody>\n",
       "    <tr>\n",
       "      <th>0</th>\n",
       "      <td>1</td>\n",
       "      <td>1</td>\n",
       "      <td>0</td>\n",
       "      <td>0</td>\n",
       "      <td>0</td>\n",
       "      <td>0</td>\n",
       "      <td>0</td>\n",
       "      <td>0</td>\n",
       "      <td>0</td>\n",
       "      <td>0</td>\n",
       "      <td>0</td>\n",
       "      <td>0</td>\n",
       "      <td>0</td>\n",
       "      <td>0</td>\n",
       "      <td>0</td>\n",
       "      <td>1</td>\n",
       "      <td>0</td>\n",
       "    </tr>\n",
       "    <tr>\n",
       "      <th>1</th>\n",
       "      <td>1</td>\n",
       "      <td>1</td>\n",
       "      <td>0</td>\n",
       "      <td>0</td>\n",
       "      <td>0</td>\n",
       "      <td>0</td>\n",
       "      <td>0</td>\n",
       "      <td>0</td>\n",
       "      <td>0</td>\n",
       "      <td>0</td>\n",
       "      <td>0</td>\n",
       "      <td>0</td>\n",
       "      <td>0</td>\n",
       "      <td>1</td>\n",
       "      <td>0</td>\n",
       "      <td>1</td>\n",
       "      <td>0</td>\n",
       "    </tr>\n",
       "    <tr>\n",
       "      <th>2</th>\n",
       "      <td>0</td>\n",
       "      <td>0</td>\n",
       "      <td>0</td>\n",
       "      <td>0</td>\n",
       "      <td>0</td>\n",
       "      <td>0</td>\n",
       "      <td>0</td>\n",
       "      <td>0</td>\n",
       "      <td>0</td>\n",
       "      <td>0</td>\n",
       "      <td>0</td>\n",
       "      <td>1</td>\n",
       "      <td>0</td>\n",
       "      <td>1</td>\n",
       "      <td>0</td>\n",
       "      <td>1</td>\n",
       "      <td>0</td>\n",
       "    </tr>\n",
       "    <tr>\n",
       "      <th>3</th>\n",
       "      <td>1</td>\n",
       "      <td>0</td>\n",
       "      <td>0</td>\n",
       "      <td>1</td>\n",
       "      <td>0</td>\n",
       "      <td>0</td>\n",
       "      <td>0</td>\n",
       "      <td>0</td>\n",
       "      <td>0</td>\n",
       "      <td>0</td>\n",
       "      <td>0</td>\n",
       "      <td>0</td>\n",
       "      <td>0</td>\n",
       "      <td>1</td>\n",
       "      <td>0</td>\n",
       "      <td>1</td>\n",
       "      <td>0</td>\n",
       "    </tr>\n",
       "    <tr>\n",
       "      <th>4</th>\n",
       "      <td>0</td>\n",
       "      <td>0</td>\n",
       "      <td>0</td>\n",
       "      <td>0</td>\n",
       "      <td>1</td>\n",
       "      <td>0</td>\n",
       "      <td>0</td>\n",
       "      <td>0</td>\n",
       "      <td>1</td>\n",
       "      <td>0</td>\n",
       "      <td>1</td>\n",
       "      <td>0</td>\n",
       "      <td>0</td>\n",
       "      <td>1</td>\n",
       "      <td>0</td>\n",
       "      <td>1</td>\n",
       "      <td>0</td>\n",
       "    </tr>\n",
       "  </tbody>\n",
       "</table>\n",
       "</div>"
      ],
      "text/plain": [
       "   sex  patient_type  intubed  pneumonia  diabetes  copd  asthma  inmsupr  \\\n",
       "0    1             1        0          0         0     0       0        0   \n",
       "1    1             1        0          0         0     0       0        0   \n",
       "2    0             0        0          0         0     0       0        0   \n",
       "3    1             0        0          1         0     0       0        0   \n",
       "4    0             0        0          0         1     0       0        0   \n",
       "\n",
       "   hypertension  other_disease  cardiovascular  obesity  renal_chronic  \\\n",
       "0             0              0               0        0              0   \n",
       "1             0              0               0        0              0   \n",
       "2             0              0               0        1              0   \n",
       "3             0              0               0        0              0   \n",
       "4             1              0               1        0              0   \n",
       "\n",
       "   contact_other_covid  covid_res_Negative  covid_res_Positive  icu  \n",
       "0                    0                   0                   1    0  \n",
       "1                    1                   0                   1    0  \n",
       "2                    1                   0                   1    0  \n",
       "3                    1                   0                   1    0  \n",
       "4                    1                   0                   1    0  "
      ]
     },
     "execution_count": 70,
     "metadata": {},
     "output_type": "execute_result"
    }
   ],
   "source": [
    "t_df.head()"
   ]
  },
  {
   "cell_type": "code",
   "execution_count": 71,
   "id": "d558ca1e-6733-4580-bf0c-a1d677012119",
   "metadata": {},
   "outputs": [],
   "source": [
    "s_df = pd.concat([df_age, t_df], axis=1)"
   ]
  },
  {
   "cell_type": "code",
   "execution_count": 72,
   "id": "9cb77855-7a8f-48fa-8085-d3d982acf0b6",
   "metadata": {},
   "outputs": [
    {
     "data": {
      "text/plain": [
       "age                    546378\n",
       "sex                         0\n",
       "patient_type                0\n",
       "intubed                     0\n",
       "pneumonia                   0\n",
       "diabetes                    0\n",
       "copd                        0\n",
       "asthma                      0\n",
       "inmsupr                     0\n",
       "hypertension                0\n",
       "other_disease               0\n",
       "cardiovascular              0\n",
       "obesity                     0\n",
       "renal_chronic               0\n",
       "contact_other_covid         0\n",
       "covid_res_Negative          0\n",
       "covid_res_Positive          0\n",
       "icu                         0\n",
       "dtype: int64"
      ]
     },
     "execution_count": 72,
     "metadata": {},
     "output_type": "execute_result"
    }
   ],
   "source": [
    "s_df.isnull().sum()"
   ]
  },
  {
   "cell_type": "code",
   "execution_count": 73,
   "id": "998d32bc-ad89-42ca-9278-94c91feaaa93",
   "metadata": {},
   "outputs": [
    {
     "data": {
      "text/plain": [
       "42.62248280097847"
      ]
     },
     "execution_count": 73,
     "metadata": {},
     "output_type": "execute_result"
    }
   ],
   "source": [
    "s_df[\"age\"].mean()"
   ]
  },
  {
   "cell_type": "code",
   "execution_count": 74,
   "id": "f5aedcd8-3227-4214-ae23-ca98fa085e94",
   "metadata": {},
   "outputs": [],
   "source": [
    "s_df[\"age\"].fillna(43, inplace = True)"
   ]
  },
  {
   "cell_type": "code",
   "execution_count": 75,
   "id": "c5bedf54-d74d-4c5e-be55-ad37ac78b444",
   "metadata": {},
   "outputs": [
    {
     "data": {
      "text/plain": [
       "age                    0\n",
       "sex                    0\n",
       "patient_type           0\n",
       "intubed                0\n",
       "pneumonia              0\n",
       "diabetes               0\n",
       "copd                   0\n",
       "asthma                 0\n",
       "inmsupr                0\n",
       "hypertension           0\n",
       "other_disease          0\n",
       "cardiovascular         0\n",
       "obesity                0\n",
       "renal_chronic          0\n",
       "contact_other_covid    0\n",
       "covid_res_Negative     0\n",
       "covid_res_Positive     0\n",
       "icu                    0\n",
       "dtype: int64"
      ]
     },
     "execution_count": 75,
     "metadata": {},
     "output_type": "execute_result"
    }
   ],
   "source": [
    "s_df.isnull().sum()"
   ]
  },
  {
   "cell_type": "markdown",
   "id": "fa6891fc-8a4a-4a02-b3cc-c7fb6b915c84",
   "metadata": {},
   "source": [
    "### Normalization"
   ]
  },
  {
   "cell_type": "code",
   "execution_count": 76,
   "id": "1f5b5ea7-792d-42fc-a5a4-abbed9284a46",
   "metadata": {},
   "outputs": [],
   "source": [
    "min_max_columns = ['age']\n",
    "\n",
    "# min-max scaler ile ölçeklendirme işlemi\n",
    "for column in min_max_columns:\n",
    "        # sütunun minimum değeri\n",
    "        min_column = s_df[column].min()\n",
    "        # sütunun maksimum değeri\n",
    "        max_column = s_df[column].max()\n",
    "        # min max scaler\n",
    "        s_df[column] = (s_df[column] - min_column) / (max_column - min_column)"
   ]
  },
  {
   "cell_type": "code",
   "execution_count": 77,
   "id": "e05d4162-a179-4474-bc94-c78c9a29d35e",
   "metadata": {},
   "outputs": [
    {
     "data": {
      "text/plain": [
       "0    556490\n",
       "1    556490\n",
       "Name: icu, dtype: int64"
      ]
     },
     "execution_count": 77,
     "metadata": {},
     "output_type": "execute_result"
    }
   ],
   "source": [
    "s_df.icu.value_counts()"
   ]
  },
  {
   "cell_type": "markdown",
   "id": "9e9e965e-03e0-4548-b78d-6e44d3fa94b2",
   "metadata": {},
   "source": [
    "### Model - Prediction - Tuning"
   ]
  },
  {
   "cell_type": "code",
   "execution_count": 78,
   "id": "c2849248-9c42-4341-9659-cabbff033a06",
   "metadata": {},
   "outputs": [],
   "source": [
    "from sklearn.model_selection import train_test_split, GridSearchCV, cross_val_score\n",
    "from sklearn.metrics import confusion_matrix, accuracy_score, classification_report\n",
    "from sklearn.metrics import roc_auc_score,roc_curve"
   ]
  },
  {
   "cell_type": "code",
   "execution_count": 79,
   "id": "148130f7-c180-4094-a612-baf5878221ed",
   "metadata": {},
   "outputs": [],
   "source": [
    "from sklearn.ensemble import GradientBoostingClassifier\n",
    "from xgboost import XGBClassifier\n",
    "from lightgbm import LGBMClassifier"
   ]
  },
  {
   "cell_type": "code",
   "execution_count": 80,
   "id": "2f2c0a8a-42d6-4b27-be4c-2eeb4e05a26a",
   "metadata": {},
   "outputs": [],
   "source": [
    "y = s_df[\"icu\"]\n",
    "X = s_df.drop(['icu'], axis=1)\n",
    "X = pd.DataFrame(X)\n",
    "X_train, X_test, y_train, y_test = train_test_split(X, y, \n",
    "                                                    test_size=0.30, \n",
    "                                                    random_state=42)"
   ]
  },
  {
   "cell_type": "code",
   "execution_count": 79,
   "id": "ac1b2d95-46bc-423e-9a16-4f370729e54f",
   "metadata": {},
   "outputs": [],
   "source": [
    "gbm_model = GradientBoostingClassifier().fit(X_train, y_train)"
   ]
  },
  {
   "cell_type": "markdown",
   "id": "d1eb79dd-0404-4fe0-8b06-816d5928a17c",
   "metadata": {},
   "source": [
    "### GBM Test Accuracy Score"
   ]
  },
  {
   "cell_type": "code",
   "execution_count": 80,
   "id": "baa832ef-720c-4152-99e9-7e30e6925475",
   "metadata": {},
   "outputs": [
    {
     "data": {
      "text/plain": [
       "0.9897452484920364"
      ]
     },
     "execution_count": 80,
     "metadata": {},
     "output_type": "execute_result"
    }
   ],
   "source": [
    "y_pred = gbm_model.predict(X_test)\n",
    "accuracy_score(y_test, y_pred)"
   ]
  },
  {
   "cell_type": "markdown",
   "id": "5d7010e3-7f59-4247-81ad-86389245cf7d",
   "metadata": {},
   "source": [
    "### GBM Train Accuracy Score"
   ]
  },
  {
   "cell_type": "code",
   "execution_count": 81,
   "id": "8dc014f1-e97f-474f-9cff-4215e7c01103",
   "metadata": {},
   "outputs": [
    {
     "data": {
      "text/plain": [
       "0.9898932852085649"
      ]
     },
     "execution_count": 81,
     "metadata": {},
     "output_type": "execute_result"
    }
   ],
   "source": [
    "accuracy_score(y_train, gbm_model.predict(X_train))"
   ]
  },
  {
   "cell_type": "code",
   "execution_count": 82,
   "id": "a78bf938-e55a-4696-b5dd-b9f9df819626",
   "metadata": {},
   "outputs": [],
   "source": [
    "gbm_acc_score = accuracy_score(y_test, y_pred)"
   ]
  },
  {
   "cell_type": "code",
   "execution_count": 83,
   "id": "5cc32529-8cb6-48b7-afb2-bf2358341cdb",
   "metadata": {},
   "outputs": [],
   "source": [
    "gbm_model_conf_matrix = confusion_matrix(y_test, y_pred)"
   ]
  },
  {
   "cell_type": "markdown",
   "id": "9f988ed3-5e88-4684-a34c-fa55ffc62b48",
   "metadata": {},
   "source": [
    "### GBM Confussion Matrix"
   ]
  },
  {
   "cell_type": "code",
   "execution_count": 84,
   "id": "029fc536-ff17-48ac-9090-3793d4afbae4",
   "metadata": {
    "tags": []
   },
   "outputs": [
    {
     "name": "stdout",
     "output_type": "stream",
     "text": [
      "confussion matrix\n",
      "[[165369   1490]\n",
      " [  1934 165101]]\n",
      "\n",
      "\n",
      "Accuracy of RFClassifier: 98.97452484920363 \n",
      "\n",
      "              precision    recall  f1-score   support\n",
      "\n",
      "           0       0.99      0.99      0.99    166859\n",
      "           1       0.99      0.99      0.99    167035\n",
      "\n",
      "    accuracy                           0.99    333894\n",
      "   macro avg       0.99      0.99      0.99    333894\n",
      "weighted avg       0.99      0.99      0.99    333894\n",
      "\n"
     ]
    }
   ],
   "source": [
    "print(\"confussion matrix\")\n",
    "print(gbm_model_conf_matrix)\n",
    "print(\"\\n\")\n",
    "print(\"Accuracy of RFClassifier:\",gbm_acc_score*100,'\\n')\n",
    "print(classification_report(y_test,y_pred))"
   ]
  },
  {
   "cell_type": "code",
   "execution_count": 84,
   "id": "585b301f-f654-4279-b914-512960c03463",
   "metadata": {},
   "outputs": [],
   "source": [
    "from sklearn.metrics import mean_absolute_error\n",
    "from sklearn.model_selection import validation_curve\n",
    "import matplotlib.pyplot as plt"
   ]
  },
  {
   "cell_type": "markdown",
   "id": "eb3ebad3-ab01-419b-b8f2-c8188b141b1c",
   "metadata": {},
   "source": [
    "### GBM Training Error"
   ]
  },
  {
   "cell_type": "code",
   "execution_count": 86,
   "id": "eb7edb85-4192-4f33-a95c-0bca378f5b32",
   "metadata": {},
   "outputs": [],
   "source": [
    "gbm_training_error = mean_absolute_error(y_train,  gbm_model.predict(X_train))"
   ]
  },
  {
   "cell_type": "markdown",
   "id": "f68ba143-9355-4a0f-baa0-7650dc51c612",
   "metadata": {},
   "source": [
    "### GBM Testing Error"
   ]
  },
  {
   "cell_type": "code",
   "execution_count": 87,
   "id": "f5636dc0-db80-4b38-b9f2-9a83412915d7",
   "metadata": {},
   "outputs": [],
   "source": [
    "gbm_testing_error = mean_absolute_error(y_test, y_pred)"
   ]
  },
  {
   "cell_type": "code",
   "execution_count": 88,
   "id": "53d78b08-0161-4384-a869-21e2c715dca3",
   "metadata": {},
   "outputs": [
    {
     "name": "stdout",
     "output_type": "stream",
     "text": [
      "0.010254751507963605\n"
     ]
    }
   ],
   "source": [
    "print(gbm_testing_error)"
   ]
  },
  {
   "cell_type": "code",
   "execution_count": 89,
   "id": "c694fd06-4e55-4b65-947c-88c1d3d22657",
   "metadata": {},
   "outputs": [
    {
     "name": "stdout",
     "output_type": "stream",
     "text": [
      "0.010106714791435092\n"
     ]
    }
   ],
   "source": [
    "print(gbm_training_error)"
   ]
  },
  {
   "cell_type": "markdown",
   "id": "ab36e30b-7296-41a0-b9d9-dd93061ef25b",
   "metadata": {},
   "source": [
    "### Validation Curve for n_estimators"
   ]
  },
  {
   "cell_type": "code",
   "execution_count": 90,
   "id": "56a3a285-82c4-48b7-be5d-c08637de3037",
   "metadata": {},
   "outputs": [],
   "source": [
    "from sklearn.model_selection import validation_curve\n",
    "import numpy as np"
   ]
  },
  {
   "cell_type": "code",
   "execution_count": 91,
   "id": "e6508e2d-f01e-4991-9a32-c6021f1583b5",
   "metadata": {},
   "outputs": [],
   "source": [
    "param_range = np.arange(1, 150, 2)"
   ]
  },
  {
   "cell_type": "code",
   "execution_count": 92,
   "id": "757c53a2-0ef7-4d51-9876-b0c1aaee40f1",
   "metadata": {},
   "outputs": [],
   "source": [
    "train_scores, test_scores = validation_curve(GradientBoostingClassifier(),\n",
    "                                  X, y, param_name=\"n_estimators\", param_range=param_range,\n",
    "                                  cv=4, scoring=\"accuracy\", n_jobs=-1)"
   ]
  },
  {
   "cell_type": "code",
   "execution_count": 93,
   "id": "9a194d89-00f7-4c99-b560-d53b4e56252f",
   "metadata": {},
   "outputs": [],
   "source": [
    "train_mean = np.mean(train_scores, axis=1)\n",
    "train_std = np.std(train_scores, axis=1)\n",
    "\n",
    "test_mean = np.mean(test_scores, axis=1)\n",
    "test_std = np.std(test_scores, axis=1)"
   ]
  },
  {
   "cell_type": "code",
   "execution_count": 94,
   "id": "ce14bf4d-1c2f-4ff2-ae56-1250ae4f2abd",
   "metadata": {},
   "outputs": [],
   "source": [
    "import matplotlib.pyplot as plt"
   ]
  },
  {
   "cell_type": "code",
   "execution_count": 95,
   "id": "0a91285b-0db4-42fc-bc08-ad25dfa27daf",
   "metadata": {},
   "outputs": [
    {
     "data": {
      "image/png": "[encoded data removed]",
      "text/plain": [
       "<Figure size 504x504 with 1 Axes>"
      ]
     },
     "metadata": {
      "needs_background": "light"
     },
     "output_type": "display_data"
    }
   ],
   "source": [
    "plt.subplots(1, figsize=(7,7))\n",
    "plt.plot(param_range, train_mean, label=\"Training score\", color=\"black\")\n",
    "plt.plot(param_range, test_mean, label=\"Cross-validation score\", color=\"dimgrey\")\n",
    "\n",
    "plt.fill_between(param_range, train_mean - train_std, train_mean + train_std, color=\"gray\")\n",
    "plt.fill_between(param_range, test_mean - test_std, test_mean + test_std, color=\"gainsboro\")\n",
    " \n",
    "plt.title(\"Validation Curve With GBM\")\n",
    "plt.xlabel(\"Number Of Trees\")\n",
    "plt.ylabel(\"Accuracy Score\")\n",
    "plt.tight_layout()\n",
    "plt.legend(loc=\"best\")\n",
    "plt.show()"
   ]
  },
  {
   "cell_type": "markdown",
   "id": "8215b491-0d00-4792-8d93-62c7976461a9",
   "metadata": {},
   "source": [
    "### Validation Curve for max_depth"
   ]
  },
  {
   "cell_type": "code",
   "execution_count": 96,
   "id": "3f14b5b1-6c71-4b66-8f7b-efec1821b377",
   "metadata": {},
   "outputs": [],
   "source": [
    "param_range_1 = np.arange(1, 10, 1)"
   ]
  },
  {
   "cell_type": "code",
   "execution_count": 97,
   "id": "0dddae6b-8208-4b5b-adaa-5d66f49e9120",
   "metadata": {},
   "outputs": [],
   "source": [
    "train_scores_1, test_scores_1 = validation_curve(GradientBoostingClassifier(),\n",
    "                                  X, y, param_name=\"max_depth\", param_range=param_range_1,\n",
    "                                  cv=4, scoring=\"accuracy\", n_jobs=-1)"
   ]
  },
  {
   "cell_type": "code",
   "execution_count": 98,
   "id": "b5d4faee-b4af-4e99-8723-e83e10a6e029",
   "metadata": {},
   "outputs": [],
   "source": [
    "train_mean_1 = np.mean(train_scores_1, axis=1)\n",
    "train_std_1 = np.std(train_scores_1, axis=1)\n",
    "\n",
    "test_mean_1 = np.mean(test_scores_1, axis=1)\n",
    "test_std_1 = np.std(test_scores_1, axis=1)"
   ]
  },
  {
   "cell_type": "code",
   "execution_count": 100,
   "id": "01344038-570f-4a2c-a5b1-f6a3c4c16d02",
   "metadata": {},
   "outputs": [
    {
     "data": {
      "image/png": "[encoded data removed]",
      "text/plain": [
       "<Figure size 504x504 with 1 Axes>"
      ]
     },
     "metadata": {
      "needs_background": "light"
     },
     "output_type": "display_data"
    }
   ],
   "source": [
    "plt.subplots(1, figsize=(7,7))\n",
    "plt.plot(param_range_1, train_mean_1, label=\"Training score\", color=\"black\")\n",
    "plt.plot(param_range_1, test_mean_1, label=\"Cross-validation score\", color=\"dimgrey\")\n",
    "\n",
    "plt.fill_between(param_range_1, train_mean_1 - train_std_1, train_mean_1 + train_std_1, color=\"gray\")\n",
    "plt.fill_between(param_range_1, test_mean_1 - test_std_1, test_mean_1 + test_std_1, color=\"gainsboro\")\n",
    " \n",
    "plt.title(\"Validation Curve With GBM\")\n",
    "plt.xlabel(\"max_depth\")\n",
    "plt.ylabel(\"Accuracy Score\")\n",
    "plt.tight_layout()\n",
    "plt.legend(loc=\"best\")\n",
    "plt.show()"
   ]
  },
  {
   "cell_type": "markdown",
   "id": "56a29592-92e6-457f-9299-57e454f0c740",
   "metadata": {},
   "source": [
    "### Validation Curve for min_samples_split"
   ]
  },
  {
   "cell_type": "code",
   "execution_count": 101,
   "id": "2a673973-24b5-4736-8f50-632a530d20d6",
   "metadata": {},
   "outputs": [],
   "source": [
    "param_range_1 = np.arange(1, 10, 1)"
   ]
  },
  {
   "cell_type": "code",
   "execution_count": 102,
   "id": "eff60343-a706-417b-bef2-f08da93c412e",
   "metadata": {},
   "outputs": [],
   "source": [
    "train_scores_2, test_scores_2 = validation_curve(GradientBoostingClassifier(),\n",
    "                                  X, y, param_name=\"min_samples_split\", param_range=param_range_1,\n",
    "                                  cv=4, scoring=\"accuracy\", n_jobs=-1)"
   ]
  },
  {
   "cell_type": "code",
   "execution_count": 103,
   "id": "5836586c-f5f0-40e4-9a65-247fd2c4efcf",
   "metadata": {},
   "outputs": [],
   "source": [
    "train_mean_2 = np.mean(train_scores_2, axis=1)\n",
    "train_std_2 = np.std(train_scores_2, axis=1)\n",
    "\n",
    "test_mean_2 = np.mean(test_scores_2, axis=1)\n",
    "test_std_2 = np.std(test_scores_2, axis=1)"
   ]
  },
  {
   "cell_type": "code",
   "execution_count": 104,
   "id": "664883f9-8f91-42e8-9cc5-f986069527b0",
   "metadata": {},
   "outputs": [
    {
     "data": {
      "image/png": "[encoded data removed]",
      "text/plain": [
       "<Figure size 504x504 with 1 Axes>"
      ]
     },
     "metadata": {
      "needs_background": "light"
     },
     "output_type": "display_data"
    }
   ],
   "source": [
    "plt.subplots(1, figsize=(7,7))\n",
    "plt.plot(param_range_1, train_mean_2, label=\"Training score\", color=\"black\")\n",
    "plt.plot(param_range_1, test_mean_2, label=\"Cross-validation score\", color=\"dimgrey\")\n",
    "\n",
    "plt.fill_between(param_range_1, train_mean_2 - train_std_2, train_mean_2 + train_std_2, color=\"gray\")\n",
    "plt.fill_between(param_range_1, test_mean_2 - test_std_2, test_mean_2 + test_std_2, color=\"gainsboro\")\n",
    " \n",
    "plt.title(\"Validation Curve With GBM\")\n",
    "plt.xlabel(\"min_samples_split\")\n",
    "plt.ylabel(\"Accuracy Score\")\n",
    "plt.tight_layout()\n",
    "plt.legend(loc=\"best\")\n",
    "plt.show()"
   ]
  },
  {
   "cell_type": "markdown",
   "id": "2cf02a03-e828-423e-86ce-1503b3ecc1c3",
   "metadata": {},
   "source": [
    "### Validation Curve for learning rate"
   ]
  },
  {
   "cell_type": "code",
   "execution_count": 114,
   "id": "22b791be-11f5-45bf-b74b-d5c7fc3efeff",
   "metadata": {},
   "outputs": [],
   "source": [
    "param_range_2 = np.arange(0, 1, 0.10)"
   ]
  },
  {
   "cell_type": "code",
   "execution_count": 115,
   "id": "45a3636e-e345-4220-9360-a5fb5051cdde",
   "metadata": {},
   "outputs": [],
   "source": [
    "train_scores_3, test_scores_3 = validation_curve(GradientBoostingClassifier(),\n",
    "                                  X, y, param_name=\"learning_rate\", param_range=param_range_2,\n",
    "                                  cv=4, scoring=\"accuracy\", n_jobs=-1)"
   ]
  },
  {
   "cell_type": "code",
   "execution_count": 116,
   "id": "2d29f961-7611-4ffe-9bdc-b7b4579d5333",
   "metadata": {},
   "outputs": [],
   "source": [
    "train_mean_3 = np.mean(train_scores_3, axis=1)\n",
    "train_std_3 = np.std(train_scores_3, axis=1)\n",
    "\n",
    "test_mean_3 = np.mean(test_scores_3, axis=1)\n",
    "test_std_3 = np.std(test_scores_3, axis=1)"
   ]
  },
  {
   "cell_type": "code",
   "execution_count": 117,
   "id": "7d99a374-46ad-4872-bb7f-905706bd6743",
   "metadata": {},
   "outputs": [
    {
     "data": {
      "image/png": "[encoded data removed]",
      "text/plain": [
       "<Figure size 504x504 with 1 Axes>"
      ]
     },
     "metadata": {
      "needs_background": "light"
     },
     "output_type": "display_data"
    }
   ],
   "source": [
    "plt.subplots(1, figsize=(7,7))\n",
    "plt.plot(param_range_2, train_mean_3, label=\"Training score\", color=\"black\")\n",
    "plt.plot(param_range_2, test_mean_3, label=\"Cross-validation score\", color=\"dimgrey\")\n",
    "\n",
    "plt.fill_between(param_range_2, train_mean_3 - train_std_3, train_mean_3 + train_std_3, color=\"gray\")\n",
    "plt.fill_between(param_range_2, test_mean_3 - test_std_3, test_mean_3 + test_std_3, color=\"gainsboro\")\n",
    " \n",
    "plt.title(\"Validation Curve With GBM\")\n",
    "plt.xlabel(\"learning rate\")\n",
    "plt.ylabel(\"Accuracy Score\")\n",
    "plt.tight_layout()\n",
    "plt.legend(loc=\"best\")\n",
    "plt.show()"
   ]
  },
  {
   "cell_type": "code",
   "execution_count": 118,
   "id": "e9e05ad4-5c8c-4a07-b31e-16ead97097d5",
   "metadata": {},
   "outputs": [],
   "source": [
    "param_range_3 = np.arange(0, 0.1, 0.01)"
   ]
  },
  {
   "cell_type": "code",
   "execution_count": 119,
   "id": "0a4360dd-887d-4005-a98a-e5462d4d2989",
   "metadata": {},
   "outputs": [],
   "source": [
    "train_scores_4, test_scores_4 = validation_curve(GradientBoostingClassifier(),\n",
    "                                  X, y, param_name=\"learning_rate\", param_range=param_range_3,\n",
    "                                  cv=4, scoring=\"accuracy\", n_jobs=-1)"
   ]
  },
  {
   "cell_type": "code",
   "execution_count": 120,
   "id": "28932107-1909-46e2-a612-73ef819b6aad",
   "metadata": {},
   "outputs": [],
   "source": [
    "train_mean_4 = np.mean(train_scores_4, axis=1)\n",
    "train_std_4 = np.std(train_scores_4, axis=1)\n",
    "\n",
    "test_mean_4 = np.mean(test_scores_4, axis=1)\n",
    "test_std_4 = np.std(test_scores_4, axis=1)"
   ]
  },
  {
   "cell_type": "code",
   "execution_count": 121,
   "id": "ab6f794a-a1de-4e8e-93a4-7f105c6bfad6",
   "metadata": {},
   "outputs": [
    {
     "data": {
      "image/png": "[encoded data removed]",
      "text/plain": [
       "<Figure size 504x504 with 1 Axes>"
      ]
     },
     "metadata": {
      "needs_background": "light"
     },
     "output_type": "display_data"
    }
   ],
   "source": [
    "plt.subplots(1, figsize=(7,7))\n",
    "plt.plot(param_range_3, train_mean_4, label=\"Training score\", color=\"black\")\n",
    "plt.plot(param_range_3, test_mean_4, label=\"Cross-validation score\", color=\"dimgrey\")\n",
    "\n",
    "plt.fill_between(param_range_3, train_mean_4 - train_std_4, train_mean_4 + train_std_3, color=\"gray\")\n",
    "plt.fill_between(param_range_3, test_mean_4 - test_std_4, test_mean_4 + test_std_3, color=\"gainsboro\")\n",
    " \n",
    "plt.title(\"Validation Curve With GBM\")\n",
    "plt.xlabel(\"learning rate\")\n",
    "plt.ylabel(\"Accuracy Score\")\n",
    "plt.tight_layout()\n",
    "plt.legend(loc=\"best\")\n",
    "plt.show()"
   ]
  },
  {
   "cell_type": "markdown",
   "id": "05a2260a-51b1-449f-9904-773578ed953a",
   "metadata": {},
   "source": [
    "### GBM Parameter Tuning"
   ]
  },
  {
   "cell_type": "code",
   "execution_count": 81,
   "id": "daad334a-f484-4339-a744-5d7f90085811",
   "metadata": {},
   "outputs": [],
   "source": [
    "gbm_tune = GradientBoostingClassifier(learning_rate = 0.08, \n",
    "                                 max_depth = 1,\n",
    "                                min_samples_split = 2,\n",
    "                                n_estimators = 80)"
   ]
  },
  {
   "cell_type": "code",
   "execution_count": 82,
   "id": "638e350d-7c30-4181-91d9-58f0eaf90556",
   "metadata": {},
   "outputs": [],
   "source": [
    "gbm_tuned =  gbm_tune.fit(X_train,y_train)"
   ]
  },
  {
   "cell_type": "code",
   "execution_count": 83,
   "id": "a360a8ed-d008-4373-86c0-755e0ca744f5",
   "metadata": {},
   "outputs": [
    {
     "data": {
      "text/plain": [
       "0.9890234625360145"
      ]
     },
     "execution_count": 83,
     "metadata": {},
     "output_type": "execute_result"
    }
   ],
   "source": [
    "y_pred = gbm_tuned.predict(X_test)\n",
    "accuracy_score(y_test, y_pred)"
   ]
  },
  {
   "cell_type": "code",
   "execution_count": 84,
   "id": "af5bc89b-b3bc-4f8d-8c55-3b61f883ec62",
   "metadata": {},
   "outputs": [],
   "source": [
    "gbm_acc_score_tuned = accuracy_score(y_test, y_pred)"
   ]
  },
  {
   "cell_type": "code",
   "execution_count": 85,
   "id": "6759bd96-29f4-45aa-beec-c154568209fa",
   "metadata": {},
   "outputs": [],
   "source": [
    "gbm_model_conf_matrix_tuned = confusion_matrix(y_test, y_pred)"
   ]
  },
  {
   "cell_type": "code",
   "execution_count": 86,
   "id": "ac7bcec3-fc2c-42c5-98a4-13b0ca18a591",
   "metadata": {},
   "outputs": [
    {
     "name": "stdout",
     "output_type": "stream",
     "text": [
      "confussion matrix\n",
      "[[166208    651]\n",
      " [  3014 164021]]\n",
      "\n",
      "\n",
      "Accuracy of GBMClassifier: 98.90234625360145 \n",
      "\n",
      "              precision    recall  f1-score   support\n",
      "\n",
      "           0       0.98      1.00      0.99    166859\n",
      "           1       1.00      0.98      0.99    167035\n",
      "\n",
      "    accuracy                           0.99    333894\n",
      "   macro avg       0.99      0.99      0.99    333894\n",
      "weighted avg       0.99      0.99      0.99    333894\n",
      "\n"
     ]
    }
   ],
   "source": [
    "print(\"confussion matrix\")\n",
    "print(gbm_model_conf_matrix_tuned)\n",
    "print(\"\\n\")\n",
    "print(\"Accuracy of GBMClassifier:\",gbm_acc_score_tuned*100,'\\n')\n",
    "print(classification_report(y_test,y_pred))"
   ]
  },
  {
   "cell_type": "markdown",
   "id": "f712f95d-c8bb-4d04-b533-2aa128cd16b1",
   "metadata": {},
   "source": [
    "### XGBOOST"
   ]
  },
  {
   "cell_type": "code",
   "execution_count": 117,
   "id": "10e0ae6e-9c9c-47fb-9a41-d29fafd3dc43",
   "metadata": {
    "collapsed": true,
    "jupyter": {
     "outputs_hidden": true
    },
    "tags": []
   },
   "outputs": [
    {
     "name": "stdout",
     "output_type": "stream",
     "text": [
      "[02:42:35] WARNING: C:/Users/Administrator/workspace/xgboost-win64_release_1.5.1/src/learner.cc:1115: Starting in XGBoost 1.3.0, the default evaluation metric used with the objective 'binary:logistic' was changed from 'error' to 'logloss'. Explicitly set eval_metric if you'd like to restore the old behavior.\n"
     ]
    }
   ],
   "source": [
    "xgb_model = XGBClassifier().fit(X_train, y_train)"
   ]
  },
  {
   "cell_type": "code",
   "execution_count": 118,
   "id": "0dc8ba25-f45d-46d9-987b-1ae3c77ba5d1",
   "metadata": {},
   "outputs": [
    {
     "data": {
      "text/plain": [
       "0.989859057066015"
      ]
     },
     "execution_count": 118,
     "metadata": {},
     "output_type": "execute_result"
    }
   ],
   "source": [
    "y_pred = xgb_model.predict(X_test)\n",
    "accuracy_score(y_test, y_pred)"
   ]
  },
  {
   "cell_type": "code",
   "execution_count": 119,
   "id": "171c2eaa-2bf7-4b86-aafc-88ce40b7ea73",
   "metadata": {},
   "outputs": [],
   "source": [
    "xgbm_acc_score = accuracy_score(y_test, y_pred)"
   ]
  },
  {
   "cell_type": "code",
   "execution_count": 120,
   "id": "9eefe000-d71f-4adc-969f-1a1160759457",
   "metadata": {},
   "outputs": [],
   "source": [
    "xgbm_model_conf_matrix = confusion_matrix(y_test, y_pred)"
   ]
  },
  {
   "cell_type": "markdown",
   "id": "0d4f5c51-e413-42c3-8d44-b119f998a18c",
   "metadata": {},
   "source": [
    "### XGBM Confussion Matrix"
   ]
  },
  {
   "cell_type": "code",
   "execution_count": 121,
   "id": "46434f27-263f-4372-9e23-d0f70f14f6dc",
   "metadata": {},
   "outputs": [
    {
     "name": "stdout",
     "output_type": "stream",
     "text": [
      "confussion matrix\n",
      "[[165645   1214]\n",
      " [  2172 164863]]\n",
      "\n",
      "\n",
      "Accuracy of XGBMClassifier: 98.9859057066015 \n",
      "\n",
      "              precision    recall  f1-score   support\n",
      "\n",
      "           0       0.99      0.99      0.99    166859\n",
      "           1       0.99      0.99      0.99    167035\n",
      "\n",
      "    accuracy                           0.99    333894\n",
      "   macro avg       0.99      0.99      0.99    333894\n",
      "weighted avg       0.99      0.99      0.99    333894\n",
      "\n"
     ]
    }
   ],
   "source": [
    "print(\"confussion matrix\")\n",
    "print(xgbm_model_conf_matrix)\n",
    "print(\"\\n\")\n",
    "print(\"Accuracy of XGBMClassifier:\",xgbm_acc_score*100,'\\n')\n",
    "print(classification_report(y_test,y_pred))"
   ]
  },
  {
   "cell_type": "markdown",
   "id": "c54d5836-08ed-4417-9ead-4f7d13d3c420",
   "metadata": {},
   "source": [
    "### XGBM Training and Testing Error"
   ]
  },
  {
   "cell_type": "code",
   "execution_count": 140,
   "id": "ddd2cd23-080c-4d1a-86f6-49dc75d236ed",
   "metadata": {},
   "outputs": [],
   "source": [
    "xgbm_training_error = mean_absolute_error(y_train,  xgb_model.predict(X_train))"
   ]
  },
  {
   "cell_type": "code",
   "execution_count": 141,
   "id": "4e20e26d-f152-41a4-8dc7-cb3c98ddedde",
   "metadata": {},
   "outputs": [],
   "source": [
    "xgbm_testing_error = mean_absolute_error(y_test, y_pred)"
   ]
  },
  {
   "cell_type": "code",
   "execution_count": 142,
   "id": "3d673aa6-2431-4f6f-b861-61dfda8777e0",
   "metadata": {},
   "outputs": [
    {
     "name": "stdout",
     "output_type": "stream",
     "text": [
      "0.009076019848899865\n"
     ]
    }
   ],
   "source": [
    "print(xgbm_training_error)"
   ]
  },
  {
   "cell_type": "code",
   "execution_count": 143,
   "id": "e4c06319-f862-46f7-a787-268f1eb0a780",
   "metadata": {},
   "outputs": [
    {
     "name": "stdout",
     "output_type": "stream",
     "text": [
      "0.010140942933985037\n"
     ]
    }
   ],
   "source": [
    "print(xgbm_testing_error)"
   ]
  },
  {
   "cell_type": "markdown",
   "id": "6c8e9244-683a-4636-a8cc-809a21df1ae3",
   "metadata": {},
   "source": [
    "### XGBM Validation Curve for n_estimators"
   ]
  },
  {
   "cell_type": "code",
   "execution_count": 145,
   "id": "f63c6f4f-147c-41db-9618-04e1791f1c69",
   "metadata": {},
   "outputs": [],
   "source": [
    "param_range_xgbm = np.arange(1, 150, 2)"
   ]
  },
  {
   "cell_type": "code",
   "execution_count": 146,
   "id": "f80aa68f-d5c1-488c-ac2a-5158ee6c10df",
   "metadata": {},
   "outputs": [],
   "source": [
    "train_scores_xgbm, test_scores_xgbm = validation_curve(XGBClassifier(),\n",
    "                                  X, y, param_name=\"n_estimators\", param_range=param_range_xgbm,\n",
    "                                  cv=4, scoring=\"accuracy\", n_jobs=-1)"
   ]
  },
  {
   "cell_type": "code",
   "execution_count": 148,
   "id": "6b1a729f-9b61-4d60-a524-7f2c239cf18b",
   "metadata": {},
   "outputs": [],
   "source": [
    "train_mean_5 = np.mean(train_scores_xgbm, axis=1)\n",
    "train_std_5 = np.std(train_scores_xgbm, axis=1)\n",
    "\n",
    "test_mean_5 = np.mean(test_scores_xgbm, axis=1)\n",
    "test_std_5 = np.std(test_scores_xgbm, axis=1)"
   ]
  },
  {
   "cell_type": "code",
   "execution_count": 149,
   "id": "8813b842-a5d4-4140-8d0f-7aff4114ab24",
   "metadata": {},
   "outputs": [
    {
     "data": {
      "image/png": "[encoded data removed]",
      "text/plain": [
       "<Figure size 504x504 with 1 Axes>"
      ]
     },
     "metadata": {
      "needs_background": "light"
     },
     "output_type": "display_data"
    }
   ],
   "source": [
    "plt.subplots(1, figsize=(7,7))\n",
    "plt.plot(param_range_xgbm, train_mean_5, label=\"Training score\", color=\"black\")\n",
    "plt.plot(param_range_xgbm, test_mean_5, label=\"Cross-validation score\", color=\"dimgrey\")\n",
    "\n",
    "plt.fill_between(param_range_xgbm, train_mean_5 - train_std_5, train_mean_5 + train_std_5, color=\"gray\")\n",
    "plt.fill_between(param_range_xgbm, test_mean_5 - test_std_5, test_mean_5 + test_std_5, color=\"gainsboro\")\n",
    " \n",
    "plt.title(\"Validation Curve With XGBM\")\n",
    "plt.xlabel(\"n_estimators\")\n",
    "plt.ylabel(\"Accuracy Score\")\n",
    "plt.tight_layout()\n",
    "plt.legend(loc=\"best\")\n",
    "plt.show()"
   ]
  },
  {
   "cell_type": "markdown",
   "id": "5cd12903-eeff-4b72-8ca1-a461b5527b0e",
   "metadata": {},
   "source": [
    "### XGBM Validation Curve for subsample"
   ]
  },
  {
   "cell_type": "code",
   "execution_count": 152,
   "id": "fada0595-9857-4bae-8a0d-4bf1ab61dc08",
   "metadata": {},
   "outputs": [],
   "source": [
    "param_range_xgbm1 = np.arange(0, 1, 0.1)"
   ]
  },
  {
   "cell_type": "code",
   "execution_count": 153,
   "id": "99e341df-b218-4e84-861f-891767821bf2",
   "metadata": {},
   "outputs": [],
   "source": [
    "train_scores_xgbm1, test_scores_xgbm1 = validation_curve(XGBClassifier(),\n",
    "                                  X, y, param_name=\"subsample\", param_range=param_range_xgbm1,\n",
    "                                  cv=4, scoring=\"accuracy\", n_jobs=-1)"
   ]
  },
  {
   "cell_type": "code",
   "execution_count": 154,
   "id": "c4eabaa1-428a-499f-aa46-4def3ec42959",
   "metadata": {},
   "outputs": [],
   "source": [
    "train_mean_6 = np.mean(train_scores_xgbm1, axis=1)\n",
    "train_std_6 = np.std(train_scores_xgbm1, axis=1)\n",
    "\n",
    "test_mean_6 = np.mean(test_scores_xgbm1, axis=1)\n",
    "test_std_6 = np.std(test_scores_xgbm1, axis=1)"
   ]
  },
  {
   "cell_type": "code",
   "execution_count": 155,
   "id": "c1419639-6a94-4ec6-a2c6-3ae19fbcb7b6",
   "metadata": {},
   "outputs": [
    {
     "data": {
      "image/png": "[encoded data removed]",
      "text/plain": [
       "<Figure size 504x504 with 1 Axes>"
      ]
     },
     "metadata": {
      "needs_background": "light"
     },
     "output_type": "display_data"
    }
   ],
   "source": [
    "plt.subplots(1, figsize=(7,7))\n",
    "plt.plot(param_range_xgbm1, train_mean_6, label=\"Training score\", color=\"black\")\n",
    "plt.plot(param_range_xgbm1, test_mean_6, label=\"Cross-validation score\", color=\"dimgrey\")\n",
    "\n",
    "plt.fill_between(param_range_xgbm1, train_mean_6 - train_std_6, train_mean_6 + train_std_6, color=\"gray\")\n",
    "plt.fill_between(param_range_xgbm1, test_mean_6 - test_std_6, test_mean_6 + test_std_6, color=\"gainsboro\")\n",
    " \n",
    "plt.title(\"Validation Curve With XGBM\")\n",
    "plt.xlabel(\"subsample\")\n",
    "plt.ylabel(\"Accuracy Score\")\n",
    "plt.tight_layout()\n",
    "plt.legend(loc=\"best\")\n",
    "plt.show()"
   ]
  },
  {
   "cell_type": "markdown",
   "id": "d60abc3b-44a9-45ee-a8e0-695e0f16d54c",
   "metadata": {},
   "source": [
    "###  XGBM Validation Curve for max_depth"
   ]
  },
  {
   "cell_type": "code",
   "execution_count": 156,
   "id": "99f2a601-fb04-4a3a-a3c8-07352ccd2cb1",
   "metadata": {},
   "outputs": [],
   "source": [
    "param_range_1 = np.arange(1, 10, 1)"
   ]
  },
  {
   "cell_type": "code",
   "execution_count": 157,
   "id": "04ff2395-e528-4482-aed8-f6ef106db27a",
   "metadata": {},
   "outputs": [],
   "source": [
    "train_scores_xgbm2, test_scores_xgbm2 = validation_curve(XGBClassifier(),\n",
    "                                  X, y, param_name=\"max_depth\", param_range=param_range_1,\n",
    "                                  cv=4, scoring=\"accuracy\", n_jobs=-1)"
   ]
  },
  {
   "cell_type": "code",
   "execution_count": 158,
   "id": "baf8ff13-22c1-4123-b9d7-c88b782db357",
   "metadata": {},
   "outputs": [],
   "source": [
    "train_mean_7 = np.mean(train_scores_xgbm2, axis=1)\n",
    "train_std_7= np.std(train_scores_xgbm2, axis=1)\n",
    "\n",
    "test_mean_7 = np.mean(test_scores_xgbm2, axis=1)\n",
    "test_std_7 = np.std(test_scores_xgbm2, axis=1)"
   ]
  },
  {
   "cell_type": "code",
   "execution_count": 159,
   "id": "926e8cfb-adb6-4fa4-8ab4-5a39a8180f83",
   "metadata": {},
   "outputs": [
    {
     "data": {
      "image/png": "[encoded data removed]",
      "text/plain": [
       "<Figure size 504x504 with 1 Axes>"
      ]
     },
     "metadata": {
      "needs_background": "light"
     },
     "output_type": "display_data"
    }
   ],
   "source": [
    "plt.subplots(1, figsize=(7,7))\n",
    "plt.plot(param_range_1, train_mean_7, label=\"Training score\", color=\"black\")\n",
    "plt.plot(param_range_1, test_mean_7, label=\"Cross-validation score\", color=\"dimgrey\")\n",
    "\n",
    "plt.fill_between(param_range_1, train_mean_7 - train_std_7, train_mean_7 + train_std_7, color=\"gray\")\n",
    "plt.fill_between(param_range_1, test_mean_7 - test_std_7, test_mean_7 + test_std_7, color=\"gainsboro\")\n",
    " \n",
    "plt.title(\"Validation Curve With XGBM\")\n",
    "plt.xlabel(\"max_depth\")\n",
    "plt.ylabel(\"Accuracy Score\")\n",
    "plt.tight_layout()\n",
    "plt.legend(loc=\"best\")\n",
    "plt.show()"
   ]
  },
  {
   "cell_type": "markdown",
   "id": "73436202-cc95-45b6-82ef-0ed8ef307800",
   "metadata": {},
   "source": [
    "###  XGBM Validation Curve for learning rate"
   ]
  },
  {
   "cell_type": "code",
   "execution_count": 162,
   "id": "bd094525-041d-45e9-a254-be3ba36afec6",
   "metadata": {},
   "outputs": [],
   "source": [
    "param_range_lr = np.arange(0, 1, 0.01)"
   ]
  },
  {
   "cell_type": "code",
   "execution_count": 163,
   "id": "3b176888-595d-4b36-b60b-d1925322dad2",
   "metadata": {},
   "outputs": [],
   "source": [
    "train_scores_xgbm3, test_scores_xgbm3 = validation_curve(XGBClassifier(),\n",
    "                                  X, y, param_name=\"learning_rate\", param_range=param_range_lr,\n",
    "                                  cv=4, scoring=\"accuracy\", n_jobs=-1)"
   ]
  },
  {
   "cell_type": "code",
   "execution_count": 164,
   "id": "18331fd9-e347-4477-adfc-09989ca94851",
   "metadata": {},
   "outputs": [],
   "source": [
    "train_mean_8 = np.mean(train_scores_xgbm3, axis=1)\n",
    "train_std_8= np.std(train_scores_xgbm3, axis=1)\n",
    "\n",
    "test_mean_8 = np.mean(test_scores_xgbm3, axis=1)\n",
    "test_std_8 = np.std(test_scores_xgbm3, axis=1)"
   ]
  },
  {
   "cell_type": "code",
   "execution_count": 165,
   "id": "efa3a255-5f5f-4dca-866b-0500d724b90b",
   "metadata": {},
   "outputs": [
    {
     "data": {
      "image/png": "[encoded data removed]",
      "text/plain": [
       "<Figure size 504x504 with 1 Axes>"
      ]
     },
     "metadata": {
      "needs_background": "light"
     },
     "output_type": "display_data"
    }
   ],
   "source": [
    "plt.subplots(1, figsize=(7,7))\n",
    "plt.plot(param_range_lr, train_mean_8, label=\"Training score\", color=\"black\")\n",
    "plt.plot(param_range_lr, test_mean_8, label=\"Cross-validation score\", color=\"dimgrey\")\n",
    "\n",
    "plt.fill_between(param_range_lr, train_mean_8 - train_std_8, train_mean_8 + train_std_8, color=\"gray\")\n",
    "plt.fill_between(param_range_lr, test_mean_8 - test_std_8, test_mean_8 + test_std_8, color=\"gainsboro\")\n",
    " \n",
    "plt.title(\"Validation Curve With XGBM\")\n",
    "plt.xlabel(\"learning_rate\")\n",
    "plt.ylabel(\"Accuracy Score\")\n",
    "plt.tight_layout()\n",
    "plt.legend(loc=\"best\")\n",
    "plt.show()"
   ]
  },
  {
   "cell_type": "markdown",
   "id": "4a0e75d0-5b04-410a-88c8-2d1b7e9e3b01",
   "metadata": {},
   "source": [
    "###  XGBM Validation Curve for gamma"
   ]
  },
  {
   "cell_type": "code",
   "execution_count": 167,
   "id": "d523f829-f260-4b04-8377-b78f1306a317",
   "metadata": {},
   "outputs": [],
   "source": [
    "param_range_gamma = np.arange(0, 5, 0.5)"
   ]
  },
  {
   "cell_type": "code",
   "execution_count": 168,
   "id": "24370e65-b131-4c3b-98e1-dd4dfe63fd2f",
   "metadata": {},
   "outputs": [],
   "source": [
    "train_scores_xgbm4, test_scores_xgbm4 = validation_curve(XGBClassifier(),\n",
    "                                  X, y, param_name=\"gamma\", param_range=param_range_gamma,\n",
    "                                  cv=4, scoring=\"accuracy\", n_jobs=-1)"
   ]
  },
  {
   "cell_type": "code",
   "execution_count": 169,
   "id": "a91a93a8-d595-48c3-b42e-b8e9f68b7d80",
   "metadata": {},
   "outputs": [],
   "source": [
    "train_mean_9 = np.mean(train_scores_xgbm4, axis=1)\n",
    "train_std_9 = np.std(train_scores_xgbm4, axis=1)\n",
    "\n",
    "test_mean_9 = np.mean(test_scores_xgbm4, axis=1)\n",
    "test_std_9 = np.std(test_scores_xgbm4, axis=1)"
   ]
  },
  {
   "cell_type": "code",
   "execution_count": 170,
   "id": "181bb138-b30c-4d33-8579-3e6f3440103e",
   "metadata": {},
   "outputs": [
    {
     "data": {
      "image/png": "[encoded data removed]",
      "text/plain": [
       "<Figure size 504x504 with 1 Axes>"
      ]
     },
     "metadata": {
      "needs_background": "light"
     },
     "output_type": "display_data"
    }
   ],
   "source": [
    "plt.subplots(1, figsize=(7,7))\n",
    "plt.plot(param_range_gamma, train_mean_9, label=\"Training score\", color=\"black\")\n",
    "plt.plot(param_range_gamma, test_mean_9, label=\"Cross-validation score\", color=\"dimgrey\")\n",
    "\n",
    "plt.fill_between(param_range_gamma, train_mean_9 - train_std_9, train_mean_9 + train_std_9, color=\"gray\")\n",
    "plt.fill_between(param_range_gamma, test_mean_9 - test_std_9, test_mean_9 + test_std_9, color=\"gainsboro\")\n",
    " \n",
    "plt.title(\"Validation Curve With XGBM\")\n",
    "plt.xlabel(\"gamma\")\n",
    "plt.ylabel(\"Accuracy Score\")\n",
    "plt.tight_layout()\n",
    "plt.legend(loc=\"best\")\n",
    "plt.show()"
   ]
  },
  {
   "cell_type": "markdown",
   "id": "784549d8-b351-4bfb-8ba4-3df0cb37ec7d",
   "metadata": {},
   "source": [
    "### XGBM Parameter Tuning"
   ]
  },
  {
   "cell_type": "code",
   "execution_count": 183,
   "id": "aa01c775-85a0-401d-8359-5b188892fba7",
   "metadata": {},
   "outputs": [],
   "source": [
    "xgb_cv = XGBClassifier(learning_rate = 0.01, \n",
    "                    max_depth = 3,\n",
    "                    gamma = 0.5,\n",
    "                    n_estimators = 50,\n",
    "                    subsample = 0.1)"
   ]
  },
  {
   "cell_type": "code",
   "execution_count": 184,
   "id": "e3acd97a-b343-4b09-946f-3bfb67498f4e",
   "metadata": {
    "collapsed": true,
    "jupyter": {
     "outputs_hidden": true
    },
    "tags": []
   },
   "outputs": [
    {
     "name": "stderr",
     "output_type": "stream",
     "text": [
      "C:\\Users\\Erkut\\anaconda3\\lib\\site-packages\\xgboost\\sklearn.py:1224: UserWarning: The use of label encoder in XGBClassifier is deprecated and will be removed in a future release. To remove this warning, do the following: 1) Pass option use_label_encoder=False when constructing XGBClassifier object; and 2) Encode your labels (y) as integers starting with 0, i.e. 0, 1, 2, ..., [num_class - 1].\n",
      "  warnings.warn(label_encoder_deprecation_msg, UserWarning)\n"
     ]
    },
    {
     "name": "stdout",
     "output_type": "stream",
     "text": [
      "[01:44:38] WARNING: C:/Users/Administrator/workspace/xgboost-win64_release_1.5.1/src/learner.cc:1115: Starting in XGBoost 1.3.0, the default evaluation metric used with the objective 'binary:logistic' was changed from 'error' to 'logloss'. Explicitly set eval_metric if you'd like to restore the old behavior.\n"
     ]
    }
   ],
   "source": [
    "xgb_tuned =  xgb_cv.fit(X_train,y_train)"
   ]
  },
  {
   "cell_type": "code",
   "execution_count": 185,
   "id": "d9f43c07-dadc-476a-90da-73a10086f368",
   "metadata": {},
   "outputs": [
    {
     "data": {
      "text/plain": [
       "0.9892630595338641"
      ]
     },
     "execution_count": 185,
     "metadata": {},
     "output_type": "execute_result"
    }
   ],
   "source": [
    "y_pred = xgb_tuned.predict(X_test)\n",
    "accuracy_score(y_test, y_pred)"
   ]
  },
  {
   "cell_type": "code",
   "execution_count": 186,
   "id": "36a00ac4-029e-4ac0-aa26-bd20941fc568",
   "metadata": {},
   "outputs": [],
   "source": [
    "xgbm_acc_score_tuned = accuracy_score(y_test, y_pred)"
   ]
  },
  {
   "cell_type": "code",
   "execution_count": 187,
   "id": "daf5437b-5f5b-4822-a4cb-e45e87f5129f",
   "metadata": {},
   "outputs": [],
   "source": [
    "xgbm_model_conf_matrix_tuend = confusion_matrix(y_test, y_pred)"
   ]
  },
  {
   "cell_type": "code",
   "execution_count": 188,
   "id": "baf54e11-9c33-4e8e-a7d7-9485704bf196",
   "metadata": {},
   "outputs": [
    {
     "name": "stdout",
     "output_type": "stream",
     "text": [
      "confussion matrix\n",
      "[[166288    571]\n",
      " [  3014 164021]]\n",
      "\n",
      "\n",
      "Accuracy of XGBMClassifier_tuned: 98.9263059533864 \n",
      "\n",
      "              precision    recall  f1-score   support\n",
      "\n",
      "           0       0.98      1.00      0.99    166859\n",
      "           1       1.00      0.98      0.99    167035\n",
      "\n",
      "    accuracy                           0.99    333894\n",
      "   macro avg       0.99      0.99      0.99    333894\n",
      "weighted avg       0.99      0.99      0.99    333894\n",
      "\n"
     ]
    }
   ],
   "source": [
    "print(\"confussion matrix\")\n",
    "print(xgbm_model_conf_matrix_tuend)\n",
    "print(\"\\n\")\n",
    "print(\"Accuracy of XGBMClassifier_tuned:\",xgbm_acc_score_tuned*100,'\\n')\n",
    "print(classification_report(y_test,y_pred))"
   ]
  },
  {
   "cell_type": "markdown",
   "id": "399c98ac-9bf0-47a0-bf3a-07490d7ea9a5",
   "metadata": {},
   "source": [
    "### LightGBM"
   ]
  },
  {
   "cell_type": "code",
   "execution_count": 105,
   "id": "7cd575b2-4a22-4c80-a490-7a7ecb1f9906",
   "metadata": {},
   "outputs": [],
   "source": [
    "lgbm_model = LGBMClassifier().fit(X_train, y_train)"
   ]
  },
  {
   "cell_type": "code",
   "execution_count": 106,
   "id": "deac21bb-3980-4504-989a-75b6e8850e0f",
   "metadata": {},
   "outputs": [
    {
     "data": {
      "text/plain": [
       "0.9898770268408537"
      ]
     },
     "execution_count": 106,
     "metadata": {},
     "output_type": "execute_result"
    }
   ],
   "source": [
    "y_pred = lgbm_model.predict(X_test)\n",
    "accuracy_score(y_test, y_pred)"
   ]
  },
  {
   "cell_type": "code",
   "execution_count": 107,
   "id": "65711a8e-2400-4b4e-b775-731e134ae58b",
   "metadata": {},
   "outputs": [],
   "source": [
    "lgbm_acc_score = accuracy_score(y_test, y_pred)"
   ]
  },
  {
   "cell_type": "code",
   "execution_count": 108,
   "id": "328d727b-d109-4027-b866-0661d9dba5ae",
   "metadata": {},
   "outputs": [],
   "source": [
    "lgbm_model_conf_matrix = confusion_matrix(y_test, y_pred)"
   ]
  },
  {
   "cell_type": "markdown",
   "id": "77e5b030-c391-45a7-862b-58fae971a50c",
   "metadata": {},
   "source": [
    "### Light GBM Confussion Matrix"
   ]
  },
  {
   "cell_type": "code",
   "execution_count": 109,
   "id": "17aed807-b762-461d-8503-79e2a5d09b93",
   "metadata": {},
   "outputs": [
    {
     "name": "stdout",
     "output_type": "stream",
     "text": [
      "confussion matrix\n",
      "[[165642   1217]\n",
      " [  2163 164872]]\n",
      "\n",
      "\n",
      "Accuracy of LGBMClassifier: 98.98770268408536 \n",
      "\n",
      "              precision    recall  f1-score   support\n",
      "\n",
      "           0       0.99      0.99      0.99    166859\n",
      "           1       0.99      0.99      0.99    167035\n",
      "\n",
      "    accuracy                           0.99    333894\n",
      "   macro avg       0.99      0.99      0.99    333894\n",
      "weighted avg       0.99      0.99      0.99    333894\n",
      "\n"
     ]
    }
   ],
   "source": [
    "print(\"confussion matrix\")\n",
    "print(lgbm_model_conf_matrix)\n",
    "print(\"\\n\")\n",
    "print(\"Accuracy of LGBMClassifier:\",lgbm_acc_score*100,'\\n')\n",
    "print(classification_report(y_test,y_pred))"
   ]
  },
  {
   "cell_type": "markdown",
   "id": "280e7c8e-a3c8-4c26-b140-fb36ab641475",
   "metadata": {},
   "source": [
    "### LGBM Model Tuning"
   ]
  },
  {
   "cell_type": "code",
   "execution_count": 196,
   "id": "94d336b3-2eb6-499c-b2af-85f3e4277b8d",
   "metadata": {},
   "outputs": [],
   "source": [
    "lgbm_params = {\n",
    "        'n_estimators': [50, 70, 100, 150, 200, 250, 500],\n",
    "        'subsample': [0.6, 0.8, 1.0],\n",
    "        'max_depth': [2, 3, 4, 5, 9, 10, 15, 20, 25, 35],\n",
    "        'learning_rate': [0.01, 0.05, 0.1, 0.5, 1],\n",
    "        'num_leaves': [2, 4, 6, 8, 10, 16, 32]}"
   ]
  },
  {
   "cell_type": "code",
   "execution_count": 100,
   "id": "9c5fd70b-39a3-48ed-82e2-450a24caa88b",
   "metadata": {},
   "outputs": [],
   "source": [
    "from sklearn.model_selection import RandomizedSearchCV"
   ]
  },
  {
   "cell_type": "code",
   "execution_count": 199,
   "id": "aabc755a-c805-4262-aa8f-925e419d4413",
   "metadata": {},
   "outputs": [],
   "source": [
    "lgbm = LGBMClassifier()\n",
    "\n",
    "lgbm_cv_model = RandomizedSearchCV(lgbm, lgbm_params, \n",
    "                             cv = 10, \n",
    "                             n_jobs = -1, \n",
    "                             verbose = 2)"
   ]
  },
  {
   "cell_type": "code",
   "execution_count": 200,
   "id": "635cebb3-5784-47b2-b3e9-5b42f1c6f8a2",
   "metadata": {
    "tags": []
   },
   "outputs": [
    {
     "name": "stdout",
     "output_type": "stream",
     "text": [
      "Fitting 10 folds for each of 10 candidates, totalling 100 fits\n"
     ]
    },
    {
     "data": {
      "text/plain": [
       "RandomizedSearchCV(cv=10, estimator=LGBMClassifier(), n_jobs=-1,\n",
       "                   param_distributions={'learning_rate': [0.01, 0.05, 0.1, 0.5,\n",
       "                                                          1],\n",
       "                                        'max_depth': [2, 3, 4, 5, 9, 10, 15, 20,\n",
       "                                                      25, 35],\n",
       "                                        'n_estimators': [50, 70, 100, 150, 200,\n",
       "                                                         250, 500],\n",
       "                                        'num_leaves': [2, 4, 6, 8, 10, 16, 32],\n",
       "                                        'subsample': [0.6, 0.8, 1.0]},\n",
       "                   verbose=2)"
      ]
     },
     "execution_count": 200,
     "metadata": {},
     "output_type": "execute_result"
    }
   ],
   "source": [
    "lgbm_cv_model.fit(X_train, y_train)"
   ]
  },
  {
   "cell_type": "code",
   "execution_count": 201,
   "id": "640441ed-6e39-428c-b2b6-f8b410f1cb11",
   "metadata": {},
   "outputs": [
    {
     "data": {
      "text/plain": [
       "{'subsample': 0.6,\n",
       " 'num_leaves': 32,\n",
       " 'n_estimators': 500,\n",
       " 'max_depth': 10,\n",
       " 'learning_rate': 0.1}"
      ]
     },
     "execution_count": 201,
     "metadata": {},
     "output_type": "execute_result"
    }
   ],
   "source": [
    "lgbm_cv_model.best_params_"
   ]
  },
  {
   "cell_type": "code",
   "execution_count": 87,
   "id": "17da2e65-4b98-45bc-9997-063f4fd21772",
   "metadata": {},
   "outputs": [],
   "source": [
    "lgbm_tune = LGBMClassifier(learning_rate = 0.1, \n",
    "                       max_depth = 10,\n",
    "                       subsample = 0.6,\n",
    "                       n_estimators = 500,\n",
    "                       num_leaves= 32)"
   ]
  },
  {
   "cell_type": "code",
   "execution_count": 88,
   "id": "30d5b06e-d98f-498f-bb7c-94f6f6968889",
   "metadata": {},
   "outputs": [],
   "source": [
    "lgbm_tuned = lgbm_tune.fit(X_train,y_train)"
   ]
  },
  {
   "cell_type": "code",
   "execution_count": 89,
   "id": "82894f9a-8ef9-42ae-9b34-993906ba525f",
   "metadata": {},
   "outputs": [
    {
     "data": {
      "text/plain": [
       "0.9898141326289182"
      ]
     },
     "execution_count": 89,
     "metadata": {},
     "output_type": "execute_result"
    }
   ],
   "source": [
    "y_pred = lgbm_tuned.predict(X_test)\n",
    "accuracy_score(y_test, y_pred)"
   ]
  },
  {
   "cell_type": "markdown",
   "id": "dff44256-729a-459e-8a02-7679ccdeb95d",
   "metadata": {},
   "source": [
    "### LGBM Tuned Confussion Matrix"
   ]
  },
  {
   "cell_type": "code",
   "execution_count": 88,
   "id": "f2bf17fb-1730-49d9-891c-5b1b4ddac0db",
   "metadata": {},
   "outputs": [],
   "source": [
    "lgbm_acc_score_tuned = accuracy_score(y_test, y_pred)"
   ]
  },
  {
   "cell_type": "code",
   "execution_count": 89,
   "id": "51c5b153-719e-42d2-afd3-b7fd2da96cbd",
   "metadata": {},
   "outputs": [],
   "source": [
    "lgbm_model_conf_matrix_tuned = confusion_matrix(y_test, y_pred)"
   ]
  },
  {
   "cell_type": "code",
   "execution_count": 90,
   "id": "9f7e3422-7d80-4150-aa97-cea6b883de8a",
   "metadata": {},
   "outputs": [
    {
     "name": "stdout",
     "output_type": "stream",
     "text": [
      "confussion matrix\n",
      "[[165638   1221]\n",
      " [  2180 164855]]\n",
      "\n",
      "\n",
      "Accuracy of LGBMClassifier_tuned: 98.98141326289182 \n",
      "\n",
      "              precision    recall  f1-score   support\n",
      "\n",
      "           0       0.99      0.99      0.99    166859\n",
      "           1       0.99      0.99      0.99    167035\n",
      "\n",
      "    accuracy                           0.99    333894\n",
      "   macro avg       0.99      0.99      0.99    333894\n",
      "weighted avg       0.99      0.99      0.99    333894\n",
      "\n"
     ]
    }
   ],
   "source": [
    "print(\"confussion matrix\")\n",
    "print(lgbm_model_conf_matrix_tuned)\n",
    "print(\"\\n\")\n",
    "print(\"Accuracy of LGBMClassifier_tuned:\",lgbm_acc_score_tuned*100,'\\n')\n",
    "print(classification_report(y_test,y_pred))"
   ]
  },
  {
   "cell_type": "markdown",
   "id": "40615031-5804-4d65-9b32-43496027d696",
   "metadata": {},
   "source": [
    "### XGBOOST Model Tuning"
   ]
  },
  {
   "cell_type": "code",
   "execution_count": 212,
   "id": "9dcb2436-d4d9-435e-8c28-89a321c7fe91",
   "metadata": {},
   "outputs": [],
   "source": [
    "xgbm_params = {\n",
    "        'n_estimators': [50, 70, 100, 150, 200, 250, 500],\n",
    "        'max_depth': [2, 3, 4, 5, 9, 10, 15, 20, 25, 35],\n",
    "        'gamma' : [0.5, 1, 1.5, 2, 5]}"
   ]
  },
  {
   "cell_type": "code",
   "execution_count": 213,
   "id": "b1b051f3-c062-4251-8455-efee1b3fea89",
   "metadata": {},
   "outputs": [],
   "source": [
    "xgbm = XGBClassifier()\n",
    "\n",
    "xgbm_cv_model = RandomizedSearchCV(xgbm, xgbm_params, \n",
    "                             cv = 10, \n",
    "                             n_jobs = -1, \n",
    "                             verbose = 2)"
   ]
  },
  {
   "cell_type": "code",
   "execution_count": 214,
   "id": "95996418-f8ba-4c04-b93c-459c72aa5116",
   "metadata": {
    "collapsed": true,
    "jupyter": {
     "outputs_hidden": true
    },
    "tags": []
   },
   "outputs": [
    {
     "name": "stdout",
     "output_type": "stream",
     "text": [
      "Fitting 10 folds for each of 10 candidates, totalling 100 fits\n"
     ]
    },
    {
     "name": "stderr",
     "output_type": "stream",
     "text": [
      "C:\\Users\\Erkut\\anaconda3\\lib\\site-packages\\xgboost\\sklearn.py:1224: UserWarning: The use of label encoder in XGBClassifier is deprecated and will be removed in a future release. To remove this warning, do the following: 1) Pass option use_label_encoder=False when constructing XGBClassifier object; and 2) Encode your labels (y) as integers starting with 0, i.e. 0, 1, 2, ..., [num_class - 1].\n",
      "  warnings.warn(label_encoder_deprecation_msg, UserWarning)\n"
     ]
    },
    {
     "name": "stdout",
     "output_type": "stream",
     "text": [
      "[04:59:30] WARNING: C:/Users/Administrator/workspace/xgboost-win64_release_1.5.1/src/learner.cc:1115: Starting in XGBoost 1.3.0, the default evaluation metric used with the objective 'binary:logistic' was changed from 'error' to 'logloss'. Explicitly set eval_metric if you'd like to restore the old behavior.\n"
     ]
    },
    {
     "data": {
      "text/plain": [
       "RandomizedSearchCV(cv=10,\n",
       "                   estimator=XGBClassifier(base_score=None, booster=None,\n",
       "                                           colsample_bylevel=None,\n",
       "                                           colsample_bynode=None,\n",
       "                                           colsample_bytree=None,\n",
       "                                           enable_categorical=False, gamma=None,\n",
       "                                           gpu_id=None, importance_type=None,\n",
       "                                           interaction_constraints=None,\n",
       "                                           learning_rate=None,\n",
       "                                           max_delta_step=None, max_depth=None,\n",
       "                                           min_child_weight=None, missing=nan,\n",
       "                                           monotone_constraint...\n",
       "                                           n_estimators=100, n_jobs=None,\n",
       "                                           num_parallel_tree=None,\n",
       "                                           predictor=None, random_state=None,\n",
       "                                           reg_alpha=None, reg_lambda=None,\n",
       "                                           scale_pos_weight=None,\n",
       "                                           subsample=None, tree_method=None,\n",
       "                                           validate_parameters=None,\n",
       "                                           verbosity=None),\n",
       "                   n_jobs=-1,\n",
       "                   param_distributions={'gamma': [0.5, 1, 1.5, 2, 5],\n",
       "                                        'max_depth': [2, 3, 4, 5, 9, 10, 15, 20,\n",
       "                                                      25, 35],\n",
       "                                        'n_estimators': [50, 70, 100, 150, 200,\n",
       "                                                         250, 500]},\n",
       "                   verbose=2)"
      ]
     },
     "execution_count": 214,
     "metadata": {},
     "output_type": "execute_result"
    }
   ],
   "source": [
    "xgbm_cv_model.fit(X_train, y_train)"
   ]
  },
  {
   "cell_type": "code",
   "execution_count": 215,
   "id": "c07e5a24-4002-48e1-8223-0fb496eec60d",
   "metadata": {},
   "outputs": [
    {
     "data": {
      "text/plain": [
       "{'n_estimators': 200, 'max_depth': 25, 'gamma': 5}"
      ]
     },
     "execution_count": 215,
     "metadata": {},
     "output_type": "execute_result"
    }
   ],
   "source": [
    "xgbm_cv_model.best_params_"
   ]
  },
  {
   "cell_type": "code",
   "execution_count": 90,
   "id": "7148192b-63c9-455e-9637-75c1014a9208",
   "metadata": {},
   "outputs": [],
   "source": [
    "xgbm_tune = XGBClassifier(max_depth = 25,\n",
    "                       gamma = 5,\n",
    "                       n_estimators = 200)"
   ]
  },
  {
   "cell_type": "code",
   "execution_count": 91,
   "id": "484e0912-8deb-4303-b0f6-56910d0e5b5e",
   "metadata": {
    "collapsed": true,
    "jupyter": {
     "outputs_hidden": true
    },
    "tags": []
   },
   "outputs": [
    {
     "name": "stderr",
     "output_type": "stream",
     "text": [
      "C:\\Users\\Erkut\\anaconda3\\lib\\site-packages\\xgboost\\sklearn.py:1224: UserWarning: The use of label encoder in XGBClassifier is deprecated and will be removed in a future release. To remove this warning, do the following: 1) Pass option use_label_encoder=False when constructing XGBClassifier object; and 2) Encode your labels (y) as integers starting with 0, i.e. 0, 1, 2, ..., [num_class - 1].\n",
      "  warnings.warn(label_encoder_deprecation_msg, UserWarning)\n"
     ]
    },
    {
     "name": "stdout",
     "output_type": "stream",
     "text": [
      "[12:35:40] WARNING: C:/Users/Administrator/workspace/xgboost-win64_release_1.5.1/src/learner.cc:1115: Starting in XGBoost 1.3.0, the default evaluation metric used with the objective 'binary:logistic' was changed from 'error' to 'logloss'. Explicitly set eval_metric if you'd like to restore the old behavior.\n"
     ]
    }
   ],
   "source": [
    "xgbm_tuned = xgbm_tune.fit(X_train,y_train)"
   ]
  },
  {
   "cell_type": "code",
   "execution_count": 92,
   "id": "5e79a4b6-9d6a-4fad-82e0-9760ec3b5ea9",
   "metadata": {},
   "outputs": [
    {
     "data": {
      "text/plain": [
       "0.9897811880417139"
      ]
     },
     "execution_count": 92,
     "metadata": {},
     "output_type": "execute_result"
    }
   ],
   "source": [
    "y_pred = xgbm_tuned.predict(X_test)\n",
    "accuracy_score(y_test, y_pred)"
   ]
  },
  {
   "cell_type": "code",
   "execution_count": 93,
   "id": "cd5fd475-2a30-4bc1-8ec1-7d4fb152cc95",
   "metadata": {},
   "outputs": [],
   "source": [
    "xgbm_acc_score_tuned = accuracy_score(y_test, y_pred)"
   ]
  },
  {
   "cell_type": "code",
   "execution_count": 97,
   "id": "41a83c01-0445-4fdd-bb37-f54391c2a982",
   "metadata": {},
   "outputs": [],
   "source": [
    "xgbm_model_conf_matrix_tuned = confusion_matrix(y_test, y_pred)"
   ]
  },
  {
   "cell_type": "markdown",
   "id": "28239f9c-e077-4518-831a-24ebe81b329b",
   "metadata": {},
   "source": [
    "### XGBOOST Tuned Confussion Matrix"
   ]
  },
  {
   "cell_type": "code",
   "execution_count": 98,
   "id": "024cd350-7700-4dae-98cf-c9bb01b7e39b",
   "metadata": {},
   "outputs": [
    {
     "name": "stdout",
     "output_type": "stream",
     "text": [
      "confussion matrix\n",
      "[[165630   1229]\n",
      " [  2183 164852]]\n",
      "\n",
      "\n",
      "Accuracy of XGBMClassifier_tuned: 98.97811880417139 \n",
      "\n",
      "              precision    recall  f1-score   support\n",
      "\n",
      "           0       0.99      0.99      0.99    166859\n",
      "           1       0.99      0.99      0.99    167035\n",
      "\n",
      "    accuracy                           0.99    333894\n",
      "   macro avg       0.99      0.99      0.99    333894\n",
      "weighted avg       0.99      0.99      0.99    333894\n",
      "\n"
     ]
    }
   ],
   "source": [
    "print(\"confussion matrix\")\n",
    "print(xgbm_model_conf_matrix_tuned)\n",
    "print(\"\\n\")\n",
    "print(\"Accuracy of XGBMClassifier_tuned:\",xgbm_acc_score_tuned*100,'\\n')\n",
    "print(classification_report(y_test,y_pred))"
   ]
  },
  {
   "cell_type": "markdown",
   "id": "6c058c84-ee85-4435-adb5-550503b47bb6",
   "metadata": {},
   "source": [
    "### GBM Model Tuning"
   ]
  },
  {
   "cell_type": "code",
   "execution_count": 91,
   "id": "c1e2d25c-7241-4790-85a3-7f45855cf82a",
   "metadata": {},
   "outputs": [],
   "source": [
    "gbm_params = {\n",
    "                'max_depth' : [2, 3, 4, 5, 9, 10, 15, 20, 25, 35],\n",
    "                'min_samples_leaf' : [1, 3, 2, 4, 5],\n",
    "                'min_samples_split' : [2, 3, 4, 5, 10]}"
   ]
  },
  {
   "cell_type": "code",
   "execution_count": 92,
   "id": "89a9ab20-00f8-4680-a266-47b4f16b16cb",
   "metadata": {},
   "outputs": [],
   "source": [
    "gbm = GradientBoostingClassifier()"
   ]
  },
  {
   "cell_type": "code",
   "execution_count": 93,
   "id": "1515028f-e45b-4128-8ab9-6ae388eaa618",
   "metadata": {},
   "outputs": [],
   "source": [
    "gbm_cv_model = RandomizedSearchCV(gbm, gbm_params, \n",
    "                             cv = 5, \n",
    "                             n_jobs = -1, \n",
    "                             verbose = 2)"
   ]
  },
  {
   "cell_type": "code",
   "execution_count": 94,
   "id": "305717dc-776d-478a-b420-c2249393cefa",
   "metadata": {},
   "outputs": [
    {
     "name": "stdout",
     "output_type": "stream",
     "text": [
      "Fitting 5 folds for each of 10 candidates, totalling 50 fits\n"
     ]
    },
    {
     "data": {
      "text/plain": [
       "RandomizedSearchCV(cv=5, estimator=GradientBoostingClassifier(), n_jobs=-1,\n",
       "                   param_distributions={'max_depth': [2, 3, 4, 5, 9, 10, 15, 20,\n",
       "                                                      25, 35],\n",
       "                                        'min_samples_leaf': [1, 3, 2, 4, 5],\n",
       "                                        'min_samples_split': [2, 3, 4, 5, 10]},\n",
       "                   verbose=2)"
      ]
     },
     "execution_count": 94,
     "metadata": {},
     "output_type": "execute_result"
    }
   ],
   "source": [
    "gbm_cv_model.fit(X_train, y_train)"
   ]
  },
  {
   "cell_type": "code",
   "execution_count": 95,
   "id": "9e2b1d1f-0fd7-4dc2-bc78-e089e1621056",
   "metadata": {},
   "outputs": [
    {
     "data": {
      "text/plain": [
       "{'min_samples_split': 3, 'min_samples_leaf': 1, 'max_depth': 3}"
      ]
     },
     "execution_count": 95,
     "metadata": {},
     "output_type": "execute_result"
    }
   ],
   "source": [
    "gbm_cv_model.best_params_"
   ]
  },
  {
   "cell_type": "code",
   "execution_count": 94,
   "id": "324c2d3b-39dd-4c3a-aa12-0c17a91bedf7",
   "metadata": {},
   "outputs": [],
   "source": [
    "gbm_tune = GradientBoostingClassifier(max_depth = 3,\n",
    "                       min_samples_split = 3,\n",
    "                       min_samples_leaf = 1)"
   ]
  },
  {
   "cell_type": "code",
   "execution_count": 95,
   "id": "f2cce4c8-aeb7-40bf-ac7e-284e8a641249",
   "metadata": {},
   "outputs": [],
   "source": [
    "gbm_tuned = gbm_tune.fit(X_train,y_train)"
   ]
  },
  {
   "cell_type": "code",
   "execution_count": 96,
   "id": "5fdb3329-4f14-45f8-bb55-91f659fcd7b5",
   "metadata": {},
   "outputs": [
    {
     "data": {
      "text/plain": [
       "0.9897452484920364"
      ]
     },
     "execution_count": 96,
     "metadata": {},
     "output_type": "execute_result"
    }
   ],
   "source": [
    "y_pred = gbm_tuned.predict(X_test)\n",
    "accuracy_score(y_test, y_pred)"
   ]
  },
  {
   "cell_type": "code",
   "execution_count": 97,
   "id": "dee64a2b-8219-490f-ae18-556f8ca74db1",
   "metadata": {},
   "outputs": [],
   "source": [
    "gbm_acc_score_tuned = accuracy_score(y_test, y_pred)"
   ]
  },
  {
   "cell_type": "code",
   "execution_count": 98,
   "id": "72a694c6-d31f-4f5f-b508-f063e8ecd128",
   "metadata": {},
   "outputs": [],
   "source": [
    "gbm_model_conf_matrix_tuned = confusion_matrix(y_test, y_pred)"
   ]
  },
  {
   "cell_type": "markdown",
   "id": "3f28266c-a757-4c4f-ad76-931ef6aa6d35",
   "metadata": {},
   "source": [
    "### GBM TUNED Confussion Matrix"
   ]
  },
  {
   "cell_type": "code",
   "execution_count": 114,
   "id": "31b8a075-932c-48ff-8416-2541ae68c207",
   "metadata": {},
   "outputs": [
    {
     "name": "stdout",
     "output_type": "stream",
     "text": [
      "confussion matrix\n",
      "[[165369   1490]\n",
      " [  1934 165101]]\n",
      "\n",
      "\n",
      "Accuracy of GBMClassifier_tuned: 98.97452484920363 \n",
      "\n",
      "              precision    recall  f1-score   support\n",
      "\n",
      "           0       0.99      0.99      0.99    166859\n",
      "           1       0.99      0.99      0.99    167035\n",
      "\n",
      "    accuracy                           0.99    333894\n",
      "   macro avg       0.99      0.99      0.99    333894\n",
      "weighted avg       0.99      0.99      0.99    333894\n",
      "\n"
     ]
    }
   ],
   "source": [
    "print(\"confussion matrix\")\n",
    "print(gbm_model_conf_matrix_tuned)\n",
    "print(\"\\n\")\n",
    "print(\"Accuracy of GBMClassifier_tuned:\",gbm_acc_score_tuned*100,'\\n')\n",
    "print(classification_report(y_test,y_pred))"
   ]
  },
  {
   "cell_type": "markdown",
   "id": "7f6f22fd-c7f2-4000-a9a1-d4dfca222f5a",
   "metadata": {
    "tags": []
   },
   "source": [
    "### Super Learner (Stacking) Application"
   ]
  },
  {
   "cell_type": "code",
   "execution_count": 99,
   "id": "ec2c8775-6782-4a3b-a452-dce8784fa6b5",
   "metadata": {},
   "outputs": [],
   "source": [
    "from mlxtend.classifier import StackingCVClassifier"
   ]
  },
  {
   "cell_type": "code",
   "execution_count": 100,
   "id": "2043a80b-45e0-40d0-912a-48f47ed3816c",
   "metadata": {},
   "outputs": [],
   "source": [
    "y = s_df[\"icu\"]\n",
    "X = s_df.drop(['icu'], axis=1)\n",
    "X = pd.DataFrame(X)\n",
    "X_train, X_test, y_train, y_test = train_test_split(X, y, \n",
    "                                                    test_size=0.30, \n",
    "                                                    random_state=42)"
   ]
  },
  {
   "cell_type": "code",
   "execution_count": 101,
   "id": "d4f46b0c-36aa-4530-a107-8a4663cb8239",
   "metadata": {},
   "outputs": [],
   "source": [
    "classifier1 = GradientBoostingClassifier(max_depth = 3,\n",
    "                       min_samples_split = 3,\n",
    "                       min_samples_leaf = 1)"
   ]
  },
  {
   "cell_type": "code",
   "execution_count": 102,
   "id": "8d448378-49a8-45c6-9487-236b36da3261",
   "metadata": {},
   "outputs": [],
   "source": [
    "classifier2 = XGBClassifier(max_depth = 25,\n",
    "                       gamma = 5,\n",
    "                       n_estimators = 200)"
   ]
  },
  {
   "cell_type": "code",
   "execution_count": 103,
   "id": "eef70ab7-510c-4827-af6b-cc1700507d3d",
   "metadata": {},
   "outputs": [],
   "source": [
    "classifier3 = LGBMClassifier(learning_rate = 0.1, \n",
    "                       max_depth = 10,\n",
    "                       subsample = 0.6,\n",
    "                       n_estimators = 500,\n",
    "                       num_leaves= 32)"
   ]
  },
  {
   "cell_type": "code",
   "execution_count": 104,
   "id": "2149539c-b115-443c-989e-dbc02f96b87e",
   "metadata": {},
   "outputs": [],
   "source": [
    "sclf = StackingCVClassifier(classifiers = [classifier1,classifier2],\n",
    "                            shuffle = False,\n",
    "                            use_probas = True,\n",
    "                            cv = 10,\n",
    "                            meta_classifier =classifier3)"
   ]
  },
  {
   "cell_type": "code",
   "execution_count": 105,
   "id": "c6a1fae7-0678-4499-8825-638b002a2d67",
   "metadata": {
    "collapsed": true,
    "jupyter": {
     "outputs_hidden": true
    },
    "tags": []
   },
   "outputs": [
    {
     "name": "stderr",
     "output_type": "stream",
     "text": [
      "C:\\Users\\Erkut\\anaconda3\\lib\\site-packages\\xgboost\\sklearn.py:1224: UserWarning: The use of label encoder in XGBClassifier is deprecated and will be removed in a future release. To remove this warning, do the following: 1) Pass option use_label_encoder=False when constructing XGBClassifier object; and 2) Encode your labels (y) as integers starting with 0, i.e. 0, 1, 2, ..., [num_class - 1].\n",
      "  warnings.warn(label_encoder_deprecation_msg, UserWarning)\n"
     ]
    },
    {
     "name": "stdout",
     "output_type": "stream",
     "text": [
      "[12:57:02] WARNING: C:/Users/Administrator/workspace/xgboost-win64_release_1.5.1/src/learner.cc:1115: Starting in XGBoost 1.3.0, the default evaluation metric used with the objective 'binary:logistic' was changed from 'error' to 'logloss'. Explicitly set eval_metric if you'd like to restore the old behavior.\n"
     ]
    },
    {
     "name": "stderr",
     "output_type": "stream",
     "text": [
      "C:\\Users\\Erkut\\anaconda3\\lib\\site-packages\\xgboost\\sklearn.py:1224: UserWarning: The use of label encoder in XGBClassifier is deprecated and will be removed in a future release. To remove this warning, do the following: 1) Pass option use_label_encoder=False when constructing XGBClassifier object; and 2) Encode your labels (y) as integers starting with 0, i.e. 0, 1, 2, ..., [num_class - 1].\n",
      "  warnings.warn(label_encoder_deprecation_msg, UserWarning)\n"
     ]
    },
    {
     "name": "stdout",
     "output_type": "stream",
     "text": [
      "[13:00:38] WARNING: C:/Users/Administrator/workspace/xgboost-win64_release_1.5.1/src/learner.cc:1115: Starting in XGBoost 1.3.0, the default evaluation metric used with the objective 'binary:logistic' was changed from 'error' to 'logloss'. Explicitly set eval_metric if you'd like to restore the old behavior.\n"
     ]
    },
    {
     "name": "stderr",
     "output_type": "stream",
     "text": [
      "C:\\Users\\Erkut\\anaconda3\\lib\\site-packages\\xgboost\\sklearn.py:1224: UserWarning: The use of label encoder in XGBClassifier is deprecated and will be removed in a future release. To remove this warning, do the following: 1) Pass option use_label_encoder=False when constructing XGBClassifier object; and 2) Encode your labels (y) as integers starting with 0, i.e. 0, 1, 2, ..., [num_class - 1].\n",
      "  warnings.warn(label_encoder_deprecation_msg, UserWarning)\n"
     ]
    },
    {
     "name": "stdout",
     "output_type": "stream",
     "text": [
      "[13:04:13] WARNING: C:/Users/Administrator/workspace/xgboost-win64_release_1.5.1/src/learner.cc:1115: Starting in XGBoost 1.3.0, the default evaluation metric used with the objective 'binary:logistic' was changed from 'error' to 'logloss'. Explicitly set eval_metric if you'd like to restore the old behavior.\n"
     ]
    },
    {
     "name": "stderr",
     "output_type": "stream",
     "text": [
      "C:\\Users\\Erkut\\anaconda3\\lib\\site-packages\\xgboost\\sklearn.py:1224: UserWarning: The use of label encoder in XGBClassifier is deprecated and will be removed in a future release. To remove this warning, do the following: 1) Pass option use_label_encoder=False when constructing XGBClassifier object; and 2) Encode your labels (y) as integers starting with 0, i.e. 0, 1, 2, ..., [num_class - 1].\n",
      "  warnings.warn(label_encoder_deprecation_msg, UserWarning)\n"
     ]
    },
    {
     "name": "stdout",
     "output_type": "stream",
     "text": [
      "[13:08:02] WARNING: C:/Users/Administrator/workspace/xgboost-win64_release_1.5.1/src/learner.cc:1115: Starting in XGBoost 1.3.0, the default evaluation metric used with the objective 'binary:logistic' was changed from 'error' to 'logloss'. Explicitly set eval_metric if you'd like to restore the old behavior.\n"
     ]
    },
    {
     "name": "stderr",
     "output_type": "stream",
     "text": [
      "C:\\Users\\Erkut\\anaconda3\\lib\\site-packages\\xgboost\\sklearn.py:1224: UserWarning: The use of label encoder in XGBClassifier is deprecated and will be removed in a future release. To remove this warning, do the following: 1) Pass option use_label_encoder=False when constructing XGBClassifier object; and 2) Encode your labels (y) as integers starting with 0, i.e. 0, 1, 2, ..., [num_class - 1].\n",
      "  warnings.warn(label_encoder_deprecation_msg, UserWarning)\n"
     ]
    },
    {
     "name": "stdout",
     "output_type": "stream",
     "text": [
      "[13:12:08] WARNING: C:/Users/Administrator/workspace/xgboost-win64_release_1.5.1/src/learner.cc:1115: Starting in XGBoost 1.3.0, the default evaluation metric used with the objective 'binary:logistic' was changed from 'error' to 'logloss'. Explicitly set eval_metric if you'd like to restore the old behavior.\n"
     ]
    },
    {
     "name": "stderr",
     "output_type": "stream",
     "text": [
      "C:\\Users\\Erkut\\anaconda3\\lib\\site-packages\\xgboost\\sklearn.py:1224: UserWarning: The use of label encoder in XGBClassifier is deprecated and will be removed in a future release. To remove this warning, do the following: 1) Pass option use_label_encoder=False when constructing XGBClassifier object; and 2) Encode your labels (y) as integers starting with 0, i.e. 0, 1, 2, ..., [num_class - 1].\n",
      "  warnings.warn(label_encoder_deprecation_msg, UserWarning)\n"
     ]
    },
    {
     "name": "stdout",
     "output_type": "stream",
     "text": [
      "[13:16:09] WARNING: C:/Users/Administrator/workspace/xgboost-win64_release_1.5.1/src/learner.cc:1115: Starting in XGBoost 1.3.0, the default evaluation metric used with the objective 'binary:logistic' was changed from 'error' to 'logloss'. Explicitly set eval_metric if you'd like to restore the old behavior.\n"
     ]
    },
    {
     "name": "stderr",
     "output_type": "stream",
     "text": [
      "C:\\Users\\Erkut\\anaconda3\\lib\\site-packages\\xgboost\\sklearn.py:1224: UserWarning: The use of label encoder in XGBClassifier is deprecated and will be removed in a future release. To remove this warning, do the following: 1) Pass option use_label_encoder=False when constructing XGBClassifier object; and 2) Encode your labels (y) as integers starting with 0, i.e. 0, 1, 2, ..., [num_class - 1].\n",
      "  warnings.warn(label_encoder_deprecation_msg, UserWarning)\n"
     ]
    },
    {
     "name": "stdout",
     "output_type": "stream",
     "text": [
      "[13:20:10] WARNING: C:/Users/Administrator/workspace/xgboost-win64_release_1.5.1/src/learner.cc:1115: Starting in XGBoost 1.3.0, the default evaluation metric used with the objective 'binary:logistic' was changed from 'error' to 'logloss'. Explicitly set eval_metric if you'd like to restore the old behavior.\n"
     ]
    },
    {
     "name": "stderr",
     "output_type": "stream",
     "text": [
      "C:\\Users\\Erkut\\anaconda3\\lib\\site-packages\\xgboost\\sklearn.py:1224: UserWarning: The use of label encoder in XGBClassifier is deprecated and will be removed in a future release. To remove this warning, do the following: 1) Pass option use_label_encoder=False when constructing XGBClassifier object; and 2) Encode your labels (y) as integers starting with 0, i.e. 0, 1, 2, ..., [num_class - 1].\n",
      "  warnings.warn(label_encoder_deprecation_msg, UserWarning)\n"
     ]
    },
    {
     "name": "stdout",
     "output_type": "stream",
     "text": [
      "[13:24:08] WARNING: C:/Users/Administrator/workspace/xgboost-win64_release_1.5.1/src/learner.cc:1115: Starting in XGBoost 1.3.0, the default evaluation metric used with the objective 'binary:logistic' was changed from 'error' to 'logloss'. Explicitly set eval_metric if you'd like to restore the old behavior.\n"
     ]
    },
    {
     "name": "stderr",
     "output_type": "stream",
     "text": [
      "C:\\Users\\Erkut\\anaconda3\\lib\\site-packages\\xgboost\\sklearn.py:1224: UserWarning: The use of label encoder in XGBClassifier is deprecated and will be removed in a future release. To remove this warning, do the following: 1) Pass option use_label_encoder=False when constructing XGBClassifier object; and 2) Encode your labels (y) as integers starting with 0, i.e. 0, 1, 2, ..., [num_class - 1].\n",
      "  warnings.warn(label_encoder_deprecation_msg, UserWarning)\n"
     ]
    },
    {
     "name": "stdout",
     "output_type": "stream",
     "text": [
      "[13:28:12] WARNING: C:/Users/Administrator/workspace/xgboost-win64_release_1.5.1/src/learner.cc:1115: Starting in XGBoost 1.3.0, the default evaluation metric used with the objective 'binary:logistic' was changed from 'error' to 'logloss'. Explicitly set eval_metric if you'd like to restore the old behavior.\n"
     ]
    },
    {
     "name": "stderr",
     "output_type": "stream",
     "text": [
      "C:\\Users\\Erkut\\anaconda3\\lib\\site-packages\\xgboost\\sklearn.py:1224: UserWarning: The use of label encoder in XGBClassifier is deprecated and will be removed in a future release. To remove this warning, do the following: 1) Pass option use_label_encoder=False when constructing XGBClassifier object; and 2) Encode your labels (y) as integers starting with 0, i.e. 0, 1, 2, ..., [num_class - 1].\n",
      "  warnings.warn(label_encoder_deprecation_msg, UserWarning)\n"
     ]
    },
    {
     "name": "stdout",
     "output_type": "stream",
     "text": [
      "[13:32:14] WARNING: C:/Users/Administrator/workspace/xgboost-win64_release_1.5.1/src/learner.cc:1115: Starting in XGBoost 1.3.0, the default evaluation metric used with the objective 'binary:logistic' was changed from 'error' to 'logloss'. Explicitly set eval_metric if you'd like to restore the old behavior.\n"
     ]
    },
    {
     "name": "stderr",
     "output_type": "stream",
     "text": [
      "C:\\Users\\Erkut\\anaconda3\\lib\\site-packages\\xgboost\\sklearn.py:1224: UserWarning: The use of label encoder in XGBClassifier is deprecated and will be removed in a future release. To remove this warning, do the following: 1) Pass option use_label_encoder=False when constructing XGBClassifier object; and 2) Encode your labels (y) as integers starting with 0, i.e. 0, 1, 2, ..., [num_class - 1].\n",
      "  warnings.warn(label_encoder_deprecation_msg, UserWarning)\n"
     ]
    },
    {
     "name": "stdout",
     "output_type": "stream",
     "text": [
      "[13:37:18] WARNING: C:/Users/Administrator/workspace/xgboost-win64_release_1.5.1/src/learner.cc:1115: Starting in XGBoost 1.3.0, the default evaluation metric used with the objective 'binary:logistic' was changed from 'error' to 'logloss'. Explicitly set eval_metric if you'd like to restore the old behavior.\n"
     ]
    },
    {
     "data": {
      "text/plain": [
       "StackingCVClassifier(classifiers=[GradientBoostingClassifier(min_samples_split=3),\n",
       "                                  XGBClassifier(base_score=None, booster=None,\n",
       "                                                colsample_bylevel=None,\n",
       "                                                colsample_bynode=None,\n",
       "                                                colsample_bytree=None,\n",
       "                                                enable_categorical=False,\n",
       "                                                gamma=5, gpu_id=None,\n",
       "                                                importance_type=None,\n",
       "                                                interaction_constraints=None,\n",
       "                                                learning_rate=None,\n",
       "                                                max_delta_step=None,\n",
       "                                                max_depth=25,\n",
       "                                                min_child_w...\n",
       "                                                monotone_constraints=None,\n",
       "                                                n_estimators=200, n_jobs=None,\n",
       "                                                num_parallel_tree=None,\n",
       "                                                predictor=None,\n",
       "                                                random_state=None,\n",
       "                                                reg_alpha=None, reg_lambda=None,\n",
       "                                                scale_pos_weight=None,\n",
       "                                                subsample=None,\n",
       "                                                tree_method=None,\n",
       "                                                validate_parameters=None,\n",
       "                                                verbosity=None)],\n",
       "                     cv=10,\n",
       "                     meta_classifier=LGBMClassifier(max_depth=10,\n",
       "                                                    n_estimators=500,\n",
       "                                                    num_leaves=32,\n",
       "                                                    subsample=0.6),\n",
       "                     shuffle=False, use_probas=True)"
      ]
     },
     "execution_count": 105,
     "metadata": {},
     "output_type": "execute_result"
    }
   ],
   "source": [
    "sclf.fit(X_train,y_train)"
   ]
  },
  {
   "cell_type": "code",
   "execution_count": 106,
   "id": "45f5db39-ad91-4d8d-8052-05c1ded4d109",
   "metadata": {},
   "outputs": [],
   "source": [
    "y_pred = sclf.predict(X_test)"
   ]
  },
  {
   "cell_type": "code",
   "execution_count": 108,
   "id": "8d2d9524-6b1b-4a7b-86b7-9acb41171720",
   "metadata": {},
   "outputs": [],
   "source": [
    "sclf_conf_matrix = confusion_matrix(y_test, y_pred)"
   ]
  },
  {
   "cell_type": "code",
   "execution_count": 109,
   "id": "cf3c5395-e535-41fc-a58a-94ba0014942f",
   "metadata": {},
   "outputs": [],
   "source": [
    "sclf_acc_score = accuracy_score(y_test, y_pred)"
   ]
  },
  {
   "cell_type": "code",
   "execution_count": 110,
   "id": "9d57b87f-74b2-4624-810c-25e89cb3389f",
   "metadata": {},
   "outputs": [
    {
     "name": "stdout",
     "output_type": "stream",
     "text": [
      "confussion matrix\n",
      "[[165649   1210]\n",
      " [  2183 164852]]\n",
      "\n",
      "\n",
      "Accuracy of StackingCVClassifier: 98.98380923287031 \n",
      "\n",
      "              precision    recall  f1-score   support\n",
      "\n",
      "           0       0.99      0.99      0.99    166859\n",
      "           1       0.99      0.99      0.99    167035\n",
      "\n",
      "    accuracy                           0.99    333894\n",
      "   macro avg       0.99      0.99      0.99    333894\n",
      "weighted avg       0.99      0.99      0.99    333894\n",
      "\n"
     ]
    }
   ],
   "source": [
    "print(\"confussion matrix\")\n",
    "print(sclf_conf_matrix)\n",
    "print(\"\\n\")\n",
    "print(\"Accuracy of StackingCVClassifier:\",sclf_acc_score*100,'\\n')\n",
    "print(classification_report(y_test,y_pred))"
   ]
  },
  {
   "cell_type": "markdown",
   "id": "bb006316-3026-4373-8193-acf051c0ae7e",
   "metadata": {},
   "source": [
    "### Super Learner 10 Fold CV"
   ]
  },
  {
   "cell_type": "code",
   "execution_count": 107,
   "id": "7f38489c-2d40-4349-bcb5-4b59c0103c13",
   "metadata": {},
   "outputs": [],
   "source": [
    "from sklearn.model_selection import cross_validate"
   ]
  },
  {
   "cell_type": "code",
   "execution_count": 115,
   "id": "7f9ceaf9-ed8a-4b6c-b04a-dbe7e6db2599",
   "metadata": {
    "tags": []
   },
   "outputs": [],
   "source": [
    "scores = cross_validate(sclf, X_train, y_train, cv=10, scoring='accuracy', return_train_score=True, n_jobs=-1)"
   ]
  },
  {
   "cell_type": "code",
   "execution_count": 116,
   "id": "f7b33afa-5b8b-48e7-8b29-ac25a67b5aa5",
   "metadata": {},
   "outputs": [
    {
     "name": "stdout",
     "output_type": "stream",
     "text": [
      "dict_keys(['fit_time', 'score_time', 'test_score', 'train_score'])\n"
     ]
    }
   ],
   "source": [
    "print(scores.keys())"
   ]
  },
  {
   "cell_type": "code",
   "execution_count": 117,
   "id": "7d6cd601-c2ec-4962-a074-1f27e30d2d1a",
   "metadata": {},
   "outputs": [
    {
     "name": "stdout",
     "output_type": "stream",
     "text": [
      "[0.99050739 0.98972299 0.98988415 0.98963742 0.99007526 0.99051309\n",
      " 0.99005103 0.99042896 0.99019507 0.99044893]\n"
     ]
    }
   ],
   "source": [
    "print(scores[\"train_score\"])"
   ]
  },
  {
   "cell_type": "code",
   "execution_count": 118,
   "id": "571faaa5-f614-427a-9ae7-42262fad8238",
   "metadata": {},
   "outputs": [
    {
     "name": "stdout",
     "output_type": "stream",
     "text": [
      "[0.98991131 0.98924386 0.98975728 0.98934655 0.98944923 0.98973161\n",
      " 0.9885506  0.99033475 0.98947477 0.98929507]\n"
     ]
    }
   ],
   "source": [
    "print(scores[\"test_score\"])"
   ]
  },
  {
   "cell_type": "code",
   "execution_count": null,
   "id": "1407f628-d345-449c-9da7-046ab98b019a",
   "metadata": {},
   "outputs": [],
   "source": []
  },
  {
   "cell_type": "code",
   "execution_count": null,
   "id": "39a05678-2670-4aa3-9d9b-69475928fbc9",
   "metadata": {},
   "outputs": [],
   "source": []
  }
 ],
 "metadata": {
  "kernelspec": {
   "display_name": "Python 3 (ipykernel)",
   "language": "python",
   "name": "python3"
  },
  "language_info": {
   "codemirror_mode": {
    "name": "ipython",
    "version": 3
   },
   "file_extension": ".py",
   "mimetype": "text/x-python",
   "name": "python",
   "nbconvert_exporter": "python",
   "pygments_lexer": "ipython3",
   "version": "3.9.7"
  }
 },
 "nbformat": 4,
 "nbformat_minor": 5
}
